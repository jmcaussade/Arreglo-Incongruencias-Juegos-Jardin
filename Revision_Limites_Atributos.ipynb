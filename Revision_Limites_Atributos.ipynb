{
  "nbformat": 4,
  "nbformat_minor": 0,
  "metadata": {
    "colab": {
      "provenance": [],
      "authorship_tag": "ABX9TyMCGndnRQzb1Z2QJuHxGS0T",
      "include_colab_link": true
    },
    "kernelspec": {
      "name": "python3",
      "display_name": "Python 3"
    },
    "language_info": {
      "name": "python"
    }
  },
  "cells": [
    {
      "cell_type": "markdown",
      "metadata": {
        "id": "view-in-github",
        "colab_type": "text"
      },
      "source": [
        "<a href=\"https://colab.research.google.com/github/jmcaussade/Arreglo-Incongruencias-Juegos-Jardin/blob/main/Revision_Limites_Atributos.ipynb\" target=\"_parent\"><img src=\"https://colab.research.google.com/assets/colab-badge.svg\" alt=\"Open In Colab\"/></a>"
      ]
    },
    {
      "cell_type": "code",
      "execution_count": 5,
      "metadata": {
        "colab": {
          "base_uri": "https://localhost:8080/"
        },
        "id": "l2LAUeTOnOft",
        "outputId": "a6210609-1560-47d6-d9f8-3384bf10af30"
      },
      "outputs": [
        {
          "output_type": "stream",
          "name": "stdout",
          "text": [
            "DataFrame saved to output.xlsx\n"
          ]
        }
      ],
      "source": [
        "import pandas as pd\n",
        "\n",
        "# Replace 'your_file_name.xlsx' with the name of your Excel file\n",
        "file_name = 'BandejasServir 2159.xlsx'\n",
        "sheet_name = 'Hoja1'  # Specify the sheet name\n",
        "\n",
        "# Load the specified sheet from the Excel file into a pandas DataFrame\n",
        "df = pd.read_excel(file_name, sheet_name=sheet_name)\n",
        "\n",
        "Column_Name = \"Largo\"\n",
        "Lower_Limit = 10\n",
        "Upper_Limit = 30\n",
        "\n",
        "# Strip leading and trailing spaces from all values in the DataFrame\n",
        "df = df.applymap(lambda x: x.strip() if isinstance(x, str) else x)\n",
        "\n",
        "# Strip leading and trailing spaces from column names\n",
        "df.columns = df.columns.str.strip()\n",
        "\n",
        "# Convert values in the specified column to strings\n",
        "df[Column_Name] = df[Column_Name].astype(str)\n",
        "\n",
        "# Create a new column to mark values outside the range as \"Error\" or \"Ok\"\n",
        "df[f\"\"\"Status {Column_Name}\"\"\"] = df.apply(lambda row: 'Ok' if Lower_Limit <= float(row[Column_Name]) <= Upper_Limit else 'Error', axis=1)\n",
        "\n",
        "# Save the DataFrame to a new Excel file\n",
        "output_file_name = 'output.xlsx'\n",
        "df.to_excel(output_file_name, index=False)\n",
        "\n",
        "# Optionally, print a message to indicate that the file has been saved\n",
        "print(f\"DataFrame saved to {output_file_name}\")\n"
      ]
    }
  ]
}