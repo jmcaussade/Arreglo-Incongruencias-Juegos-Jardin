{
  "nbformat": 4,
  "nbformat_minor": 0,
  "metadata": {
    "colab": {
      "provenance": [],
      "authorship_tag": "ABX9TyPrr3uugHs9V3T8Z6njHxFf",
      "include_colab_link": true
    },
    "kernelspec": {
      "name": "python3",
      "display_name": "Python 3"
    },
    "language_info": {
      "name": "python"
    }
  },
  "cells": [
    {
      "cell_type": "markdown",
      "metadata": {
        "id": "view-in-github",
        "colab_type": "text"
      },
      "source": [
        "<a href=\"https://colab.research.google.com/github/jmcaussade/Arreglo-Incongruencias-Juegos-Jardin/blob/main/ArregloAtributosJuegosMesaJardin.ipynb\" target=\"_parent\"><img src=\"https://colab.research.google.com/assets/colab-badge.svg\" alt=\"Open In Colab\"/></a>"
      ]
    },
    {
      "cell_type": "markdown",
      "source": [
        "<h1>IMPORTATIONS</h1>"
      ],
      "metadata": {
        "id": "XdQ5EhBiVmrI"
      }
    },
    {
      "cell_type": "code",
      "source": [
        "!pip install unidecode"
      ],
      "metadata": {
        "colab": {
          "base_uri": "https://localhost:8080/"
        },
        "id": "agXnUlpKtLwC",
        "outputId": "847d8ed6-a4ef-4267-c695-f2f260a314c7"
      },
      "execution_count": 2,
      "outputs": [
        {
          "output_type": "stream",
          "name": "stdout",
          "text": [
            "Collecting unidecode\n",
            "  Downloading Unidecode-1.3.7-py3-none-any.whl (235 kB)\n",
            "\u001b[2K     \u001b[90m━━━━━━━━━━━━━━━━━━━━━━━━━━━━━━━━━━━━━━━━\u001b[0m \u001b[32m235.5/235.5 kB\u001b[0m \u001b[31m2.1 MB/s\u001b[0m eta \u001b[36m0:00:00\u001b[0m\n",
            "\u001b[?25hInstalling collected packages: unidecode\n",
            "Successfully installed unidecode-1.3.7\n"
          ]
        }
      ]
    },
    {
      "cell_type": "code",
      "source": [
        "import os\n",
        "import pandas as pd\n",
        "import numpy as np\n",
        "from unidecode import unidecode"
      ],
      "metadata": {
        "id": "TgqrbVUpVlwF"
      },
      "execution_count": 3,
      "outputs": []
    },
    {
      "cell_type": "markdown",
      "source": [
        "<h1>Connection to Google Drive</h1>\n"
      ],
      "metadata": {
        "id": "ndLgWjGPTNjU"
      }
    },
    {
      "cell_type": "code",
      "source": [
        "from google.colab import drive\n",
        "drive.mount(\"/content/drive\")"
      ],
      "metadata": {
        "colab": {
          "base_uri": "https://localhost:8080/"
        },
        "id": "t4FZID_sTNJZ",
        "outputId": "a36b490a-91ae-4ba2-8c52-6bff5bac2397"
      },
      "execution_count": 4,
      "outputs": [
        {
          "output_type": "stream",
          "name": "stdout",
          "text": [
            "Mounted at /content/drive\n"
          ]
        }
      ]
    },
    {
      "cell_type": "code",
      "source": [
        "ruta = \"/content/drive/MyDrive/Sodimac/ArregloIncongruenciasJuegosJardin/JuegosJardin.xlsx\"\n",
        "df = pd.read_excel(ruta)"
      ],
      "metadata": {
        "id": "brCmGT-3iHvY"
      },
      "execution_count": 5,
      "outputs": []
    },
    {
      "cell_type": "markdown",
      "source": [
        "<h1>MAIN</h1>"
      ],
      "metadata": {
        "id": "aA8Baua6kCKV"
      }
    },
    {
      "cell_type": "markdown",
      "source": [
        "Visualization\n"
      ],
      "metadata": {
        "id": "eybBwf-el9V1"
      }
    },
    {
      "cell_type": "code",
      "source": [
        "print(df)"
      ],
      "metadata": {
        "id": "SIov8fogk8Ym"
      },
      "execution_count": null,
      "outputs": []
    },
    {
      "cell_type": "code",
      "source": [
        "df.info()"
      ],
      "metadata": {
        "id": "Fu1mIw_DkHW5"
      },
      "execution_count": null,
      "outputs": []
    },
    {
      "cell_type": "code",
      "source": [
        "df.isnull().sum()"
      ],
      "metadata": {
        "id": "GXm6cNRvkzzA"
      },
      "execution_count": null,
      "outputs": []
    },
    {
      "cell_type": "markdown",
      "source": [
        "Manipulation"
      ],
      "metadata": {
        "id": "RR96uHWemBbL"
      }
    },
    {
      "cell_type": "markdown",
      "source": [
        "Transformation to long format of \"Descripcion Local del Producto\""
      ],
      "metadata": {
        "id": "zgK1O4zgpKSm"
      }
    },
    {
      "cell_type": "code",
      "source": [
        "def PrintingDF(data_set):\n",
        "  pd.set_option('display.width', 1000)\n",
        "  print(data_set.to_string(index=False))\n",
        ""
      ],
      "metadata": {
        "id": "AS24_2l_ygwS"
      },
      "execution_count": 6,
      "outputs": []
    },
    {
      "cell_type": "code",
      "source": [
        "print(df[[\"Descripción Local del Producto\", \"Descripción Web\"]])"
      ],
      "metadata": {
        "id": "ucPmoa66mAur"
      },
      "execution_count": null,
      "outputs": []
    },
    {
      "cell_type": "code",
      "source": [
        "print(df.iloc[0][\"Descripción Web\"])\n"
      ],
      "metadata": {
        "colab": {
          "base_uri": "https://localhost:8080/"
        },
        "id": "skXWOFDUr3Fa",
        "outputId": "5b8c9a90-f94d-47e4-b106-76165c0e9464"
      },
      "execution_count": 9,
      "outputs": [
        {
          "output_type": "stream",
          "name": "stdout",
          "text": [
            "Set balcon nature turquesa Turquesa\n"
          ]
        }
      ]
    },
    {
      "cell_type": "code",
      "source": [
        "# restringienda dataframe a columnas importantes\n",
        "selected_columns = [\"SKU - Chile\", 'Descripción Web', 'Tipo de mobiliario jardín', 'Modelo', 'Número de personas', 'Color']\n",
        "clean_df = df.loc[:, selected_columns]\n",
        "\n",
        "clean_df['Número de personas'] = clean_df['Número de personas'].replace([np.inf, -np.inf], np.nan).fillna(0)\n",
        "clean_df['Número de personas'] = clean_df['Número de personas'].astype(int).astype(str)\n",
        "PrintingDF(clean_df)"
      ],
      "metadata": {
        "id": "oUVkzeZF6yBP"
      },
      "execution_count": null,
      "outputs": []
    },
    {
      "cell_type": "code",
      "source": [
        "# Add new columns for each selected column without checking if the values exist creating the \"Name column + appears\"\n",
        "\n",
        "for name_column in selected_columns[2:]:\n",
        "    clean_df.insert(clean_df.columns.get_loc(name_column) + 1, f\"{name_column} appears\", None)\n",
        "\n",
        "# Print the DataFrame with the new columns\n",
        "clean_df\n"
      ],
      "metadata": {
        "id": "9bm_XuIK2T6d"
      },
      "execution_count": null,
      "outputs": []
    },
    {
      "cell_type": "code",
      "source": [
        "#Checks if the value for each attributes appears\n",
        "# Columnas con atributos obligatorios para buscar en desc web\n",
        "selected_columns = ['Tipo de mobiliario jardín', 'Modelo', 'Número de personas', 'Color']\n",
        "\n",
        "# Function to check if all values appear in the Descripción Web column in any case\n",
        "def all_values_appear_in_web_description(row):\n",
        "    description_web = unidecode(row[\"Descripción Web\"]).lower()\n",
        "    for col in selected_columns:\n",
        "        value = unidecode(str(row[col])).lower()\n",
        "        if col == \"Tipo de mobiliario jardín\":\n",
        "            aux = value.split(\" \")\n",
        "            if len(aux) == 4:\n",
        "                value = aux[-2] + \" \" + aux[-1]\n",
        "            else:\n",
        "                value = aux[-1]\n",
        "        # Set the corresponding boolean column to True or False\n",
        "        row[f\"{col} appears\"] = value in description_web\n",
        "    # Set the \"AllValuesAppear\" column based on the condition\n",
        "    row['AllValuesAppear'] = all(row[f\"{col} appears\"] for col in selected_columns)\n",
        "    return row\n",
        "\n",
        "# Apply the function to each row\n",
        "clean_df = clean_df.apply(all_values_appear_in_web_description, axis=1)\n"
      ],
      "metadata": {
        "id": "vuieS5ij8s9O"
      },
      "execution_count": 9,
      "outputs": []
    },
    {
      "cell_type": "code",
      "source": [
        "clean_df"
      ],
      "metadata": {
        "id": "YffVv80T3MUE"
      },
      "execution_count": null,
      "outputs": []
    },
    {
      "cell_type": "code",
      "source": [
        "# highlight  all True rows\n",
        "def highlight_rows(row):\n",
        "    if row['AllValuesAppear']:\n",
        "        return ['background-color: lightgreen'] * len(row)\n",
        "    else:\n",
        "        return [''] * len(row)\n",
        "\n",
        "# Apply the custom styles to the DataFrame\n",
        "styled_df = clean_df.style.apply(highlight_rows, axis=1)\n",
        "\n",
        "# Display the styled DataFrame\n",
        "styled_df"
      ],
      "metadata": {
        "id": "EzN-SO-bv-wJ"
      },
      "execution_count": null,
      "outputs": []
    },
    {
      "cell_type": "code",
      "source": [
        "# highlight False cells in red\n",
        "def highlight_cells(value):\n",
        "    if value is False:\n",
        "        return 'background-color: red'\n",
        "    elif value is True:\n",
        "        return 'background-color: lightgreen'\n",
        "    else:\n",
        "        return ''\n",
        "\n",
        "# Apply the custom styles to the DataFrame\n",
        "styled_df = clean_df.style.applymap(highlight_cells, subset=pd.IndexSlice[:, [f\"{col} appears\" for col in selected_columns]])\n",
        "\n",
        "# Display the styled DataFrame\n",
        "styled_df"
      ],
      "metadata": {
        "id": "bx7xf5MFzP7Z"
      },
      "execution_count": null,
      "outputs": []
    },
    {
      "cell_type": "markdown",
      "source": [
        "<h1>EXPORTING</h1>\n"
      ],
      "metadata": {
        "id": "jgFW48NY71h_"
      }
    },
    {
      "cell_type": "code",
      "source": [
        "# Assuming clean_df is your DataFrame\n",
        "output_file_path = \"/content/drive/MyDrive/Sodimac/ArregloIncongruenciasJuegosJardin/Results2.xlsx\"\n",
        "\n",
        "# Check if the file already exists\n",
        "if os.path.exists(output_file_path):\n",
        "    # Optionally, prompt the user or take appropriate action\n",
        "    print(f\"Warning: The file {output_file_path} already exists. It will be overwritten if the name is not changed.\")\n",
        "else:\n",
        "  # Export the DataFrame to an Excel file\n",
        "  clean_df.to_excel(output_file_path, index=False)\n",
        "  print(f\"DataFrame exported to {output_file_path}\")\n",
        "\n"
      ],
      "metadata": {
        "colab": {
          "base_uri": "https://localhost:8080/"
        },
        "id": "PphHv3Nt784R",
        "outputId": "6c7d8711-e081-468b-9e7b-5f1236b438a5"
      },
      "execution_count": 12,
      "outputs": [
        {
          "output_type": "stream",
          "name": "stdout",
          "text": [
            "DataFrame exported to /content/drive/MyDrive/Sodimac/ArregloIncongruenciasJuegosJardin/Results2.xlsx\n"
          ]
        }
      ]
    }
  ]
}