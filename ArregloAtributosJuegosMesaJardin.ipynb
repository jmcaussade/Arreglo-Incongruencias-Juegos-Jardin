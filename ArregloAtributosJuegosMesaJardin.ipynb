{
  "nbformat": 4,
  "nbformat_minor": 0,
  "metadata": {
    "colab": {
      "provenance": [],
      "authorship_tag": "ABX9TyPiNh36ViJe6EZLcKTm/bOa",
      "include_colab_link": true
    },
    "kernelspec": {
      "name": "python3",
      "display_name": "Python 3"
    },
    "language_info": {
      "name": "python"
    }
  },
  "cells": [
    {
      "cell_type": "markdown",
      "metadata": {
        "id": "view-in-github",
        "colab_type": "text"
      },
      "source": [
        "<a href=\"https://colab.research.google.com/github/jmcaussade/Arreglo-Incongruencias-Juegos-Jardin/blob/main/ArregloAtributosJuegosMesaJardin.ipynb\" target=\"_parent\"><img src=\"https://colab.research.google.com/assets/colab-badge.svg\" alt=\"Open In Colab\"/></a>"
      ]
    },
    {
      "cell_type": "markdown",
      "source": [
        "<h1>IMPORTATIONS</h1>"
      ],
      "metadata": {
        "id": "XdQ5EhBiVmrI"
      }
    },
    {
      "cell_type": "code",
      "source": [
        "import os\n",
        "import pandas as pd"
      ],
      "metadata": {
        "id": "TgqrbVUpVlwF"
      },
      "execution_count": 38,
      "outputs": []
    },
    {
      "cell_type": "markdown",
      "source": [
        "<h1>Connection to Google Drive</h1>\n"
      ],
      "metadata": {
        "id": "ndLgWjGPTNjU"
      }
    },
    {
      "cell_type": "code",
      "source": [
        "from google.colab import drive\n",
        "drive.mount(\"/content/drive\")"
      ],
      "metadata": {
        "colab": {
          "base_uri": "https://localhost:8080/"
        },
        "id": "t4FZID_sTNJZ",
        "outputId": "a818caf8-59be-4dda-918e-9bbfc5141142"
      },
      "execution_count": 39,
      "outputs": [
        {
          "output_type": "stream",
          "name": "stdout",
          "text": [
            "Drive already mounted at /content/drive; to attempt to forcibly remount, call drive.mount(\"/content/drive\", force_remount=True).\n"
          ]
        }
      ]
    },
    {
      "cell_type": "code",
      "source": [
        "ruta = \"/content/drive/MyDrive/Sodimac/ArregloIncongruenciasJuegosJardin/JuegosJardin.xlsx\"\n",
        "dataframe = pd.read_excel(ruta)\n",
        "print(dataframe)"
      ],
      "metadata": {
        "colab": {
          "base_uri": "https://localhost:8080/"
        },
        "id": "brCmGT-3iHvY",
        "outputId": "9f69450f-56cf-4a1e-f4ae-0d41ef019dcd"
      },
      "execution_count": 48,
      "outputs": [
        {
          "output_type": "stream",
          "name": "stdout",
          "text": [
            "      ANALISTA          <ID> SKU - Chile  Descripción Local del Producto  \\\n",
            "0    Alejandro   Item-119049     1294326      JGO ATLANTA 9PZAS RATAN PE   \n",
            "1    Alejandro   Item-119050     1458795       JGO SEC NEW HAMPSHIRE 4PZ   \n",
            "2    Alejandro   Item-119035     1458809  JGO COMEDOR LISBON RATAN PV 7P   \n",
            "3    Alejandro   Item-119036     2490315     COM/LIV GISPY 6PZ RATTAN PE   \n",
            "4    Alejandro  Item-1438530     2698838  PE COMEDOR SEI SILLAS METAL NG   \n",
            "..         ...           ...         ...                             ...   \n",
            "354       Jean   Item-572576     873092X  JGO SAO PAULO 3PZ TAU VID LISO   \n",
            "355       Jean   Item-572595     873111X   JGO COMEDOR 7PZ PIPA RATAN PE   \n",
            "356       Jean  Item-4292858     884173X   JGO COMEDOR 6 PERSONAS MUNICH   \n",
            "357       Jean  Item-4293190     884187X    JGO LIV TERR SLING 4P MT/TEX   \n",
            "358       Jean  Item-6482955     896386X       JUEGO DE COMEDOR REIMS V2   \n",
            "\n",
            "                                       Descripción Web  <Parent ID>  \\\n",
            "0    Juego de Living Seccional de Terraza Atlanta 6...     10003252   \n",
            "1    Juego de Living Seccional de Terraza New Hamps...     10003252   \n",
            "2        Juego de Comedor de Terraza Lisbon 6 Personas     10003252   \n",
            "3    Juego de Comedor de Terraza Gispy c/2 fundas 6...     10003252   \n",
            "4           Juego de Comedor de Terraza Sei 6 Personas     10003252   \n",
            "..                                                 ...          ...   \n",
            "354   Juego de balcón terraza sao paulo 3 piezas taupe     10003252   \n",
            "355         Juego de comedor de terrazas 7 piezas pipa     10003252   \n",
            "356  Juego de comedor de terraza 6 personas munich ...     10003252   \n",
            "357           Juego de living terraza sling 4 personas     10003252   \n",
            "358                          Juego de comedor reims v2     10003252   \n",
            "\n",
            "                                          Brick nombre  \\\n",
            "0    Paquetes variados de mobiliario para jardín/cé...   \n",
            "1    Paquetes variados de mobiliario para jardín/cé...   \n",
            "2    Paquetes variados de mobiliario para jardín/cé...   \n",
            "3    Paquetes variados de mobiliario para jardín/cé...   \n",
            "4    Paquetes variados de mobiliario para jardín/cé...   \n",
            "..                                                 ...   \n",
            "354  Paquetes variados de mobiliario para jardín/cé...   \n",
            "355  Paquetes variados de mobiliario para jardín/cé...   \n",
            "356  Paquetes variados de mobiliario para jardín/cé...   \n",
            "357  Paquetes variados de mobiliario para jardín/cé...   \n",
            "358  Paquetes variados de mobiliario para jardín/cé...   \n",
            "\n",
            "                       <Producto a Clacom>           Jefe de Línea  \\\n",
            "0     0522060101-JUEGOS DE LIVING RATAN PE       31 - Paula Ferres   \n",
            "1     0522060101-JUEGOS DE LIVING RATAN PE       31 - Paula Ferres   \n",
            "2    0522060201-JUEGOS DE COMEDOR RATAN PE       31 - Paula Ferres   \n",
            "3    0522060201-JUEGOS DE COMEDOR RATAN PE       31 - Paula Ferres   \n",
            "4       0522060202-JUEGOS DE COMEDOR METAL  67 - PM Andrea Cordero   \n",
            "..                                     ...                     ...   \n",
            "354      0522060302-JUEGOS DE BALCON METAL       31 - Paula Ferres   \n",
            "355     0522060202-JUEGOS DE COMEDOR METAL       31 - Paula Ferres   \n",
            "356  0522060203-JUEGOS DE COMEDOR ALUMINIO       31 - Paula Ferres   \n",
            "357      0522060102-JUEGOS DE LIVING METAL       31 - Paula Ferres   \n",
            "358   0522060101-JUEGOS DE LIVING RATAN PE  67 - PM Andrea Cordero   \n",
            "\n",
            "                   Comprador CL     Origen             Marca Web  \\\n",
            "0    18 - Reposicion Tda-Bodega  Importado  Just Home Collection   \n",
            "1    18 - Reposicion Tda-Bodega  Importado  Just Home Collection   \n",
            "2    18 - Reposicion Tda-Bodega  Importado  Just Home Collection   \n",
            "3    18 - Reposicion Tda-Bodega  Importado  Just Home Collection   \n",
            "4              2 - Compra Local   Nacional    Muebles & Terrazas   \n",
            "..                          ...        ...                   ...   \n",
            "354  18 - Reposicion Tda-Bodega  Importado  Just Home Collection   \n",
            "355  18 - Reposicion Tda-Bodega  Importado  Just Home Collection   \n",
            "356  18 - Reposicion Tda-Bodega  Importado  Just Home Collection   \n",
            "357  18 - Reposicion Tda-Bodega  Importado  Just Home Collection   \n",
            "358  18 - Reposicion Tda-Bodega  Importado  Just Home Collection   \n",
            "\n",
            "     % Completitud Att Cat                                Características+N:T  \\\n",
            "0                    100.0                                    Juego de living   \n",
            "1                    100.0                                    Juego de living   \n",
            "2                    100.0                                   Juego de comedor   \n",
            "3                    100.0                                    Juego de living   \n",
            "4                    100.0  pintura electroestatica al horno;muebles nacio...   \n",
            "..                     ...                                                ...   \n",
            "354                  100.0                                    Juego de balcón   \n",
            "355                  100.0  JUEGO DE COMEDOR ECONÓMICO;SILLA DE ESTILO CLÁ...   \n",
            "356                  100.0  55% Aluminio/ 45% Madera Aacacia / Tela 100% P...   \n",
            "357                  100.0                                    Juego de living   \n",
            "358                  100.0                                   Juego de Comedor   \n",
            "\n",
            "    Tipo de mobiliario jardín                     cambios         Modelo  \\\n",
            "0             Juego de Living  Juego de Living Seccional         Atlanta   \n",
            "1             Juego de Living                         NaN  New Hampshire   \n",
            "2            Juego de Comedor                          ok         Lisbon   \n",
            "3             Juego de Living                         NaN          Gispy   \n",
            "4            Juego de Comedor                         NaN            Sei   \n",
            "..                        ...                         ...            ...   \n",
            "354           Juego de Balcón                         NaN      Sao Paulo   \n",
            "355          Juego de Comedor                         NaN           Pipa   \n",
            "356          Juego de Comedor                         NaN         Munich   \n",
            "357           Juego de Living                         NaN          Sling   \n",
            "358           Juego de Living                         NaN          Reims   \n",
            "\n",
            "     Número de personas        Color  \n",
            "0                   6.0         Café  \n",
            "1                   4.0         Café  \n",
            "2                   6.0         Café  \n",
            "3                   6.0         Gris  \n",
            "4                   6.0        Negro  \n",
            "..                  ...          ...  \n",
            "354                 2.0        Taupe  \n",
            "355                 6.0        Beige  \n",
            "356                 6.0   Negro/Café  \n",
            "357                 4.0  Café Oscuro  \n",
            "358                 6.0         Café  \n",
            "\n",
            "[359 rows x 19 columns]\n"
          ]
        }
      ]
    }
  ]
}