{
  "nbformat": 4,
  "nbformat_minor": 0,
  "metadata": {
    "colab": {
      "provenance": [],
      "authorship_tag": "ABX9TyOCKuIEAb4shYnkZjSh1mHD",
      "include_colab_link": true
    },
    "kernelspec": {
      "name": "python3",
      "display_name": "Python 3"
    },
    "language_info": {
      "name": "python"
    }
  },
  "cells": [
    {
      "cell_type": "markdown",
      "metadata": {
        "id": "view-in-github",
        "colab_type": "text"
      },
      "source": [
        "<a href=\"https://colab.research.google.com/github/jmcaussade/Arreglo-Incongruencias-Juegos-Jardin/blob/main/ArregloAtributosJuegosMesaJardin.ipynb\" target=\"_parent\"><img src=\"https://colab.research.google.com/assets/colab-badge.svg\" alt=\"Open In Colab\"/></a>"
      ]
    },
    {
      "cell_type": "markdown",
      "source": [
        "<h1>IMPORTATIONS</h1>"
      ],
      "metadata": {
        "id": "XdQ5EhBiVmrI"
      }
    },
    {
      "cell_type": "code",
      "source": [
        "!pip install unidecode"
      ],
      "metadata": {
        "colab": {
          "base_uri": "https://localhost:8080/"
        },
        "id": "agXnUlpKtLwC",
        "outputId": "30692a28-c62d-4490-8e42-cb6bd936b56b"
      },
      "execution_count": 1,
      "outputs": [
        {
          "output_type": "stream",
          "name": "stdout",
          "text": [
            "Collecting unidecode\n",
            "  Downloading Unidecode-1.3.7-py3-none-any.whl (235 kB)\n",
            "\u001b[?25l     \u001b[90m━━━━━━━━━━━━━━━━━━━━━━━━━━━━━━━━━━━━━━━━\u001b[0m \u001b[32m0.0/235.5 kB\u001b[0m \u001b[31m?\u001b[0m eta \u001b[36m-:--:--\u001b[0m\r\u001b[2K     \u001b[91m━━━━━━\u001b[0m\u001b[91m╸\u001b[0m\u001b[90m━━━━━━━━━━━━━━━━━━━━━━━━━━━━━━━━━\u001b[0m \u001b[32m41.0/235.5 kB\u001b[0m \u001b[31m1.0 MB/s\u001b[0m eta \u001b[36m0:00:01\u001b[0m\r\u001b[2K     \u001b[91m━━━━━━━━━━━━━━━━━━━━━━━━━━━━━━━━━━━━━━\u001b[0m\u001b[90m╺\u001b[0m\u001b[90m━\u001b[0m \u001b[32m225.3/235.5 kB\u001b[0m \u001b[31m3.7 MB/s\u001b[0m eta \u001b[36m0:00:01\u001b[0m\r\u001b[2K     \u001b[90m━━━━━━━━━━━━━━━━━━━━━━━━━━━━━━━━━━━━━━━━\u001b[0m \u001b[32m235.5/235.5 kB\u001b[0m \u001b[31m2.9 MB/s\u001b[0m eta \u001b[36m0:00:00\u001b[0m\n",
            "\u001b[?25hInstalling collected packages: unidecode\n",
            "Successfully installed unidecode-1.3.7\n"
          ]
        }
      ]
    },
    {
      "cell_type": "code",
      "source": [
        "import os\n",
        "import pandas as pd\n",
        "import numpy as np\n",
        "from unidecode import unidecode"
      ],
      "metadata": {
        "id": "TgqrbVUpVlwF"
      },
      "execution_count": 4,
      "outputs": []
    },
    {
      "cell_type": "markdown",
      "source": [
        "<h1>Connection to Google Drive</h1>\n"
      ],
      "metadata": {
        "id": "ndLgWjGPTNjU"
      }
    },
    {
      "cell_type": "code",
      "source": [
        "from google.colab import drive\n",
        "drive.mount(\"/content/drive\")"
      ],
      "metadata": {
        "colab": {
          "base_uri": "https://localhost:8080/"
        },
        "id": "t4FZID_sTNJZ",
        "outputId": "ce269cf8-72a9-4de4-9539-81ce63ccfaf6"
      },
      "execution_count": 5,
      "outputs": [
        {
          "output_type": "stream",
          "name": "stdout",
          "text": [
            "Drive already mounted at /content/drive; to attempt to forcibly remount, call drive.mount(\"/content/drive\", force_remount=True).\n"
          ]
        }
      ]
    },
    {
      "cell_type": "code",
      "source": [
        "##############################\n",
        "### AQUÍ SE DEBE MODIFICAR ###\n",
        "##############################\n",
        "\n",
        "ruta = \"/content/drive/MyDrive/Sodimac/Sacos_de_Dormir/BRICK SACOS DE DORMIR 1812.xlsx\"\n",
        "df = pd.read_excel(ruta)"
      ],
      "metadata": {
        "id": "brCmGT-3iHvY"
      },
      "execution_count": 14,
      "outputs": []
    },
    {
      "cell_type": "markdown",
      "source": [
        "<h1>MAIN</h1>"
      ],
      "metadata": {
        "id": "aA8Baua6kCKV"
      }
    },
    {
      "cell_type": "markdown",
      "source": [
        "Visualization\n"
      ],
      "metadata": {
        "id": "eybBwf-el9V1"
      }
    },
    {
      "cell_type": "code",
      "source": [
        "df"
      ],
      "metadata": {
        "id": "SIov8fogk8Ym"
      },
      "execution_count": null,
      "outputs": []
    },
    {
      "cell_type": "code",
      "source": [
        "df.info()"
      ],
      "metadata": {
        "id": "Fu1mIw_DkHW5"
      },
      "execution_count": null,
      "outputs": []
    },
    {
      "cell_type": "code",
      "source": [
        "df.isnull().sum()"
      ],
      "metadata": {
        "id": "GXm6cNRvkzzA"
      },
      "execution_count": null,
      "outputs": []
    },
    {
      "cell_type": "markdown",
      "source": [
        "Manipulation"
      ],
      "metadata": {
        "id": "RR96uHWemBbL"
      }
    },
    {
      "cell_type": "markdown",
      "source": [
        "Transformation to long format of \"Descripcion Local del Producto\""
      ],
      "metadata": {
        "id": "zgK1O4zgpKSm"
      }
    },
    {
      "cell_type": "code",
      "source": [
        "def PrintingDF(data_set):\n",
        "  pd.set_option('display.width', 1000)\n",
        "  print(data_set.to_string(index=False))\n"
      ],
      "metadata": {
        "id": "AS24_2l_ygwS"
      },
      "execution_count": 15,
      "outputs": []
    },
    {
      "cell_type": "code",
      "source": [
        "print(df[[\"Descripción Local del Producto\", \"Descripción Web\"]])"
      ],
      "metadata": {
        "id": "ucPmoa66mAur"
      },
      "execution_count": null,
      "outputs": []
    },
    {
      "cell_type": "code",
      "source": [
        "print(df.iloc[0][\"Descripción Web\"])\n"
      ],
      "metadata": {
        "colab": {
          "base_uri": "https://localhost:8080/"
        },
        "id": "skXWOFDUr3Fa",
        "outputId": "5b8c9a90-f94d-47e4-b106-76165c0e9464"
      },
      "execution_count": null,
      "outputs": [
        {
          "output_type": "stream",
          "name": "stdout",
          "text": [
            "Set balcon nature turquesa Turquesa\n"
          ]
        }
      ]
    },
    {
      "cell_type": "code",
      "source": [
        "##############################\n",
        "### AQUÍ SE DEBE MODIFICAR ###\n",
        "##############################\n",
        "\n",
        "\n",
        "# restringienda dataframe a columnas importantes\n",
        "selected_columns = [\"SKU - Chile\", \"Descripción Web\",'Largo', 'Ancho', 'Forma del saco', 'Color', 'Modelo']\n",
        "clean_df = df.loc[:, selected_columns]\n",
        "\n",
        "# clean_df['Número de personas'] = clean_df['Número de personas'].replace([np.inf, -np.inf], np.nan).fillna(0)\n",
        "# clean_df['Número de personas'] = clean_df['Número de personas'].astype(int).astype(str)\n",
        "PrintingDF(clean_df)"
      ],
      "metadata": {
        "id": "oUVkzeZF6yBP"
      },
      "execution_count": null,
      "outputs": []
    },
    {
      "cell_type": "code",
      "source": [
        "# Add new columns for each selected column without checking if the values exist creating the \"Name column + appears\"\n",
        "\n",
        "for name_column in selected_columns[2:]:\n",
        "    clean_df.insert(clean_df.columns.get_loc(name_column) + 1, f\"{name_column} appears\", None)\n",
        "\n",
        "# Print the DataFrame with the new columns\n",
        "clean_df\n"
      ],
      "metadata": {
        "id": "9bm_XuIK2T6d"
      },
      "execution_count": null,
      "outputs": []
    },
    {
      "cell_type": "code",
      "source": [
        "##############################\n",
        "### AQUÍ SE DEBE MODIFICAR ###\n",
        "##############################\n",
        "\n",
        "\n",
        "#Checks if the value for each attributes appears\n",
        "# Columnas con atributos obligatorios para buscar en desc web\n",
        "selected_columns = ['Largo', 'Ancho', 'Forma del saco', 'Color', 'Modelo']\n",
        "\n",
        "# Function to check if all values appear in the Descripción Web column in any case\n",
        "def all_values_appear_in_web_description(row):\n",
        "    description_web = unidecode(row[\"Descripción Web\"]).lower()\n",
        "    for col in selected_columns:\n",
        "        value = unidecode(str(row[col])).lower()\n",
        "        if col == \"Tipo de mobiliario jardín\":\n",
        "            aux = value.split(\" \")\n",
        "            if len(aux) == 4:\n",
        "                value = aux[-2] + \" \" + aux[-1]\n",
        "            else:\n",
        "                value = aux[-1]\n",
        "        # Set the corresponding boolean column to True or False\n",
        "        row[f\"{col} appears\"] = value in description_web\n",
        "    # Set the \"AllValuesAppear\" column based on the condition\n",
        "    row['AllValuesAppear'] = all(row[f\"{col} appears\"] for col in selected_columns)\n",
        "    return row\n",
        "\n",
        "# Apply the function to each row\n",
        "clean_df = clean_df.apply(all_values_appear_in_web_description, axis=1)\n"
      ],
      "metadata": {
        "id": "vuieS5ij8s9O"
      },
      "execution_count": 24,
      "outputs": []
    },
    {
      "cell_type": "code",
      "source": [
        "clean_df"
      ],
      "metadata": {
        "id": "YffVv80T3MUE"
      },
      "execution_count": null,
      "outputs": []
    },
    {
      "cell_type": "code",
      "source": [
        "# highlight  all True rows\n",
        "def highlight_rows(row):\n",
        "    if row['AllValuesAppear']:\n",
        "        return ['background-color: lightgreen'] * len(row)\n",
        "    else:\n",
        "        return [''] * len(row)\n",
        "\n",
        "# Apply the custom styles to the DataFrame\n",
        "styled_df = clean_df.style.apply(highlight_rows, axis=1)\n",
        "\n",
        "# Display the styled DataFrame\n",
        "styled_df"
      ],
      "metadata": {
        "id": "EzN-SO-bv-wJ"
      },
      "execution_count": null,
      "outputs": []
    },
    {
      "cell_type": "code",
      "source": [
        "# highlight False cells in red\n",
        "def highlight_cells(value):\n",
        "    if value is False:\n",
        "        return 'background-color: red'\n",
        "    elif value is True:\n",
        "        return 'background-color: lightgreen'\n",
        "    else:\n",
        "        return ''\n",
        "\n",
        "# Apply the custom styles to the DataFrame\n",
        "styled_df = clean_df.style.applymap(highlight_cells, subset=pd.IndexSlice[:, [f\"{col} appears\" for col in selected_columns]])\n",
        "\n",
        "# Display the styled DataFrame\n",
        "styled_df"
      ],
      "metadata": {
        "id": "bx7xf5MFzP7Z"
      },
      "execution_count": null,
      "outputs": []
    },
    {
      "cell_type": "markdown",
      "source": [
        "<h1>EXPORTING</h1>\n"
      ],
      "metadata": {
        "id": "jgFW48NY71h_"
      }
    },
    {
      "cell_type": "code",
      "source": [
        "##############################\n",
        "### AQUÍ SE DEBE MODIFICAR ###\n",
        "##############################\n",
        "\n",
        "# Assuming clean_df is your DataFrame\n",
        "output_file_path = \"/content/drive/MyDrive/Sodimac/ArregloIncongruenciasJuegosJardin/Results3.xlsx\"\n",
        "\n",
        "# Check if the file already exists\n",
        "if os.path.exists(output_file_path):\n",
        "    # Optionally, prompt the user or take appropriate action\n",
        "    print(f\"Warning: The file {output_file_path} already exists. It will be overwritten if the name is not changed.\")\n",
        "else:\n",
        "  # Export the DataFrame to an Excel file\n",
        "  clean_df.to_excel(output_file_path, index=False)\n",
        "  print(f\"DataFrame exported to {output_file_path}\")\n",
        "\n"
      ],
      "metadata": {
        "colab": {
          "base_uri": "https://localhost:8080/"
        },
        "id": "PphHv3Nt784R",
        "outputId": "62228ad1-937e-4656-8a2e-d9afdf02a8bd"
      },
      "execution_count": null,
      "outputs": [
        {
          "output_type": "stream",
          "name": "stdout",
          "text": [
            "DataFrame exported to /content/drive/MyDrive/Sodimac/ArregloIncongruenciasJuegosJardin/Results3.xlsx\n"
          ]
        }
      ]
    }
  ]
}