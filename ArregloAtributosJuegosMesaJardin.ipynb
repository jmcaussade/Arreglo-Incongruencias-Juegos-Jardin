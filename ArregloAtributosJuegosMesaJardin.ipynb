{
  "nbformat": 4,
  "nbformat_minor": 0,
  "metadata": {
    "colab": {
      "provenance": [],
      "authorship_tag": "ABX9TyOe0GNXOD62g4Pf23O21pj8",
      "include_colab_link": true
    },
    "kernelspec": {
      "name": "python3",
      "display_name": "Python 3"
    },
    "language_info": {
      "name": "python"
    }
  },
  "cells": [
    {
      "cell_type": "markdown",
      "metadata": {
        "id": "view-in-github",
        "colab_type": "text"
      },
      "source": [
        "<a href=\"https://colab.research.google.com/github/jmcaussade/Arreglo-Incongruencias-Juegos-Jardin/blob/main/ArregloAtributosJuegosMesaJardin.ipynb\" target=\"_parent\"><img src=\"https://colab.research.google.com/assets/colab-badge.svg\" alt=\"Open In Colab\"/></a>"
      ]
    },
    {
      "cell_type": "markdown",
      "source": [
        "<h1>IMPORTATIONS</h1>"
      ],
      "metadata": {
        "id": "XdQ5EhBiVmrI"
      }
    },
    {
      "cell_type": "code",
      "source": [
        "import os\n",
        "import pandas as pd\n",
        "import numpy as np"
      ],
      "metadata": {
        "id": "TgqrbVUpVlwF"
      },
      "execution_count": 23,
      "outputs": []
    },
    {
      "cell_type": "markdown",
      "source": [
        "<h1>Connection to Google Drive</h1>\n"
      ],
      "metadata": {
        "id": "ndLgWjGPTNjU"
      }
    },
    {
      "cell_type": "code",
      "source": [
        "from google.colab import drive\n",
        "drive.mount(\"/content/drive\")"
      ],
      "metadata": {
        "colab": {
          "base_uri": "https://localhost:8080/"
        },
        "id": "t4FZID_sTNJZ",
        "outputId": "ac129095-84e1-4893-baf6-6e296c471b07"
      },
      "execution_count": 24,
      "outputs": [
        {
          "output_type": "stream",
          "name": "stdout",
          "text": [
            "Drive already mounted at /content/drive; to attempt to forcibly remount, call drive.mount(\"/content/drive\", force_remount=True).\n"
          ]
        }
      ]
    },
    {
      "cell_type": "code",
      "source": [
        "ruta = \"/content/drive/MyDrive/Sodimac/ArregloIncongruenciasJuegosJardin/JuegosJardin.xlsx\"\n",
        "df = pd.read_excel(ruta)"
      ],
      "metadata": {
        "id": "brCmGT-3iHvY"
      },
      "execution_count": 25,
      "outputs": []
    },
    {
      "cell_type": "markdown",
      "source": [
        "<h1>MAIN</h1>"
      ],
      "metadata": {
        "id": "aA8Baua6kCKV"
      }
    },
    {
      "cell_type": "markdown",
      "source": [
        "Visualization\n"
      ],
      "metadata": {
        "id": "eybBwf-el9V1"
      }
    },
    {
      "cell_type": "code",
      "source": [
        "print(df)"
      ],
      "metadata": {
        "id": "SIov8fogk8Ym"
      },
      "execution_count": null,
      "outputs": []
    },
    {
      "cell_type": "code",
      "source": [
        "df.info()"
      ],
      "metadata": {
        "id": "Fu1mIw_DkHW5"
      },
      "execution_count": null,
      "outputs": []
    },
    {
      "cell_type": "code",
      "source": [
        "df.isnull().sum()"
      ],
      "metadata": {
        "id": "GXm6cNRvkzzA"
      },
      "execution_count": null,
      "outputs": []
    },
    {
      "cell_type": "markdown",
      "source": [
        "Manipulation"
      ],
      "metadata": {
        "id": "RR96uHWemBbL"
      }
    },
    {
      "cell_type": "markdown",
      "source": [
        "Transformation to long format of \"Descripcion Local del Producto\""
      ],
      "metadata": {
        "id": "zgK1O4zgpKSm"
      }
    },
    {
      "cell_type": "code",
      "source": [
        "def PrintingDF(data_set):\n",
        "  pd.set_option('display.width', 1000)\n",
        "  print(data_set.to_string(index=False))\n",
        ""
      ],
      "metadata": {
        "id": "AS24_2l_ygwS"
      },
      "execution_count": 27,
      "outputs": []
    },
    {
      "cell_type": "code",
      "source": [
        "print(df[[\"Descripción Local del Producto\", \"Descripción Web\"]])"
      ],
      "metadata": {
        "id": "ucPmoa66mAur"
      },
      "execution_count": null,
      "outputs": []
    },
    {
      "cell_type": "code",
      "source": [
        "print(df.iloc[0][\"Descripción Web\"])\n"
      ],
      "metadata": {
        "colab": {
          "base_uri": "https://localhost:8080/"
        },
        "id": "skXWOFDUr3Fa",
        "outputId": "5b8c9a90-f94d-47e4-b106-76165c0e9464"
      },
      "execution_count": 9,
      "outputs": [
        {
          "output_type": "stream",
          "name": "stdout",
          "text": [
            "Set balcon nature turquesa Turquesa\n"
          ]
        }
      ]
    },
    {
      "cell_type": "code",
      "source": [
        "# restringienda dataframe a columnas importantes\n",
        "selected_columns = [\"SKU - Chile\", 'Descripción Web', 'Tipo de mobiliario jardín', 'Modelo', 'Número de personas', 'Color']\n",
        "clean_df = df.loc[:, selected_columns]\n",
        "\n",
        "clean_df['Número de personas'] = clean_df['Número de personas'].replace([np.inf, -np.inf], np.nan).fillna(0)\n",
        "clean_df['Número de personas'] = clean_df['Número de personas'].astype(int).astype(str)\n",
        "PrintingDF(clean_df)"
      ],
      "metadata": {
        "colab": {
          "base_uri": "https://localhost:8080/"
        },
        "id": "oUVkzeZF6yBP",
        "outputId": "7c026dbd-e9a5-45fb-d908-ac4850b2f99c"
      },
      "execution_count": 28,
      "outputs": [
        {
          "output_type": "stream",
          "name": "stdout",
          "text": [
            "SKU - Chile                                              Descripción Web Tipo de mobiliario jardín                        Modelo Número de personas                                  Color\n",
            "    6575811                          Set balcon nature turquesa Turquesa           Juego de Balcón                        Nature                  2                               Turquesa\n",
            "    6577423                               Set balcon nature verde oscuro           Juego de Balcón                        Nature                  2                           Verde Oscuro\n",
            "    6577431                                       Set balcon nature gris           Juego de Balcón                        Nature                  2                                   Gris\n",
            "    6578276                       Juego living terraza Brisbane caramelo           Juego de Balcón                      BRISBANE                  4                               CARAMELO\n",
            "    6579396                      Juego living terraza Brisbane chocolate           Juego de Balcón                      BRISBANE                  2                              CHOCOLATE\n",
            "    6592902                               Set balcón tavarua Marrón moro           Juego de Balcón                  PSTX03170000                  2                            Marrón moro\n",
            "    6592910                        Set mesa rectangular roble + 6 sillas          Juego de Comedor                  PSTX03160000                  6                            Marrón moro\n",
            "    6603041                                    Living Terraza Sofia Café           Juego de Living                         Sofia                  4                                   Café\n",
            "    6603785                                     Set Terraza Isabel Negro           Juego de Balcón                        Isabel                  4                                  Negro\n",
            "    6604684                      Set balcón nature azul claro Azul claro           Juego de Living                        NATURE                  4                             Azul claro\n",
            "    6604706                               Sofá Comedor Terraza Esperanza           Juego de Living                     Esperanza                  4                                   Café\n",
            "    6604714                                     Set Terraza Belgica Café           Juego de Balcón                       Belgica                  4                                   Café\n",
            "    6605192                                 Sofá Comedor Terraza Antonia           Juego de Living                       Antonia                  4                                   Café\n",
            "    6605214                                  Living Terraza Antonia Café           Juego de Living                        Amanda                  4                                   Café\n",
            "    6605230                                     Living Terraza Estefania           Juego de Living                     Estefania                  4                                   Café\n",
            "    6699618                   Living Terraza Rattan Florencia 4 personas           Juego de Living                     S011/FLOR                  4                            Café Oscuro\n",
            "    6699634                         Set Balcon Curimon - Caramelo/Marfil           Juego de Balcón                      BC1949CA                  2                             Café Claro\n",
            "    6699642                              Set Balcon Curimon - Negro/Gris           Juego de Balcón                        BC1950                  2                                  Negro\n",
            "    6699685                     Living Terraza Rattan Palermo 5 personas           Juego de Living                     S076/PALE                  5                            Café Oscuro\n",
            "    6699693                      Living Terraza Rattan Kanpur 4 personas           Juego de Living                      S009/KAN                  4                            Café Oscuro\n",
            "    6699707                        Set Balcon Curimon - Chocolate/Marfil           Juego de Balcón                        BC1949                  2                            Café Oscuro\n",
            "    6699715                       Living Terraza Rattan Milan 4 personas           Juego de Living                    S071/MILAN                  4                            Café Oscuro\n",
            "    6727948                           Juego living ratán 4 personas Lyon           Juego de Living JUEGO LIVING RATAN 4 PER LYON                  4 Ratán Negro con cojines en tela Beige.\n",
            "    6727964                    Juego Living 2 Personas Ratán de PE Pekin           Juego de Living      JUEGO LIVING 2 PER PEKIN                  2 Ratán Negro con cojines en tela Beige.\n",
            "    6734324                                 Jgo comedor 9 pzas amsterdam          Juego de Comedor                     Amsterdam                  8   Ratán gris con Cojines en tela beige\n",
            "    6894852                           Juego terraza 4 piezas metal Negro           Juego de Living                         47854                  4                                  Negro\n",
            "    7192762         Juego de living seccional de terraza lisa 6 personas           Juego de Living                          LISA                  5                                  Beige\n",
            "    7192797                           Juedo de balcón beltran 2 personas           Juego de Balcón                       BELTRAN                  2                            Café /Beige\n",
            "    7192819       Juego de living seccional de terraza montti 4 personas           Juego de Living                         MONTT                  4                                   Gris\n",
            "    7192827         Juego de comedor de terraza camille beige 6 personas           Juego de Living                          CAMI                  6                                  Beige\n",
            "    7192843                         Juego de balcón mia beige 2 personas           Juego de Balcón                           MIA                  2                            Café /Beige\n",
            "    7306652                          Juego de terraza premium ulmo beige           Juego de Living                          Ulmo                  7                                  Beige\n",
            "    7306660                           Juego de terraza premium ulmo azul           Juego de Living                          Ulmo                  7                                   Azul\n",
            "    7306679                            Juego de terraza básica ulmo azul           Juego de Living                          Ulmo                  5                                   Azul\n",
            "    7306687                        Juego de terraza premium ulmo grafito           Juego de Living                          Ulmo                  7                                Grafito\n",
            "    7306695                         Juego de terraza básica ulmo grafito           Juego de Living                          Ulmo                  5                                Grafito\n",
            "    7306784                           Juego de terraza básica ulmo beige           Juego de Living                          Ulmo                  5                                  Beige\n",
            "    7306806                     Juego de terraza premium ulmo gris perla           Juego de Living                          Ulmo                  7                             Gris Perla\n",
            "    7306849                      Juego de terraza básica ulmo gris perla           Juego de Living                          Ulmo                  5                             Gris Perla\n",
            "    7307144                Juego de terraza básica arrayán nogal grafito           Juego de Living                       Arrayán                  5                                Grafito\n",
            "    7307152                  Juego de terraza básica arrayán nogal beige           Juego de Living                       Arrayán                  5                                  Beige\n",
            "    7307160                   Juego de terraza básica arrayán nogal azul           Juego de Living                       Arrayan                  5                                   Azul\n",
            "    7307179              Juego de terraza básica maitén nogal gris perla           Juego de Living                        Maitén                  5                             Gris Perla\n",
            "    7307187             Juego de terraza premium maitén nogal gris perla           Juego de Living                        Maitén                  5                             Gris Perla\n",
            "    7307195                  Juego de terraza premium maitén nogal beige           Juego de Living                        Maitén                  5                                  Beige\n",
            "    7307209            Juego de terraza premium arrayán nogal gris perla           Juego de Living                       Arrayán                  7                             Gris Perla\n",
            "    7307217                 Juego de terraza premium laurel natural azul           Juego de Living                        Laurel                  4                                   Azul\n",
            "    7307225               Juego de terraza premium arrayán nogal grafito           Juego de Living                       Arrayan                  7                                Grafito\n",
            "    7307233                      Juego de bar de terraza patagonia nogal              Juego de Bar                     Patagonia                  6                                  Nogal\n",
            "    7307241                  Juego de terraza premium arrayán nogal azul           Juego de Living                       Arrayan                  7                                   Azul\n",
            "    7307268                   Juego de terraza premium maitén nogal azul           Juego de Living                        Maiten                  5                                   Azul\n",
            "    7307276         Juego de terraza premium laurel albayalde gris perla           Juego de Living                        Laurel                  4                             Gris Perla\n",
            "    7307284                   Juego de terraza básica maitén nogal beige           Juego de Living                        Maiten                  5                                  Beige\n",
            "    7307292                 Juego de terraza premium arrayán nogal beige           Juego de Living                       Arrayan                  7                                  Beige\n",
            "    7307306                 Juego de terraza básica maitén nogal grafito           Juego de Living                        Maiten                  5                                Grafito\n",
            "    7307322                    Juego de terraza básica maitén nogal azul           Juego de Living                        Maiten                  5                                   Azul\n",
            "    7307330               Juego de terraza premium laurel cereza grafito           Juego de Living                        Laurel                  4                                Grafito\n",
            "    7307349                        Juego de bar de terraza austral nogal              Juego de Bar                       Austral                  6                                  Nogal\n",
            "    7307357                Juego de terraza premium maitén nogal grafito           Juego de Living                        Maiten                  5                                Grafito\n",
            "    7307373              Juego de terraza premium laurel chocolate beige           Juego de Living                        Laurel                  4                                  Beige\n",
            "    7350082                  Set De Mesa Blanca Y Dos Sillas Rojas Eames           Juego de Balcón                    DPKIDS-105                  2                            Blanco/rojo\n",
            "    7350090                   Set De Mesa Blanca Y Dos Sillas Gris Eames           Juego de Balcón                    DPKIDS-106                  2                            Blanco/gris\n",
            "    7350104                  Set De Mesa Blanca Y Dos Sillas Verde Eames           Juego de Balcón                    DPKIDS-107                  2                           Blanco/verde\n",
            "    7350112             Set De Mesa Cubierta Amarilla Y Dos Sillas Eames           Juego de Balcón                     DPKIDS-60                  2                               Amarillo\n",
            "    7350120               Set De Mesa Cubierta Morada Y Dos Sillas Eames           Juego de Balcón                     DPKIDS-56                  2                                 Morado\n",
            "    7350139               Set De Mesa Cubierta Morada Y Dos Sillas Eames           Juego de Balcón                     DPKIDS-61                  2                                 Morado\n",
            "    7350147               Set De Mesa Cubierta Rosada Y Dos Sillas Eames           Juego de Balcón                     DPKIDS-59                  2                                   Rosa\n",
            "    7350155               Set De Mesa Cubierta Rosada Y Dos Sillas Eames           Juego de Balcón                     DPKIDS-53                  2                                   Rosa\n",
            "    7350163                Set De Mesa Cubierta Menta Y Dos Sillas Eames           Juego de Balcón                     DPKIDS-57                  2                                  Menta\n",
            "    7350171               Set De Mesa Cubierta Blanca Y Dos Sillas Eames           Juego de Balcón                     DPKIDS-58                  2                                 Blanco\n",
            "    7350198             Set De Mesa Cubierta Amarilla Y Dos Sillas Eames           Juego de Balcón                     DPKIDS-55                  2                               Amarillo\n",
            "    8724377                                   Comedor con bancas terraza                       NaN                   CHILESR0010                  0                                    NaN\n",
            "    8730288                        Juego de living de terraza 5 personas           Juego de Living                         Simos                  3                             Multicolor\n",
            "    8730458                           Sillón columpio infantil rosa Rosa           Juego de Living                     20189C-GR                  2                                   Rosa\n",
            "    8730466                        Juego terraza infantil 4 piezas color          Juego de Comedor                      20275A-B                  2                                   Azul\n",
            "    8730474                         Juego terraza infantil 4 piezas rosa           Juego de Balcón                     20275A-GR                  2                                   Rosa\n",
            "    8730482    Juego de living seccional de terrazas 3 piezas saint john           Juego de Living                    Saint John                  4                             Multicolor\n",
            "    8730555                   Juego de living de terraza 4 piezas ischia           Juego de Living                         Ishia                  5                           Beige/Madera\n",
            "    8730563                              Juego balcón 3 piezas Victoria.           Juego de Living                      Victoria                  2                                  Negro\n",
            "    8730571                Juego de bar terraza tulum 7 piezas café/gris           Juego de Living                         Tulum                  6                              Café/Gris\n",
            "    8730598                  Sofá modular de terraza org 4 piezas blanco           Juego de Living                       52626ST                  5                                 Blanco\n",
            "    8730830            Juego de living de terraza 4 piezas toscana negro           Juego de Living                       Toscana                  4                           Negro/Madera\n",
            "    8730849             Juego de living de terrazas 6 piezas reims negro          Juego de Comedor                         Reims                  7                                  Negro\n",
            "    8730865           Juego de living de terraza 4 personas stiniva gris           Juego de Living                       Stiniva                  4                                   Gris\n",
            "    8730911              Juego de balcón terraza sao paulo 3 piezas aqua           Juego de Balcón                     SAO PAULO                  2                                   Aqua\n",
            "    8730938              Juego de terraza sao paulo 4 personas chocolate           Juego de Living                 HDF1368-CHOCO                  4                              Chocolate\n",
            "    8730989                        Juego balcón plg 5 piezas Dublin acac           Juego de Living                        Dublin                  4                                   Café\n",
            "    8731020                            Juego balcón arezzo 3 piezas Café           Juego de Balcón                        Arezzo                  2                                   Café\n",
            "    8731055                           Juego balcón modular 5 piezas milo           Juego de Living                          Milo                  4                                  Negro\n",
            "    8731063            Set sofá de terraza houston 2 piezas blanco/negro           Juego de Living                       Houston                  4                           Blanco/Negro\n",
            "    8731101                            Juego balcón 5 piezas moscu sling           Juego de Living                   MOSCU SLING                  4                                  Negro\n",
            "    8731136                         Juego balcón pleg 3 piezas cambridge           Juego de Balcón                  535.0100.001                  2                                   Café\n",
            "    8731144                        Juego balcón 3 piezas cannon Plateado           Juego de Balcón                        Cannon                  2                               Plateado\n",
            "    8731152                        Juego balcón mecd 3 piezas south male           Juego de Living                  545.0000.000                  2                                   Gris\n",
            "    8731160              Juego de comedor de terraza 6 piezas country II          Juego de Comedor                       Country                  4                             Multicolor\n",
            "    8732892                 Juego de comedor de terraza 6 piezas country          Juego de Comedor                       COUNTRY                  4                             Multicolor\n",
            "    8733244         Juego de living de terraza 4 personas palawan acacia           Juego de Living                       Palawan                  4                                 Madera\n",
            "    8790124                        Juego balcón mosaico Curaiva 3 piezas                       NaN                           NaN                  0                                    NaN\n",
            "    8790132                                       Juego comedor 6 piezas                       NaN                           NaN                  0                                    NaN\n",
            "    8841306                        Set 2 sillas mosaico Japón Multicolor           Juego de Balcón                       Mosaico                  1                             Multicolor\n",
            "    8841314                               Set 2 sillas mosaico grace bay           Juego de Balcón                       Mosaico                  1                             Multicolor\n",
            "    8841586                                Jgo balcón capuccion 3pz choc           Juego de Balcón                     Capuccino                  2                                   Café\n",
            "    8841594                               Jgo balcón capuccino 3 pz Azul           Juego de Balcón                     CAPUCCINO                  2                                   Azul\n",
            "    8841667        Juego de living de terraza 4 personas florencia beige           Juego de Living                     Florencia                  4                                  Beige\n",
            "    8841721              Juego de living seccional de terraza palma gris           Juego de Living                         Palma                  4                                   Gris\n",
            "    8841748           Juego de living de terraza 5 personas genova beige           Juego de Living                        Genova                  5                                  Beige\n",
            "    8841756        Juego de living de terraza 5 personas andalucia beige           Juego de Living                     Andalucia                  5                                  Beige\n",
            "    8841772                  Juego de living de terraza 6 personas ibiza           Juego de Living                         Ibiza                  6                       Café claro/beige\n",
            "    8841780           Juego de comedor de terrazas 4 personas niza beige           Juego de Balcón                          Niza                  4                                  Beige\n",
            "    8841799               Juego de living de terraza 4 personas valencia           Juego de Living                      Valencia                  4                                  Beige\n",
            "    8841802                           Jgo balcon 2 personas genova Beige           Juego de Balcón                        Genova                  2                                  Beige\n",
            "    8841810                Juego de comedor de terraza 8 personas boston          Juego de Comedor                        Boston                  8                      Café oscuro/beige\n",
            "    8841829                Silla bar de terraza resina montpellier negro              Juego de Bar                   Montpellier                  1                                  Negro\n",
            "    8841837 Juego de living seccional de terraza saigon 5 personas beige           Juego de Living                        Saigon                  5                                  Beige\n",
            "    8841888                  Juego de living de terraza 4 piezas grafito           Juego de Living                        Merano                  4                                Grafito\n",
            "    8841896                             Jgo balcón maceio pz beige Beige           Juego de Balcón                        Maceio                  2                                  Beige\n",
            "    8841918                            Jgo balcón 3pz brujas taupe Taupe           Juego de Balcón                        Brujas                  2                                  Taupe\n",
            "    8841926                              Jgo balcón 3pz brujas azul Azul           Juego de Balcón                        Brujas                  2                                   Azul\n",
            "    8916667                 Juego de comedor de terraza ratán 2 personas          Juego de Comedor                        Rattan                  3                           Crema/Madera\n",
            "    8916675                    Juego de comedor terraza ratan 8 personas          Juego de Comedor                WOODEN SET 441                  8                                  Crema\n",
            "    8919755                Juego de living de terraza 4 personas mendoza           Juego de Balcón                       Mendoza                  4                                 Marrón\n",
            "    8919763              Juego de living de terraza 4 personas sao paulo           Juego de Living                     Sao Paulo                  4                                  Crema\n",
            "    8919798                                Jgo comedor 6 pers Montevideo          Juego de Comedor                    MONTEVIDEO                  6                             Gris claro\n",
            "    8919836        Juego de comedor de terraza 4 personas santiago negro          Juego de Comedor                      Santiago                  4                                  Negro\n",
            "    8963568                                    Juego de balcon dominicos           Juego de Balcón                     DOMINICOS                  2                             Café claro\n",
            "    8963592                               Jgo balcon pleg 3pz cambrid v2           Juego de Balcón                     CAMBRIDGE                  2                            Café oscuro\n",
            "    8963606                                Juego de comedor 6pers madera           Juego de Living                    NP2212013W                  4                                Natural\n",
            "    8963614       Juego de Balcón para Terraza Victoria 2 Personas Negro           Juego de Balcón                      Victoria                  2                                  Negro\n",
            "    8963622     Juego de Bar para Terraza Madera 4 Personas Gris/Natural              Juego de Bar                        Madera                  4                           Gris/Natural\n",
            "    8963630                 Juego de Bar para Terraza 4 Personas Natural              Juego de Bar                     NP2214001                  4                                Natural\n",
            "    8963657      Juego de Comedor para Terraza Madera 6 Personas Natural          Juego de Comedor                        Madera                  6                                Natural\n",
            "    8963673      Juego de Comedor para Terraza Madera 6 Personas Natural          Juego de Comedor                        Madera                  6                                Natural\n",
            "    8963738                 Juego de living de terraza mersil 4 personas           Juego de Living                        MERSIL                  4                                  Crema\n",
            "    8963762                        Juego de balcón de terraza roma negro           Juego de Balcón                          Roma                  2                                  Negro\n",
            "    8963789                       Juego de balcón de terraza roma blanco           Juego de Balcón                          Roma                  2                                 Blanco\n",
            "    8963819                 Juego de Living de Terraza 4 Personas Madera           Juego de Living                     NP2212001                  4                                Natural\n",
            "    8963827                                Juego de comedor 8 pers lucca          Juego de Comedor                         Lucca                  8                                Natural\n",
            "    8963835                                           Juego de bar lucca              Juego de Bar                         Lucca                  4                                Natural\n",
            "    8963843                                  Juego de living 5pers lucca           Juego de Living                         Lucca                  5                                Natural\n",
            "    8963851                                    Juego de comedor gispy v2           Juego de Living                         Gispy                  9                                   Café\n",
            "    8998078                        Juego de balcón 3 piezas Slats madera                       NaN                           NaN                  0                                    NaN\n",
            "    278002X                 Juego de Living de Terraza Cirali 7 Personas           Juego de Living                        Cirali                  7              Ratan PE Café, tela beige\n",
            "    279330X                      Juego de Comedor de Terraza  8 Personas          Juego de Comedor                 COM8PER RALUN                  8                             Café Crema\n",
            "    305215X                  Juego de Living de Terraza Curvo 5 Personas           Juego de Living                   Malla Omega                  5                            Blanco/Café\n",
            "    305229X                      Juego de Comedor de Terraza  6 Personas          Juego de Comedor                       COM-010                  6                             Multicolor\n",
            "    305232X                     Juego de Comedor de Terraza  12 Personas          Juego de Comedor                       Piedras                 10                             Multicolor\n",
            "    331717X       Juego de Living Seccional de Terraza Saigon 6 Personas           Juego de Living                        Saigon                  6              Ratan PE café/ tela verde\n",
            "    331734X                            Juego de Balcón Sidney 2 Personas           Juego de Balcón                        Sidney                  2                                   Café\n",
            "    336528X                                   Juego de balcón 2 personas           Juego de Balcón                          Budu                  2                             Gris Claro\n",
            "    336531X                  Juego de Living de Terraza Pucon 5 Personas           Juego de Living                         Pucon                  5                                   Café\n",
            "    336934X                         Juego de Balcón Cafetería 2 personas           Juego de Living                        SET-01                  2                            Negro/Beige\n",
            "    343544X              Juego de living seccional de terraza 4 personas           Juego de Living                     Seccional                  4                            Café Oscuro\n",
            "    356861X                Juego de Living de Terraza Toronto 5 Personas           Juego de Living                       Toronto                  5                           Gris/natural\n",
            "    368377X                     Juego de Balcón Cozumel Negro 2 personas           Juego de Balcón                 Cozumel Negro                  2                                  Negro\n",
            "    368380X                                Juego de Balcón Mosaico color          Juego de Comedor                Mosaico Fierro                  2                                   Azul\n",
            "    406531X                                   Silla aluminio slat. Plata           Juego de Balcón                        SC-017                  1                                  Plata\n",
            "    552718X                              Jueg de living terraza 4 piezas           Juego de Living                     Melbourne                  5                                  Negro\n",
            "    553478X                       Juego de comedor de terraza 4 personas          Juego de Comedor                      Bruselas                  4                          negro/natural\n",
            "    553481X                           Juego de living terraza 5 personas           Juego de Living                       Cordova                  5                                   café\n",
            "     57001X                                         Mesa circular resina          Juego de Comedor                 Mesa velencia                  0                                  Negro\n",
            "    587047X               Juego de living de terraza west bay 5 personas           Juego de Living                      West bay                  5                                   Café\n",
            "    587050X                    Juego de Balcón Tulum turquesa 2 personas           Juego de Balcón                         Tulum                  2                               Turquesa\n",
            "    589879X                    Juego comedor de terraza caoba 6 personas          Juego de Comedor                   Caral/Caoba                  6                                 Blanco\n",
            "    590000X                       Set mueble terraza Mallorca 2 personas           Juego de Balcón                       NW-SF2P                  2                                   Café\n",
            "    601965X                     Juego de balcón Lombok rattan 2 personas           Juego de Balcón                        Lombok                  2                                   Café\n",
            "    654326X                           Juego de balcón Belgica 2 personas           Juego de Balcón                  S023/STBELGI                  2                                   Café\n",
            "    657453X                        Juego living terraza Fresno chocolate           Juego de Balcón                        FRESNO                  4                              CHOCOLATE\n",
            "    657744X                                  Set balcon nature café Cafe           Juego de Balcón                        Nature                  2                                   Cafe\n",
            "    660305X                                     Set balcón nature marfil           Juego de Living                        NATURE                  4                                 Marfil\n",
            "    719286X               Juego de comedor de terrazas helena 4 personas          Juego de Comedor                          HELE                  4                                   Gris\n",
            "    730725X             Juego de terraza básica arrayán nogal gris perla           Juego de Living                       Arrayan                  5                             Gris Perla\n",
            "    735018X                Set De Mesa Cubierta Menta Y Dos Sillas Eames           Juego de Balcón                     DPKIDS-54                  2                                  Menta\n",
            "    873027X              Juego de comedor de terraza 7 piezas multicolor          Juego de Comedor                        CASSIS                  6                             Multicolor\n",
            "    873044X                               Sillón columpio infantil color           Juego de Balcón                      20189C-B                  2                             Multicolor\n",
            "    873058X             Juego de living de terraza modular 5 piezas pipa           Juego de Living                          Pipa                  4                                 Blanco\n",
            "    873075X                              Juego balcón capuccino 3 piezas           Juego de Balcón                  CAPUCC3PZ-21                  2                               Turquesa\n",
            "    873092X             Juego de balcón terraza sao paulo 3 piezas taupe           Juego de Balcón                     Sao Paulo                  2                                  Taupe\n",
            "    873111X                   Juego de comedor de terrazas 7 piezas pipa          Juego de Comedor                          Pipa                  6                                  Beige\n",
            "    884173X     Juego de comedor de terraza 6 personas munich negro/café          Juego de Comedor                        Munich                  6                             Negro/Café\n",
            "    884187X                     Juego de living terraza sling 4 personas           Juego de Living                         Sling                  4                            Café Oscuro\n",
            "    896386X                                    Juego de comedor reims v2           Juego de Living                         Reims                  6                                   Café\n"
          ]
        }
      ]
    },
    {
      "cell_type": "code",
      "source": [
        "\n",
        "# Add new columns for each selected column without checking if the values exist\n",
        "for name_column in selected_columns[2:]:\n",
        "    clean_df.insert(clean_df.columns.get_loc(name_column) + 1, f\"{name_column} appears\", None)\n",
        "\n",
        "# Print the DataFrame with the new columns\n",
        "print(clean_df)\n"
      ],
      "metadata": {
        "id": "9bm_XuIK2T6d"
      },
      "execution_count": null,
      "outputs": []
    },
    {
      "cell_type": "code",
      "source": [
        "\n",
        "# Columnas con atributos obligatorios para buscar en desc web\n",
        "selected_columns = ['Tipo de mobiliario jardín', 'Modelo', 'Número de personas', 'Color']\n",
        "\n",
        "# Function to check if all values appear in the Descripción Web column in any case\n",
        "def all_values_appear_in_web_description(row):\n",
        "    description_web = row[\"Descripción Web\"].lower()\n",
        "    for col in selected_columns:\n",
        "        value = str(row[col]).lower()\n",
        "        if col == \"Tipo de mobiliario jardín\":\n",
        "            aux = value.split(\" \")\n",
        "            if len(aux) == 4:\n",
        "                value = aux[-2] + \" \" + aux[-1]\n",
        "            else:\n",
        "                value = aux[-1]\n",
        "        # Set the corresponding boolean column to True or False\n",
        "        row[f\"{col} appears\"] = value in description_web\n",
        "    # Set the \"AllValuesAppear\" column based on the condition\n",
        "    row['AllValuesAppear'] = all(row[f\"{col} appears\"] for col in selected_columns)\n",
        "    return row\n",
        "\n",
        "# Apply the function to each row\n",
        "clean_df = clean_df.apply(all_values_appear_in_web_description, axis=1)\n",
        "\n",
        "# Print the DataFrame with the new columns\n",
        "print(clean_df)\n"
      ],
      "metadata": {
        "colab": {
          "base_uri": "https://localhost:8080/"
        },
        "id": "vuieS5ij8s9O",
        "outputId": "85eff3f4-1c24-4ee3-aa27-04b267e327d2"
      },
      "execution_count": 30,
      "outputs": [
        {
          "output_type": "stream",
          "name": "stdout",
          "text": [
            "    SKU - Chile                                    Descripción Web Tipo de mobiliario jardín  Tipo de mobiliario jardín appears     Modelo  Modelo appears Número de personas  Número de personas appears         Color  Color appears  AllValuesAppear\n",
            "0       6575811                Set balcon nature turquesa Turquesa           Juego de Balcón                              False     Nature            True                  2                       False      Turquesa           True            False\n",
            "1       6577423                     Set balcon nature verde oscuro           Juego de Balcón                              False     Nature            True                  2                       False  Verde Oscuro           True            False\n",
            "2       6577431                             Set balcon nature gris           Juego de Balcón                              False     Nature            True                  2                       False          Gris           True            False\n",
            "3       6578276             Juego living terraza Brisbane caramelo           Juego de Balcón                              False   BRISBANE            True                  4                       False      CARAMELO           True            False\n",
            "4       6579396            Juego living terraza Brisbane chocolate           Juego de Balcón                              False   BRISBANE            True                  2                       False     CHOCOLATE           True            False\n",
            "..          ...                                                ...                       ...                                ...        ...             ...                ...                         ...           ...            ...              ...\n",
            "176     873092X   Juego de balcón terraza sao paulo 3 piezas taupe           Juego de Balcón                               True  Sao Paulo            True                  2                       False         Taupe           True            False\n",
            "177     873111X         Juego de comedor de terrazas 7 piezas pipa          Juego de Comedor                               True       Pipa            True                  6                       False         Beige          False            False\n",
            "178     884173X  Juego de comedor de terraza 6 personas munich ...          Juego de Comedor                               True     Munich            True                  6                        True    Negro/Café           True             True\n",
            "179     884187X           Juego de living terraza sling 4 personas           Juego de Living                               True      Sling            True                  4                        True   Café Oscuro          False            False\n",
            "180     896386X                          Juego de comedor reims v2           Juego de Living                              False      Reims            True                  6                       False          Café          False            False\n",
            "\n",
            "[181 rows x 11 columns]\n"
          ]
        }
      ]
    },
    {
      "cell_type": "code",
      "source": [
        "PrintingDF(clean_df)"
      ],
      "metadata": {
        "colab": {
          "base_uri": "https://localhost:8080/"
        },
        "id": "YffVv80T3MUE",
        "outputId": "0f42cef3-b59e-4eeb-9a0a-14fc4d61ac5c"
      },
      "execution_count": 31,
      "outputs": [
        {
          "output_type": "stream",
          "name": "stdout",
          "text": [
            "SKU - Chile                                              Descripción Web Tipo de mobiliario jardín  Tipo de mobiliario jardín appears                        Modelo  Modelo appears Número de personas  Número de personas appears                                  Color  Color appears  AllValuesAppear\n",
            "    6575811                          Set balcon nature turquesa Turquesa           Juego de Balcón                              False                        Nature            True                  2                       False                               Turquesa           True            False\n",
            "    6577423                               Set balcon nature verde oscuro           Juego de Balcón                              False                        Nature            True                  2                       False                           Verde Oscuro           True            False\n",
            "    6577431                                       Set balcon nature gris           Juego de Balcón                              False                        Nature            True                  2                       False                                   Gris           True            False\n",
            "    6578276                       Juego living terraza Brisbane caramelo           Juego de Balcón                              False                      BRISBANE            True                  4                       False                               CARAMELO           True            False\n",
            "    6579396                      Juego living terraza Brisbane chocolate           Juego de Balcón                              False                      BRISBANE            True                  2                       False                              CHOCOLATE           True            False\n",
            "    6592902                               Set balcón tavarua Marrón moro           Juego de Balcón                               True                  PSTX03170000           False                  2                       False                            Marrón moro           True            False\n",
            "    6592910                        Set mesa rectangular roble + 6 sillas          Juego de Comedor                              False                  PSTX03160000           False                  6                        True                            Marrón moro          False            False\n",
            "    6603041                                    Living Terraza Sofia Café           Juego de Living                               True                         Sofia            True                  4                       False                                   Café           True            False\n",
            "    6603785                                     Set Terraza Isabel Negro           Juego de Balcón                              False                        Isabel            True                  4                       False                                  Negro           True            False\n",
            "    6604684                      Set balcón nature azul claro Azul claro           Juego de Living                              False                        NATURE            True                  4                       False                             Azul claro           True            False\n",
            "    6604706                               Sofá Comedor Terraza Esperanza           Juego de Living                              False                     Esperanza            True                  4                       False                                   Café          False            False\n",
            "    6604714                                     Set Terraza Belgica Café           Juego de Balcón                              False                       Belgica            True                  4                       False                                   Café           True            False\n",
            "    6605192                                 Sofá Comedor Terraza Antonia           Juego de Living                              False                       Antonia            True                  4                       False                                   Café          False            False\n",
            "    6605214                                  Living Terraza Antonia Café           Juego de Living                               True                        Amanda           False                  4                       False                                   Café           True            False\n",
            "    6605230                                     Living Terraza Estefania           Juego de Living                               True                     Estefania            True                  4                       False                                   Café          False            False\n",
            "    6699618                   Living Terraza Rattan Florencia 4 personas           Juego de Living                               True                     S011/FLOR           False                  4                        True                            Café Oscuro          False            False\n",
            "    6699634                         Set Balcon Curimon - Caramelo/Marfil           Juego de Balcón                              False                      BC1949CA           False                  2                       False                             Café Claro          False            False\n",
            "    6699642                              Set Balcon Curimon - Negro/Gris           Juego de Balcón                              False                        BC1950           False                  2                       False                                  Negro           True            False\n",
            "    6699685                     Living Terraza Rattan Palermo 5 personas           Juego de Living                               True                     S076/PALE           False                  5                        True                            Café Oscuro          False            False\n",
            "    6699693                      Living Terraza Rattan Kanpur 4 personas           Juego de Living                               True                      S009/KAN           False                  4                        True                            Café Oscuro          False            False\n",
            "    6699707                        Set Balcon Curimon - Chocolate/Marfil           Juego de Balcón                              False                        BC1949           False                  2                       False                            Café Oscuro          False            False\n",
            "    6699715                       Living Terraza Rattan Milan 4 personas           Juego de Living                               True                    S071/MILAN           False                  4                        True                            Café Oscuro          False            False\n",
            "    6727948                           Juego living ratán 4 personas Lyon           Juego de Living                               True JUEGO LIVING RATAN 4 PER LYON           False                  4                        True Ratán Negro con cojines en tela Beige.          False            False\n",
            "    6727964                    Juego Living 2 Personas Ratán de PE Pekin           Juego de Living                               True      JUEGO LIVING 2 PER PEKIN           False                  2                        True Ratán Negro con cojines en tela Beige.          False            False\n",
            "    6734324                                 Jgo comedor 9 pzas amsterdam          Juego de Comedor                               True                     Amsterdam            True                  8                       False   Ratán gris con Cojines en tela beige          False            False\n",
            "    6894852                           Juego terraza 4 piezas metal Negro           Juego de Living                              False                         47854           False                  4                        True                                  Negro           True            False\n",
            "    7192762         Juego de living seccional de terraza lisa 6 personas           Juego de Living                               True                          LISA            True                  5                       False                                  Beige          False            False\n",
            "    7192797                           Juedo de balcón beltran 2 personas           Juego de Balcón                               True                       BELTRAN            True                  2                        True                            Café /Beige          False            False\n",
            "    7192819       Juego de living seccional de terraza montti 4 personas           Juego de Living                               True                         MONTT            True                  4                        True                                   Gris          False            False\n",
            "    7192827         Juego de comedor de terraza camille beige 6 personas           Juego de Living                              False                          CAMI            True                  6                        True                                  Beige           True            False\n",
            "    7192843                         Juego de balcón mia beige 2 personas           Juego de Balcón                               True                           MIA            True                  2                        True                            Café /Beige          False            False\n",
            "    7306652                          Juego de terraza premium ulmo beige           Juego de Living                              False                          Ulmo            True                  7                       False                                  Beige           True            False\n",
            "    7306660                           Juego de terraza premium ulmo azul           Juego de Living                              False                          Ulmo            True                  7                       False                                   Azul           True            False\n",
            "    7306679                            Juego de terraza básica ulmo azul           Juego de Living                              False                          Ulmo            True                  5                       False                                   Azul           True            False\n",
            "    7306687                        Juego de terraza premium ulmo grafito           Juego de Living                              False                          Ulmo            True                  7                       False                                Grafito           True            False\n",
            "    7306695                         Juego de terraza básica ulmo grafito           Juego de Living                              False                          Ulmo            True                  5                       False                                Grafito           True            False\n",
            "    7306784                           Juego de terraza básica ulmo beige           Juego de Living                              False                          Ulmo            True                  5                       False                                  Beige           True            False\n",
            "    7306806                     Juego de terraza premium ulmo gris perla           Juego de Living                              False                          Ulmo            True                  7                       False                             Gris Perla           True            False\n",
            "    7306849                      Juego de terraza básica ulmo gris perla           Juego de Living                              False                          Ulmo            True                  5                       False                             Gris Perla           True            False\n",
            "    7307144                Juego de terraza básica arrayán nogal grafito           Juego de Living                              False                       Arrayán            True                  5                       False                                Grafito           True            False\n",
            "    7307152                  Juego de terraza básica arrayán nogal beige           Juego de Living                              False                       Arrayán            True                  5                       False                                  Beige           True            False\n",
            "    7307160                   Juego de terraza básica arrayán nogal azul           Juego de Living                              False                       Arrayan           False                  5                       False                                   Azul           True            False\n",
            "    7307179              Juego de terraza básica maitén nogal gris perla           Juego de Living                              False                        Maitén            True                  5                       False                             Gris Perla           True            False\n",
            "    7307187             Juego de terraza premium maitén nogal gris perla           Juego de Living                              False                        Maitén            True                  5                       False                             Gris Perla           True            False\n",
            "    7307195                  Juego de terraza premium maitén nogal beige           Juego de Living                              False                        Maitén            True                  5                       False                                  Beige           True            False\n",
            "    7307209            Juego de terraza premium arrayán nogal gris perla           Juego de Living                              False                       Arrayán            True                  7                       False                             Gris Perla           True            False\n",
            "    7307217                 Juego de terraza premium laurel natural azul           Juego de Living                              False                        Laurel            True                  4                       False                                   Azul           True            False\n",
            "    7307225               Juego de terraza premium arrayán nogal grafito           Juego de Living                              False                       Arrayan           False                  7                       False                                Grafito           True            False\n",
            "    7307233                      Juego de bar de terraza patagonia nogal              Juego de Bar                               True                     Patagonia            True                  6                       False                                  Nogal           True            False\n",
            "    7307241                  Juego de terraza premium arrayán nogal azul           Juego de Living                              False                       Arrayan           False                  7                       False                                   Azul           True            False\n",
            "    7307268                   Juego de terraza premium maitén nogal azul           Juego de Living                              False                        Maiten           False                  5                       False                                   Azul           True            False\n",
            "    7307276         Juego de terraza premium laurel albayalde gris perla           Juego de Living                              False                        Laurel            True                  4                       False                             Gris Perla           True            False\n",
            "    7307284                   Juego de terraza básica maitén nogal beige           Juego de Living                              False                        Maiten           False                  5                       False                                  Beige           True            False\n",
            "    7307292                 Juego de terraza premium arrayán nogal beige           Juego de Living                              False                       Arrayan           False                  7                       False                                  Beige           True            False\n",
            "    7307306                 Juego de terraza básica maitén nogal grafito           Juego de Living                              False                        Maiten           False                  5                       False                                Grafito           True            False\n",
            "    7307322                    Juego de terraza básica maitén nogal azul           Juego de Living                              False                        Maiten           False                  5                       False                                   Azul           True            False\n",
            "    7307330               Juego de terraza premium laurel cereza grafito           Juego de Living                              False                        Laurel            True                  4                       False                                Grafito           True            False\n",
            "    7307349                        Juego de bar de terraza austral nogal              Juego de Bar                               True                       Austral            True                  6                       False                                  Nogal           True            False\n",
            "    7307357                Juego de terraza premium maitén nogal grafito           Juego de Living                              False                        Maiten           False                  5                       False                                Grafito           True            False\n",
            "    7307373              Juego de terraza premium laurel chocolate beige           Juego de Living                              False                        Laurel            True                  4                       False                                  Beige           True            False\n",
            "    7350082                  Set De Mesa Blanca Y Dos Sillas Rojas Eames           Juego de Balcón                              False                    DPKIDS-105           False                  2                       False                            Blanco/rojo          False            False\n",
            "    7350090                   Set De Mesa Blanca Y Dos Sillas Gris Eames           Juego de Balcón                              False                    DPKIDS-106           False                  2                       False                            Blanco/gris          False            False\n",
            "    7350104                  Set De Mesa Blanca Y Dos Sillas Verde Eames           Juego de Balcón                              False                    DPKIDS-107           False                  2                       False                           Blanco/verde          False            False\n",
            "    7350112             Set De Mesa Cubierta Amarilla Y Dos Sillas Eames           Juego de Balcón                              False                     DPKIDS-60           False                  2                       False                               Amarillo          False            False\n",
            "    7350120               Set De Mesa Cubierta Morada Y Dos Sillas Eames           Juego de Balcón                              False                     DPKIDS-56           False                  2                       False                                 Morado          False            False\n",
            "    7350139               Set De Mesa Cubierta Morada Y Dos Sillas Eames           Juego de Balcón                              False                     DPKIDS-61           False                  2                       False                                 Morado          False            False\n",
            "    7350147               Set De Mesa Cubierta Rosada Y Dos Sillas Eames           Juego de Balcón                              False                     DPKIDS-59           False                  2                       False                                   Rosa           True            False\n",
            "    7350155               Set De Mesa Cubierta Rosada Y Dos Sillas Eames           Juego de Balcón                              False                     DPKIDS-53           False                  2                       False                                   Rosa           True            False\n",
            "    7350163                Set De Mesa Cubierta Menta Y Dos Sillas Eames           Juego de Balcón                              False                     DPKIDS-57           False                  2                       False                                  Menta           True            False\n",
            "    7350171               Set De Mesa Cubierta Blanca Y Dos Sillas Eames           Juego de Balcón                              False                     DPKIDS-58           False                  2                       False                                 Blanco          False            False\n",
            "    7350198             Set De Mesa Cubierta Amarilla Y Dos Sillas Eames           Juego de Balcón                              False                     DPKIDS-55           False                  2                       False                               Amarillo          False            False\n",
            "    8724377                                   Comedor con bancas terraza                       NaN                              False                   CHILESR0010           False                  0                       False                                    NaN          False            False\n",
            "    8730288                        Juego de living de terraza 5 personas           Juego de Living                               True                         Simos           False                  3                       False                             Multicolor          False            False\n",
            "    8730458                           Sillón columpio infantil rosa Rosa           Juego de Living                              False                     20189C-GR           False                  2                       False                                   Rosa           True            False\n",
            "    8730466                        Juego terraza infantil 4 piezas color          Juego de Comedor                              False                      20275A-B           False                  2                       False                                   Azul          False            False\n",
            "    8730474                         Juego terraza infantil 4 piezas rosa           Juego de Balcón                              False                     20275A-GR           False                  2                       False                                   Rosa           True            False\n",
            "    8730482    Juego de living seccional de terrazas 3 piezas saint john           Juego de Living                               True                    Saint John            True                  4                       False                             Multicolor          False            False\n",
            "    8730555                   Juego de living de terraza 4 piezas ischia           Juego de Living                               True                         Ishia           False                  5                       False                           Beige/Madera          False            False\n",
            "    8730563                              Juego balcón 3 piezas Victoria.           Juego de Living                              False                      Victoria            True                  2                       False                                  Negro          False            False\n",
            "    8730571                Juego de bar terraza tulum 7 piezas café/gris           Juego de Living                              False                         Tulum            True                  6                       False                              Café/Gris           True            False\n",
            "    8730598                  Sofá modular de terraza org 4 piezas blanco           Juego de Living                              False                       52626ST           False                  5                       False                                 Blanco           True            False\n",
            "    8730830            Juego de living de terraza 4 piezas toscana negro           Juego de Living                               True                       Toscana            True                  4                        True                           Negro/Madera          False            False\n",
            "    8730849             Juego de living de terrazas 6 piezas reims negro          Juego de Comedor                              False                         Reims            True                  7                       False                                  Negro           True            False\n",
            "    8730865           Juego de living de terraza 4 personas stiniva gris           Juego de Living                               True                       Stiniva            True                  4                        True                                   Gris           True             True\n",
            "    8730911              Juego de balcón terraza sao paulo 3 piezas aqua           Juego de Balcón                               True                     SAO PAULO            True                  2                       False                                   Aqua           True            False\n",
            "    8730938              Juego de terraza sao paulo 4 personas chocolate           Juego de Living                              False                 HDF1368-CHOCO           False                  4                        True                              Chocolate           True            False\n",
            "    8730989                        Juego balcón plg 5 piezas Dublin acac           Juego de Living                              False                        Dublin            True                  4                       False                                   Café          False            False\n",
            "    8731020                            Juego balcón arezzo 3 piezas Café           Juego de Balcón                               True                        Arezzo            True                  2                       False                                   Café           True            False\n",
            "    8731055                           Juego balcón modular 5 piezas milo           Juego de Living                              False                          Milo            True                  4                       False                                  Negro          False            False\n",
            "    8731063            Set sofá de terraza houston 2 piezas blanco/negro           Juego de Living                              False                       Houston            True                  4                       False                           Blanco/Negro           True            False\n",
            "    8731101                            Juego balcón 5 piezas moscu sling           Juego de Living                              False                   MOSCU SLING            True                  4                       False                                  Negro          False            False\n",
            "    8731136                         Juego balcón pleg 3 piezas cambridge           Juego de Balcón                               True                  535.0100.001           False                  2                       False                                   Café          False            False\n",
            "    8731144                        Juego balcón 3 piezas cannon Plateado           Juego de Balcón                               True                        Cannon            True                  2                       False                               Plateado           True            False\n",
            "    8731152                        Juego balcón mecd 3 piezas south male           Juego de Living                              False                  545.0000.000           False                  2                       False                                   Gris          False            False\n",
            "    8731160              Juego de comedor de terraza 6 piezas country II          Juego de Comedor                               True                       Country            True                  4                       False                             Multicolor          False            False\n",
            "    8732892                 Juego de comedor de terraza 6 piezas country          Juego de Comedor                               True                       COUNTRY            True                  4                       False                             Multicolor          False            False\n",
            "    8733244         Juego de living de terraza 4 personas palawan acacia           Juego de Living                               True                       Palawan            True                  4                        True                                 Madera          False            False\n",
            "    8790124                        Juego balcón mosaico Curaiva 3 piezas                       NaN                              False                           NaN           False                  0                       False                                    NaN          False            False\n",
            "    8790132                                       Juego comedor 6 piezas                       NaN                              False                           NaN           False                  0                       False                                    NaN          False            False\n",
            "    8841306                        Set 2 sillas mosaico Japón Multicolor           Juego de Balcón                              False                       Mosaico            True                  1                       False                             Multicolor           True            False\n",
            "    8841314                               Set 2 sillas mosaico grace bay           Juego de Balcón                              False                       Mosaico            True                  1                       False                             Multicolor          False            False\n",
            "    8841586                                Jgo balcón capuccion 3pz choc           Juego de Balcón                               True                     Capuccino           False                  2                       False                                   Café          False            False\n",
            "    8841594                               Jgo balcón capuccino 3 pz Azul           Juego de Balcón                               True                     CAPUCCINO            True                  2                       False                                   Azul           True            False\n",
            "    8841667        Juego de living de terraza 4 personas florencia beige           Juego de Living                               True                     Florencia            True                  4                        True                                  Beige           True             True\n",
            "    8841721              Juego de living seccional de terraza palma gris           Juego de Living                               True                         Palma            True                  4                       False                                   Gris           True            False\n",
            "    8841748           Juego de living de terraza 5 personas genova beige           Juego de Living                               True                        Genova            True                  5                        True                                  Beige           True             True\n",
            "    8841756        Juego de living de terraza 5 personas andalucia beige           Juego de Living                               True                     Andalucia            True                  5                        True                                  Beige           True             True\n",
            "    8841772                  Juego de living de terraza 6 personas ibiza           Juego de Living                               True                         Ibiza            True                  6                        True                       Café claro/beige          False            False\n",
            "    8841780           Juego de comedor de terrazas 4 personas niza beige           Juego de Balcón                              False                          Niza            True                  4                        True                                  Beige           True            False\n",
            "    8841799               Juego de living de terraza 4 personas valencia           Juego de Living                               True                      Valencia            True                  4                        True                                  Beige          False            False\n",
            "    8841802                           Jgo balcon 2 personas genova Beige           Juego de Balcón                              False                        Genova            True                  2                        True                                  Beige           True            False\n",
            "    8841810                Juego de comedor de terraza 8 personas boston          Juego de Comedor                               True                        Boston            True                  8                        True                      Café oscuro/beige          False            False\n",
            "    8841829                Silla bar de terraza resina montpellier negro              Juego de Bar                               True                   Montpellier            True                  1                       False                                  Negro           True            False\n",
            "    8841837 Juego de living seccional de terraza saigon 5 personas beige           Juego de Living                               True                        Saigon            True                  5                        True                                  Beige           True             True\n",
            "    8841888                  Juego de living de terraza 4 piezas grafito           Juego de Living                               True                        Merano           False                  4                        True                                Grafito           True            False\n",
            "    8841896                             Jgo balcón maceio pz beige Beige           Juego de Balcón                               True                        Maceio            True                  2                       False                                  Beige           True            False\n",
            "    8841918                            Jgo balcón 3pz brujas taupe Taupe           Juego de Balcón                               True                        Brujas            True                  2                       False                                  Taupe           True            False\n",
            "    8841926                              Jgo balcón 3pz brujas azul Azul           Juego de Balcón                               True                        Brujas            True                  2                       False                                   Azul           True            False\n",
            "    8916667                 Juego de comedor de terraza ratán 2 personas          Juego de Comedor                               True                        Rattan           False                  3                       False                           Crema/Madera          False            False\n",
            "    8916675                    Juego de comedor terraza ratan 8 personas          Juego de Comedor                               True                WOODEN SET 441           False                  8                        True                                  Crema          False            False\n",
            "    8919755                Juego de living de terraza 4 personas mendoza           Juego de Balcón                              False                       Mendoza            True                  4                        True                                 Marrón          False            False\n",
            "    8919763              Juego de living de terraza 4 personas sao paulo           Juego de Living                               True                     Sao Paulo            True                  4                        True                                  Crema          False            False\n",
            "    8919798                                Jgo comedor 6 pers Montevideo          Juego de Comedor                               True                    MONTEVIDEO            True                  6                        True                             Gris claro          False            False\n",
            "    8919836        Juego de comedor de terraza 4 personas santiago negro          Juego de Comedor                               True                      Santiago            True                  4                        True                                  Negro           True             True\n",
            "    8963568                                    Juego de balcon dominicos           Juego de Balcón                              False                     DOMINICOS            True                  2                       False                             Café claro          False            False\n",
            "    8963592                               Jgo balcon pleg 3pz cambrid v2           Juego de Balcón                              False                     CAMBRIDGE           False                  2                        True                            Café oscuro          False            False\n",
            "    8963606                                Juego de comedor 6pers madera           Juego de Living                              False                    NP2212013W           False                  4                       False                                Natural          False            False\n",
            "    8963614       Juego de Balcón para Terraza Victoria 2 Personas Negro           Juego de Balcón                               True                      Victoria            True                  2                        True                                  Negro           True             True\n",
            "    8963622     Juego de Bar para Terraza Madera 4 Personas Gris/Natural              Juego de Bar                               True                        Madera            True                  4                        True                           Gris/Natural           True             True\n",
            "    8963630                 Juego de Bar para Terraza 4 Personas Natural              Juego de Bar                               True                     NP2214001           False                  4                        True                                Natural           True            False\n",
            "    8963657      Juego de Comedor para Terraza Madera 6 Personas Natural          Juego de Comedor                               True                        Madera            True                  6                        True                                Natural           True             True\n",
            "    8963673      Juego de Comedor para Terraza Madera 6 Personas Natural          Juego de Comedor                               True                        Madera            True                  6                        True                                Natural           True             True\n",
            "    8963738                 Juego de living de terraza mersil 4 personas           Juego de Living                               True                        MERSIL            True                  4                        True                                  Crema          False            False\n",
            "    8963762                        Juego de balcón de terraza roma negro           Juego de Balcón                               True                          Roma            True                  2                       False                                  Negro           True            False\n",
            "    8963789                       Juego de balcón de terraza roma blanco           Juego de Balcón                               True                          Roma            True                  2                       False                                 Blanco           True            False\n",
            "    8963819                 Juego de Living de Terraza 4 Personas Madera           Juego de Living                               True                     NP2212001           False                  4                        True                                Natural          False            False\n",
            "    8963827                                Juego de comedor 8 pers lucca          Juego de Comedor                               True                         Lucca            True                  8                        True                                Natural          False            False\n",
            "    8963835                                           Juego de bar lucca              Juego de Bar                               True                         Lucca            True                  4                       False                                Natural          False            False\n",
            "    8963843                                  Juego de living 5pers lucca           Juego de Living                               True                         Lucca            True                  5                        True                                Natural          False            False\n",
            "    8963851                                    Juego de comedor gispy v2           Juego de Living                              False                         Gispy            True                  9                       False                                   Café          False            False\n",
            "    8998078                        Juego de balcón 3 piezas Slats madera                       NaN                              False                           NaN           False                  0                       False                                    NaN          False            False\n",
            "    278002X                 Juego de Living de Terraza Cirali 7 Personas           Juego de Living                               True                        Cirali            True                  7                        True              Ratan PE Café, tela beige          False            False\n",
            "    279330X                      Juego de Comedor de Terraza  8 Personas          Juego de Comedor                               True                 COM8PER RALUN           False                  8                        True                             Café Crema          False            False\n",
            "    305215X                  Juego de Living de Terraza Curvo 5 Personas           Juego de Living                               True                   Malla Omega           False                  5                        True                            Blanco/Café          False            False\n",
            "    305229X                      Juego de Comedor de Terraza  6 Personas          Juego de Comedor                               True                       COM-010           False                  6                        True                             Multicolor          False            False\n",
            "    305232X                     Juego de Comedor de Terraza  12 Personas          Juego de Comedor                               True                       Piedras           False                 10                       False                             Multicolor          False            False\n",
            "    331717X       Juego de Living Seccional de Terraza Saigon 6 Personas           Juego de Living                               True                        Saigon            True                  6                        True              Ratan PE café/ tela verde          False            False\n",
            "    331734X                            Juego de Balcón Sidney 2 Personas           Juego de Balcón                               True                        Sidney            True                  2                        True                                   Café          False            False\n",
            "    336528X                                   Juego de balcón 2 personas           Juego de Balcón                               True                          Budu           False                  2                        True                             Gris Claro          False            False\n",
            "    336531X                  Juego de Living de Terraza Pucon 5 Personas           Juego de Living                               True                         Pucon            True                  5                        True                                   Café          False            False\n",
            "    336934X                         Juego de Balcón Cafetería 2 personas           Juego de Living                              False                        SET-01           False                  2                        True                            Negro/Beige          False            False\n",
            "    343544X              Juego de living seccional de terraza 4 personas           Juego de Living                               True                     Seccional            True                  4                        True                            Café Oscuro          False            False\n",
            "    356861X                Juego de Living de Terraza Toronto 5 Personas           Juego de Living                               True                       Toronto            True                  5                        True                           Gris/natural          False            False\n",
            "    368377X                     Juego de Balcón Cozumel Negro 2 personas           Juego de Balcón                               True                 Cozumel Negro            True                  2                        True                                  Negro           True             True\n",
            "    368380X                                Juego de Balcón Mosaico color          Juego de Comedor                              False                Mosaico Fierro           False                  2                       False                                   Azul          False            False\n",
            "    406531X                                   Silla aluminio slat. Plata           Juego de Balcón                              False                        SC-017           False                  1                       False                                  Plata           True            False\n",
            "    552718X                              Jueg de living terraza 4 piezas           Juego de Living                               True                     Melbourne           False                  5                       False                                  Negro          False            False\n",
            "    553478X                       Juego de comedor de terraza 4 personas          Juego de Comedor                               True                      Bruselas           False                  4                        True                          negro/natural          False            False\n",
            "    553481X                           Juego de living terraza 5 personas           Juego de Living                               True                       Cordova           False                  5                        True                                   café          False            False\n",
            "     57001X                                         Mesa circular resina          Juego de Comedor                              False                 Mesa velencia           False                  0                       False                                  Negro          False            False\n",
            "    587047X               Juego de living de terraza west bay 5 personas           Juego de Living                               True                      West bay            True                  5                        True                                   Café          False            False\n",
            "    587050X                    Juego de Balcón Tulum turquesa 2 personas           Juego de Balcón                               True                         Tulum            True                  2                        True                               Turquesa           True             True\n",
            "    589879X                    Juego comedor de terraza caoba 6 personas          Juego de Comedor                               True                   Caral/Caoba           False                  6                        True                                 Blanco          False            False\n",
            "    590000X                       Set mueble terraza Mallorca 2 personas           Juego de Balcón                              False                       NW-SF2P           False                  2                        True                                   Café          False            False\n",
            "    601965X                     Juego de balcón Lombok rattan 2 personas           Juego de Balcón                               True                        Lombok            True                  2                        True                                   Café          False            False\n",
            "    654326X                           Juego de balcón Belgica 2 personas           Juego de Balcón                               True                  S023/STBELGI           False                  2                        True                                   Café          False            False\n",
            "    657453X                        Juego living terraza Fresno chocolate           Juego de Balcón                              False                        FRESNO            True                  4                       False                              CHOCOLATE           True            False\n",
            "    657744X                                  Set balcon nature café Cafe           Juego de Balcón                              False                        Nature            True                  2                       False                                   Cafe           True            False\n",
            "    660305X                                     Set balcón nature marfil           Juego de Living                              False                        NATURE            True                  4                       False                                 Marfil           True            False\n",
            "    719286X               Juego de comedor de terrazas helena 4 personas          Juego de Comedor                               True                          HELE            True                  4                        True                                   Gris          False            False\n",
            "    730725X             Juego de terraza básica arrayán nogal gris perla           Juego de Living                              False                       Arrayan           False                  5                       False                             Gris Perla           True            False\n",
            "    735018X                Set De Mesa Cubierta Menta Y Dos Sillas Eames           Juego de Balcón                              False                     DPKIDS-54           False                  2                       False                                  Menta           True            False\n",
            "    873027X              Juego de comedor de terraza 7 piezas multicolor          Juego de Comedor                               True                        CASSIS           False                  6                       False                             Multicolor           True            False\n",
            "    873044X                               Sillón columpio infantil color           Juego de Balcón                              False                      20189C-B           False                  2                       False                             Multicolor          False            False\n",
            "    873058X             Juego de living de terraza modular 5 piezas pipa           Juego de Living                               True                          Pipa            True                  4                       False                                 Blanco          False            False\n",
            "    873075X                              Juego balcón capuccino 3 piezas           Juego de Balcón                               True                  CAPUCC3PZ-21           False                  2                       False                               Turquesa          False            False\n",
            "    873092X             Juego de balcón terraza sao paulo 3 piezas taupe           Juego de Balcón                               True                     Sao Paulo            True                  2                       False                                  Taupe           True            False\n",
            "    873111X                   Juego de comedor de terrazas 7 piezas pipa          Juego de Comedor                               True                          Pipa            True                  6                       False                                  Beige          False            False\n",
            "    884173X     Juego de comedor de terraza 6 personas munich negro/café          Juego de Comedor                               True                        Munich            True                  6                        True                             Negro/Café           True             True\n",
            "    884187X                     Juego de living terraza sling 4 personas           Juego de Living                               True                         Sling            True                  4                        True                            Café Oscuro          False            False\n",
            "    896386X                                    Juego de comedor reims v2           Juego de Living                              False                         Reims            True                  6                       False                                   Café          False            False\n"
          ]
        }
      ]
    },
    {
      "cell_type": "code",
      "source": [
        "list_split_local_description = []\n",
        "length = clean_df.shape[0]\n",
        "#print(length)\n",
        "\n",
        "#print(df.iloc[0])\n",
        "i = 0\n",
        "while i < 10:\n",
        "# for i in range(length):\n",
        "  list_split_local_description.append(clean_df.iloc[i][\"Descripción Web\"].split(\" \"))\n",
        "  i+=1\n",
        "print(list_split_local_description)"
      ],
      "metadata": {
        "colab": {
          "base_uri": "https://localhost:8080/"
        },
        "id": "PkQnc8mApJRq",
        "outputId": "e978965e-2819-4272-d322-4f336f04fa62"
      },
      "execution_count": 13,
      "outputs": [
        {
          "output_type": "stream",
          "name": "stdout",
          "text": [
            "[['Set', 'balcon', 'nature', 'turquesa', 'Turquesa'], ['Set', 'balcon', 'nature', 'verde', 'oscuro'], ['Set', 'balcon', 'nature', 'gris'], ['Juego', 'living', 'terraza', 'Brisbane', 'caramelo'], ['Juego', 'living', 'terraza', 'Brisbane', 'chocolate'], ['Set', 'balcón', 'tavarua', 'Marrón', 'moro'], ['Set', 'mesa', 'rectangular', 'roble', '+', '6', 'sillas'], ['Living', 'Terraza', 'Sofia', 'Café'], ['Set', 'Terraza', 'Isabel', 'Negro'], ['Set', 'balcón', 'nature', 'azul', 'claro', 'Azul', 'claro']]\n"
          ]
        }
      ]
    },
    {
      "cell_type": "code",
      "source": [],
      "metadata": {
        "id": "T08avOLSsi-X"
      },
      "execution_count": null,
      "outputs": []
    }
  ]
}