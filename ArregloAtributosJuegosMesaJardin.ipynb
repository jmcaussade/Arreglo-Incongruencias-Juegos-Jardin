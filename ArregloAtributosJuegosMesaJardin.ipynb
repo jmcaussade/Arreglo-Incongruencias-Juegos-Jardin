{
  "nbformat": 4,
  "nbformat_minor": 0,
  "metadata": {
    "colab": {
      "provenance": [],
      "authorship_tag": "ABX9TyMUkG1Ww5GSyZM5maMeHTVg",
      "include_colab_link": true
    },
    "kernelspec": {
      "name": "python3",
      "display_name": "Python 3"
    },
    "language_info": {
      "name": "python"
    }
  },
  "cells": [
    {
      "cell_type": "markdown",
      "metadata": {
        "id": "view-in-github",
        "colab_type": "text"
      },
      "source": [
        "<a href=\"https://colab.research.google.com/github/jmcaussade/Arreglo-Incongruencias-Juegos-Jardin/blob/main/ArregloAtributosJuegosMesaJardin.ipynb\" target=\"_parent\"><img src=\"https://colab.research.google.com/assets/colab-badge.svg\" alt=\"Open In Colab\"/></a>"
      ]
    },
    {
      "cell_type": "markdown",
      "source": [
        "<h1>IMPORTATIONS</h1>"
      ],
      "metadata": {
        "id": "XdQ5EhBiVmrI"
      }
    },
    {
      "cell_type": "code",
      "source": [
        "import os\n",
        "import pandas as pd"
      ],
      "metadata": {
        "id": "TgqrbVUpVlwF"
      },
      "execution_count": 38,
      "outputs": []
    },
    {
      "cell_type": "markdown",
      "source": [
        "<h1>Connection to Google Drive</h1>\n"
      ],
      "metadata": {
        "id": "ndLgWjGPTNjU"
      }
    },
    {
      "cell_type": "code",
      "source": [
        "from google.colab import drive\n",
        "drive.mount(\"/content/drive\")"
      ],
      "metadata": {
        "colab": {
          "base_uri": "https://localhost:8080/"
        },
        "id": "t4FZID_sTNJZ",
        "outputId": "a818caf8-59be-4dda-918e-9bbfc5141142"
      },
      "execution_count": 39,
      "outputs": [
        {
          "output_type": "stream",
          "name": "stdout",
          "text": [
            "Drive already mounted at /content/drive; to attempt to forcibly remount, call drive.mount(\"/content/drive\", force_remount=True).\n"
          ]
        }
      ]
    },
    {
      "cell_type": "code",
      "source": [
        "ruta = \"/content/drive/MyDrive/Sodimac/ArregloIncongruenciasJuegosJardin/JuegosJardin.xlsx\"\n",
        "df = pd.read_excel(ruta)"
      ],
      "metadata": {
        "id": "brCmGT-3iHvY"
      },
      "execution_count": 66,
      "outputs": []
    },
    {
      "cell_type": "markdown",
      "source": [
        "<h1>MAIN</h1>"
      ],
      "metadata": {
        "id": "aA8Baua6kCKV"
      }
    },
    {
      "cell_type": "markdown",
      "source": [
        "Visualization\n"
      ],
      "metadata": {
        "id": "eybBwf-el9V1"
      }
    },
    {
      "cell_type": "code",
      "source": [
        "print(df)"
      ],
      "metadata": {
        "colab": {
          "base_uri": "https://localhost:8080/"
        },
        "id": "SIov8fogk8Ym",
        "outputId": "dff1bf3b-b30f-48d6-bded-a87406907091"
      },
      "execution_count": 67,
      "outputs": [
        {
          "output_type": "stream",
          "name": "stdout",
          "text": [
            "    ANALISTA          <ID> SKU - Chile     Descripción Local del Producto  \\\n",
            "0       Jean  Item-2296968     6575811  PE SET BALCON NATURE TURQUESA- PE   \n",
            "1       Jean  Item-2296964     6577423  PE SET BALCON NATURE VERDE OSCURO   \n",
            "2       Jean  Item-2296973     6577431          PE SET BALCON NATURE GRIS   \n",
            "3       Jean  Item-2292987     6578276     PE JUEGO LIVING TERRAZA BRISBA   \n",
            "4       Jean  Item-2292990     6579396     PE JUEGO LIVING TERRAZA BRISBA   \n",
            "..       ...           ...         ...                                ...   \n",
            "176     Jean   Item-572576     873092X     JGO SAO PAULO 3PZ TAU VID LISO   \n",
            "177     Jean   Item-572595     873111X      JGO COMEDOR 7PZ PIPA RATAN PE   \n",
            "178     Jean  Item-4292858     884173X      JGO COMEDOR 6 PERSONAS MUNICH   \n",
            "179     Jean  Item-4293190     884187X       JGO LIV TERR SLING 4P MT/TEX   \n",
            "180     Jean  Item-6482955     896386X          JUEGO DE COMEDOR REIMS V2   \n",
            "\n",
            "     New Descripción Local del Producto  \\\n",
            "0                                   NaN   \n",
            "1                                   NaN   \n",
            "2                                   NaN   \n",
            "3                                   NaN   \n",
            "4                                   NaN   \n",
            "..                                  ...   \n",
            "176                                 NaN   \n",
            "177                                 NaN   \n",
            "178                                 NaN   \n",
            "179                                 NaN   \n",
            "180                                 NaN   \n",
            "\n",
            "                                       Descripción Web  New Descripción Web  \\\n",
            "0                  Set balcon nature turquesa Turquesa                  NaN   \n",
            "1                       Set balcon nature verde oscuro                  NaN   \n",
            "2                               Set balcon nature gris                  NaN   \n",
            "3               Juego living terraza Brisbane caramelo                  NaN   \n",
            "4              Juego living terraza Brisbane chocolate                  NaN   \n",
            "..                                                 ...                  ...   \n",
            "176   Juego de balcón terraza sao paulo 3 piezas taupe                  NaN   \n",
            "177         Juego de comedor de terrazas 7 piezas pipa                  NaN   \n",
            "178  Juego de comedor de terraza 6 personas munich ...                  NaN   \n",
            "179           Juego de living terraza sling 4 personas                  NaN   \n",
            "180                          Juego de comedor reims v2                  NaN   \n",
            "\n",
            "     <Parent ID>                                       Brick nombre  \\\n",
            "0       10003252  Paquetes variados de mobiliario para jardín/cé...   \n",
            "1       10003252  Paquetes variados de mobiliario para jardín/cé...   \n",
            "2       10003252  Paquetes variados de mobiliario para jardín/cé...   \n",
            "3       10003252  Paquetes variados de mobiliario para jardín/cé...   \n",
            "4       10003252  Paquetes variados de mobiliario para jardín/cé...   \n",
            "..           ...                                                ...   \n",
            "176     10003252  Paquetes variados de mobiliario para jardín/cé...   \n",
            "177     10003252  Paquetes variados de mobiliario para jardín/cé...   \n",
            "178     10003252  Paquetes variados de mobiliario para jardín/cé...   \n",
            "179     10003252  Paquetes variados de mobiliario para jardín/cé...   \n",
            "180     10003252  Paquetes variados de mobiliario para jardín/cé...   \n",
            "\n",
            "                       <Producto a Clacom>  ...                Comprador CL  \\\n",
            "0       0522060304-JUEGOS DE BALCON MADERA  ...            2 - Compra Local   \n",
            "1       0522060304-JUEGOS DE BALCON MADERA  ...            2 - Compra Local   \n",
            "2       0522060304-JUEGOS DE BALCON MADERA  ...            2 - Compra Local   \n",
            "3       0522060304-JUEGOS DE BALCON MADERA  ...            2 - Compra Local   \n",
            "4       0522060304-JUEGOS DE BALCON MADERA  ...            2 - Compra Local   \n",
            "..                                     ...  ...                         ...   \n",
            "176      0522060302-JUEGOS DE BALCON METAL  ...  18 - Reposicion Tda-Bodega   \n",
            "177     0522060202-JUEGOS DE COMEDOR METAL  ...  18 - Reposicion Tda-Bodega   \n",
            "178  0522060203-JUEGOS DE COMEDOR ALUMINIO  ...  18 - Reposicion Tda-Bodega   \n",
            "179      0522060102-JUEGOS DE LIVING METAL  ...  18 - Reposicion Tda-Bodega   \n",
            "180   0522060101-JUEGOS DE LIVING RATAN PE  ...  18 - Reposicion Tda-Bodega   \n",
            "\n",
            "        Origen             Marca Web % Completitud Att Cat  \\\n",
            "0     Nacional            Elbarco.Cl                 78.57   \n",
            "1     Nacional            Elbarco.Cl                 78.57   \n",
            "2     Nacional            Elbarco.Cl                 78.57   \n",
            "3     Nacional            Elbarco.Cl                 78.57   \n",
            "4     Nacional            Elbarco.Cl                 78.57   \n",
            "..         ...                   ...                   ...   \n",
            "176  Importado  Just Home Collection                100.00   \n",
            "177  Importado  Just Home Collection                100.00   \n",
            "178  Importado  Just Home Collection                100.00   \n",
            "179  Importado  Just Home Collection                100.00   \n",
            "180  Importado  Just Home Collection                100.00   \n",
            "\n",
            "                                   Características+N:T  \\\n",
            "0    Set de living fabricado con madera nativa de a...   \n",
            "1    Set de living fabricado con madera nativa de a...   \n",
            "2    Set de living fabricado con madera nativa de a...   \n",
            "3    Con este cómodo y moderno set, tu terraza se c...   \n",
            "4    Con este cómodo y moderno set, tu terraza se c...   \n",
            "..                                                 ...   \n",
            "176                                    Juego de balcón   \n",
            "177  JUEGO DE COMEDOR ECONÓMICO;SILLA DE ESTILO CLÁ...   \n",
            "178  55% Aluminio/ 45% Madera Aacacia / Tela 100% P...   \n",
            "179                                    Juego de living   \n",
            "180                                   Juego de Comedor   \n",
            "\n",
            "    Tipo de mobiliario jardín cambios     Modelo Número de personas  \\\n",
            "0             Juego de Balcón     NaN     Nature                2.0   \n",
            "1             Juego de Balcón     NaN     Nature                2.0   \n",
            "2             Juego de Balcón     NaN     Nature                2.0   \n",
            "3             Juego de Balcón     NaN   BRISBANE                4.0   \n",
            "4             Juego de Balcón     NaN   BRISBANE                2.0   \n",
            "..                        ...     ...        ...                ...   \n",
            "176           Juego de Balcón     NaN  Sao Paulo                2.0   \n",
            "177          Juego de Comedor     NaN       Pipa                6.0   \n",
            "178          Juego de Comedor     NaN     Munich                6.0   \n",
            "179           Juego de Living     NaN      Sling                4.0   \n",
            "180           Juego de Living     NaN      Reims                6.0   \n",
            "\n",
            "            Color  \n",
            "0        Turquesa  \n",
            "1    Verde Oscuro  \n",
            "2            Gris  \n",
            "3        CARAMELO  \n",
            "4       CHOCOLATE  \n",
            "..            ...  \n",
            "176         Taupe  \n",
            "177         Beige  \n",
            "178    Negro/Café  \n",
            "179   Café Oscuro  \n",
            "180          Café  \n",
            "\n",
            "[181 rows x 21 columns]\n"
          ]
        }
      ]
    },
    {
      "cell_type": "code",
      "source": [
        "df.info()"
      ],
      "metadata": {
        "colab": {
          "base_uri": "https://localhost:8080/"
        },
        "id": "Fu1mIw_DkHW5",
        "outputId": "ec47ed41-ca23-46d7-b8e2-a4d44f8888c6"
      },
      "execution_count": 68,
      "outputs": [
        {
          "output_type": "stream",
          "name": "stdout",
          "text": [
            "<class 'pandas.core.frame.DataFrame'>\n",
            "RangeIndex: 181 entries, 0 to 180\n",
            "Data columns (total 21 columns):\n",
            " #   Column                              Non-Null Count  Dtype  \n",
            "---  ------                              --------------  -----  \n",
            " 0   ANALISTA                            181 non-null    object \n",
            " 1   <ID>                                181 non-null    object \n",
            " 2   SKU - Chile                         181 non-null    object \n",
            " 3   Descripción Local del Producto      181 non-null    object \n",
            " 4   New Descripción Local del Producto  0 non-null      float64\n",
            " 5   Descripción Web                     181 non-null    object \n",
            " 6   New Descripción Web                 0 non-null      float64\n",
            " 7   <Parent ID>                         181 non-null    int64  \n",
            " 8   Brick nombre                        181 non-null    object \n",
            " 9   <Producto a Clacom>                 181 non-null    object \n",
            " 10  Jefe de Línea                       181 non-null    object \n",
            " 11  Comprador CL                        181 non-null    object \n",
            " 12  Origen                              181 non-null    object \n",
            " 13  Marca Web                           181 non-null    object \n",
            " 14  % Completitud Att Cat               181 non-null    float64\n",
            " 15  Características+N:T                 100 non-null    object \n",
            " 16  Tipo de mobiliario jardín           177 non-null    object \n",
            " 17  cambios                             0 non-null      float64\n",
            " 18  Modelo                              178 non-null    object \n",
            " 19  Número de personas                  177 non-null    float64\n",
            " 20  Color                               177 non-null    object \n",
            "dtypes: float64(5), int64(1), object(15)\n",
            "memory usage: 29.8+ KB\n"
          ]
        }
      ]
    },
    {
      "cell_type": "code",
      "source": [
        "df.isnull().sum()"
      ],
      "metadata": {
        "colab": {
          "base_uri": "https://localhost:8080/"
        },
        "id": "GXm6cNRvkzzA",
        "outputId": "173008e4-f7c6-4f48-ddc6-9fa8e4d379dc"
      },
      "execution_count": 69,
      "outputs": [
        {
          "output_type": "execute_result",
          "data": {
            "text/plain": [
              "ANALISTA                                0\n",
              "<ID>                                    0\n",
              "SKU - Chile                             0\n",
              "Descripción Local del Producto          0\n",
              "New Descripción Local del Producto    181\n",
              "Descripción Web                         0\n",
              "New Descripción Web                   181\n",
              "<Parent ID>                             0\n",
              "Brick nombre                            0\n",
              "<Producto a Clacom>                     0\n",
              "Jefe de Línea                           0\n",
              "Comprador CL                            0\n",
              "Origen                                  0\n",
              "Marca Web                               0\n",
              "% Completitud Att Cat                   0\n",
              "Características+N:T                    81\n",
              "Tipo de mobiliario jardín               4\n",
              "cambios                               181\n",
              "Modelo                                  3\n",
              "Número de personas                      4\n",
              "Color                                   4\n",
              "dtype: int64"
            ]
          },
          "metadata": {},
          "execution_count": 69
        }
      ]
    },
    {
      "cell_type": "markdown",
      "source": [
        "Manipulation"
      ],
      "metadata": {
        "id": "RR96uHWemBbL"
      }
    },
    {
      "cell_type": "markdown",
      "source": [
        "Transformation to long format of \"Descripcion Local del Producto\""
      ],
      "metadata": {
        "id": "zgK1O4zgpKSm"
      }
    },
    {
      "cell_type": "code",
      "source": [
        "print(df[[\"Descripción Local del Producto\", \"New Descripción Local del Producto\"]])"
      ],
      "metadata": {
        "colab": {
          "base_uri": "https://localhost:8080/"
        },
        "id": "ucPmoa66mAur",
        "outputId": "288fd5f9-f5da-4521-db08-2bdbeeb4970c"
      },
      "execution_count": 74,
      "outputs": [
        {
          "output_type": "stream",
          "name": "stdout",
          "text": [
            "        Descripción Local del Producto  New Descripción Local del Producto\n",
            "0    PE SET BALCON NATURE TURQUESA- PE                                 NaN\n",
            "1    PE SET BALCON NATURE VERDE OSCURO                                 NaN\n",
            "2            PE SET BALCON NATURE GRIS                                 NaN\n",
            "3       PE JUEGO LIVING TERRAZA BRISBA                                 NaN\n",
            "4       PE JUEGO LIVING TERRAZA BRISBA                                 NaN\n",
            "..                                 ...                                 ...\n",
            "176     JGO SAO PAULO 3PZ TAU VID LISO                                 NaN\n",
            "177      JGO COMEDOR 7PZ PIPA RATAN PE                                 NaN\n",
            "178      JGO COMEDOR 6 PERSONAS MUNICH                                 NaN\n",
            "179       JGO LIV TERR SLING 4P MT/TEX                                 NaN\n",
            "180          JUEGO DE COMEDOR REIMS V2                                 NaN\n",
            "\n",
            "[181 rows x 2 columns]\n"
          ]
        }
      ]
    },
    {
      "cell_type": "code",
      "source": [
        "print(df.iloc[0][\"Descripción Local del Producto\"])\n"
      ],
      "metadata": {
        "colab": {
          "base_uri": "https://localhost:8080/"
        },
        "id": "skXWOFDUr3Fa",
        "outputId": "79100371-392a-4a7c-8fdd-714fa66a6dab"
      },
      "execution_count": 87,
      "outputs": [
        {
          "output_type": "stream",
          "name": "stdout",
          "text": [
            "PE SET BALCON NATURE TURQUESA- PE\n"
          ]
        }
      ]
    },
    {
      "cell_type": "code",
      "source": [
        "list_split_local_description = []\n",
        "length = df.shape[0]\n",
        "#print(length)\n",
        "\n",
        "#print(df.iloc[0])\n",
        "i = 0\n",
        "while i < 10:\n",
        "# for i in range(length):\n",
        "  list_split_local_description.append(df.iloc[i][\"Descripción Local del Producto\"].split(\" \"))\n",
        "  i+=1\n",
        "print(list_split_local_description)"
      ],
      "metadata": {
        "colab": {
          "base_uri": "https://localhost:8080/"
        },
        "id": "PkQnc8mApJRq",
        "outputId": "b2e3a5c3-4928-4a99-f460-bfdc0ccfa510"
      },
      "execution_count": 90,
      "outputs": [
        {
          "output_type": "stream",
          "name": "stdout",
          "text": [
            "[['PE', 'SET', 'BALCON', 'NATURE', 'TURQUESA-', 'PE'], ['PE', 'SET', 'BALCON', 'NATURE', 'VERDE', 'OSCURO'], ['PE', 'SET', 'BALCON', 'NATURE', 'GRIS'], ['PE', 'JUEGO', 'LIVING', 'TERRAZA', 'BRISBA'], ['PE', 'JUEGO', 'LIVING', 'TERRAZA', 'BRISBA'], ['PE', 'SET', 'BALCON', 'TAVARUA'], ['SET', 'MESA', 'RECT', 'ROBLE', '6', 'SILLAS'], ['PE', 'LIVING', 'TERRAZA', 'SOFIA'], ['PE', 'SET', 'TERRAZA', 'ISABEL'], ['PE', 'SET', 'BALCON', 'NATURE', 'AZUL', 'CLARO']]\n"
          ]
        }
      ]
    },
    {
      "cell_type": "code",
      "source": [],
      "metadata": {
        "id": "T08avOLSsi-X"
      },
      "execution_count": null,
      "outputs": []
    }
  ]
}