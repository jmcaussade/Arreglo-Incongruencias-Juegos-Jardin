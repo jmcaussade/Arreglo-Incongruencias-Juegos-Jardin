{
  "nbformat": 4,
  "nbformat_minor": 0,
  "metadata": {
    "colab": {
      "provenance": [],
      "authorship_tag": "ABX9TyOlyDgSKkgcEKC/3wFR3Zsa",
      "include_colab_link": true
    },
    "kernelspec": {
      "name": "python3",
      "display_name": "Python 3"
    },
    "language_info": {
      "name": "python"
    }
  },
  "cells": [
    {
      "cell_type": "markdown",
      "metadata": {
        "id": "view-in-github",
        "colab_type": "text"
      },
      "source": [
        "<a href=\"https://colab.research.google.com/github/jmcaussade/Arreglo-Incongruencias-Juegos-Jardin/blob/main/ArregloAtributosJuegosMesaJardin.ipynb\" target=\"_parent\"><img src=\"https://colab.research.google.com/assets/colab-badge.svg\" alt=\"Open In Colab\"/></a>"
      ]
    },
    {
      "cell_type": "markdown",
      "source": [
        "<h1>IMPORTATIONS</h1>"
      ],
      "metadata": {
        "id": "XdQ5EhBiVmrI"
      }
    },
    {
      "cell_type": "code",
      "source": [
        "import os\n",
        "import pandas as pd"
      ],
      "metadata": {
        "id": "TgqrbVUpVlwF"
      },
      "execution_count": 1,
      "outputs": []
    },
    {
      "cell_type": "markdown",
      "source": [
        "<h1>Connection to Google Drive</h1>\n"
      ],
      "metadata": {
        "id": "ndLgWjGPTNjU"
      }
    },
    {
      "cell_type": "code",
      "source": [
        "from google.colab import drive\n",
        "drive.mount(\"/content/drive\")"
      ],
      "metadata": {
        "colab": {
          "base_uri": "https://localhost:8080/"
        },
        "id": "t4FZID_sTNJZ",
        "outputId": "1fe04821-f0ea-4044-ce88-80395d3b81b2"
      },
      "execution_count": 2,
      "outputs": [
        {
          "output_type": "stream",
          "name": "stdout",
          "text": [
            "Mounted at /content/drive\n"
          ]
        }
      ]
    },
    {
      "cell_type": "code",
      "source": [
        "ruta = \"/content/drive/MyDrive/Sodimac/ArregloIncongruenciasJuegosJardin/JuegosJardin.xlsx\"\n",
        "df = pd.read_excel(ruta)"
      ],
      "metadata": {
        "id": "brCmGT-3iHvY"
      },
      "execution_count": 3,
      "outputs": []
    },
    {
      "cell_type": "markdown",
      "source": [
        "<h1>MAIN</h1>"
      ],
      "metadata": {
        "id": "aA8Baua6kCKV"
      }
    },
    {
      "cell_type": "markdown",
      "source": [
        "Visualization\n"
      ],
      "metadata": {
        "id": "eybBwf-el9V1"
      }
    },
    {
      "cell_type": "code",
      "source": [
        "print(df)"
      ],
      "metadata": {
        "id": "SIov8fogk8Ym"
      },
      "execution_count": null,
      "outputs": []
    },
    {
      "cell_type": "code",
      "source": [
        "df.info()"
      ],
      "metadata": {
        "id": "Fu1mIw_DkHW5"
      },
      "execution_count": null,
      "outputs": []
    },
    {
      "cell_type": "code",
      "source": [
        "df.isnull().sum()"
      ],
      "metadata": {
        "id": "GXm6cNRvkzzA"
      },
      "execution_count": null,
      "outputs": []
    },
    {
      "cell_type": "markdown",
      "source": [
        "Manipulation"
      ],
      "metadata": {
        "id": "RR96uHWemBbL"
      }
    },
    {
      "cell_type": "markdown",
      "source": [
        "Transformation to long format of \"Descripcion Local del Producto\""
      ],
      "metadata": {
        "id": "zgK1O4zgpKSm"
      }
    },
    {
      "cell_type": "code",
      "source": [
        "print(df[[\"Descripción Local del Producto\", \"Descripción Web\"]])"
      ],
      "metadata": {
        "colab": {
          "base_uri": "https://localhost:8080/"
        },
        "id": "ucPmoa66mAur",
        "outputId": "a69fa1ae-7ac1-466a-e44b-967e68e22b7c"
      },
      "execution_count": 8,
      "outputs": [
        {
          "output_type": "stream",
          "name": "stdout",
          "text": [
            "        Descripción Local del Producto  \\\n",
            "0    PE SET BALCON NATURE TURQUESA- PE   \n",
            "1    PE SET BALCON NATURE VERDE OSCURO   \n",
            "2            PE SET BALCON NATURE GRIS   \n",
            "3       PE JUEGO LIVING TERRAZA BRISBA   \n",
            "4       PE JUEGO LIVING TERRAZA BRISBA   \n",
            "..                                 ...   \n",
            "176     JGO SAO PAULO 3PZ TAU VID LISO   \n",
            "177      JGO COMEDOR 7PZ PIPA RATAN PE   \n",
            "178      JGO COMEDOR 6 PERSONAS MUNICH   \n",
            "179       JGO LIV TERR SLING 4P MT/TEX   \n",
            "180          JUEGO DE COMEDOR REIMS V2   \n",
            "\n",
            "                                       Descripción Web  \n",
            "0                  Set balcon nature turquesa Turquesa  \n",
            "1                       Set balcon nature verde oscuro  \n",
            "2                               Set balcon nature gris  \n",
            "3               Juego living terraza Brisbane caramelo  \n",
            "4              Juego living terraza Brisbane chocolate  \n",
            "..                                                 ...  \n",
            "176   Juego de balcón terraza sao paulo 3 piezas taupe  \n",
            "177         Juego de comedor de terrazas 7 piezas pipa  \n",
            "178  Juego de comedor de terraza 6 personas munich ...  \n",
            "179           Juego de living terraza sling 4 personas  \n",
            "180                          Juego de comedor reims v2  \n",
            "\n",
            "[181 rows x 2 columns]\n"
          ]
        }
      ]
    },
    {
      "cell_type": "code",
      "source": [
        "print(df.iloc[0][\"Descripción Web\"])\n"
      ],
      "metadata": {
        "colab": {
          "base_uri": "https://localhost:8080/"
        },
        "id": "skXWOFDUr3Fa",
        "outputId": "5b8c9a90-f94d-47e4-b106-76165c0e9464"
      },
      "execution_count": 9,
      "outputs": [
        {
          "output_type": "stream",
          "name": "stdout",
          "text": [
            "Set balcon nature turquesa Turquesa\n"
          ]
        }
      ]
    },
    {
      "cell_type": "code",
      "source": [
        "selected_columns = [\"SKU - Chile\", 'Descripción Web', 'Tipo de mobiliario jardín', 'Modelo', 'Número de personas', 'Color']\n",
        "clean_df = df.loc[:, selected_columns]\n",
        "print(clean_df)"
      ],
      "metadata": {
        "id": "oUVkzeZF6yBP"
      },
      "execution_count": null,
      "outputs": []
    },
    {
      "cell_type": "code",
      "source": [
        "# Function to check if all values appear in the Descripción Web column in any case\n",
        "def all_values_appear_in_web_description(row):\n",
        "    description_web = row[\"Descripción Web\"].lower()\n",
        "    for col in selected_columns:\n",
        "        value = str(row[col]).lower()\n",
        "        if value not in description_web:\n",
        "            return False\n",
        "    return True\n",
        "\n",
        "# Apply the function to each row\n",
        "clean_df['AllValuesAppear'] = clean_df.apply(all_values_appear_in_web_description, axis=1)\n",
        "\n",
        "length = clean_df.shape[0]\n",
        "\n",
        "for i in range(length):\n",
        "  if clean_df.iloc[i][ \"AllValuesAppear\"] == True:\n",
        "    print(clean_df.iloc[i][[\"SKU - Chile\", \"AllValuesAppear\"]])\n",
        "# print(\"DataFrame with additional column indicating if ALL values appear in Descripción Web:\")\n",
        "# print(df[['Descripción Web', 'AllValuesAppearInWebDescription']])"
      ],
      "metadata": {
        "id": "vuieS5ij8s9O"
      },
      "execution_count": 21,
      "outputs": []
    },
    {
      "cell_type": "code",
      "source": [
        "list_split_local_description = []\n",
        "length = clean_df.shape[0]\n",
        "#print(length)\n",
        "\n",
        "#print(df.iloc[0])\n",
        "i = 0\n",
        "while i < 10:\n",
        "# for i in range(length):\n",
        "  list_split_local_description.append(clean_df.iloc[i][\"Descripción Web\"].split(\" \"))\n",
        "  i+=1\n",
        "print(list_split_local_description)"
      ],
      "metadata": {
        "colab": {
          "base_uri": "https://localhost:8080/"
        },
        "id": "PkQnc8mApJRq",
        "outputId": "e978965e-2819-4272-d322-4f336f04fa62"
      },
      "execution_count": 13,
      "outputs": [
        {
          "output_type": "stream",
          "name": "stdout",
          "text": [
            "[['Set', 'balcon', 'nature', 'turquesa', 'Turquesa'], ['Set', 'balcon', 'nature', 'verde', 'oscuro'], ['Set', 'balcon', 'nature', 'gris'], ['Juego', 'living', 'terraza', 'Brisbane', 'caramelo'], ['Juego', 'living', 'terraza', 'Brisbane', 'chocolate'], ['Set', 'balcón', 'tavarua', 'Marrón', 'moro'], ['Set', 'mesa', 'rectangular', 'roble', '+', '6', 'sillas'], ['Living', 'Terraza', 'Sofia', 'Café'], ['Set', 'Terraza', 'Isabel', 'Negro'], ['Set', 'balcón', 'nature', 'azul', 'claro', 'Azul', 'claro']]\n"
          ]
        }
      ]
    },
    {
      "cell_type": "code",
      "source": [],
      "metadata": {
        "id": "T08avOLSsi-X"
      },
      "execution_count": null,
      "outputs": []
    }
  ]
}