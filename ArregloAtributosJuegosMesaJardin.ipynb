{
  "nbformat": 4,
  "nbformat_minor": 0,
  "metadata": {
    "colab": {
      "provenance": [],
      "authorship_tag": "ABX9TyNLuAP0DcWXo8unwRcOig5H",
      "include_colab_link": true
    },
    "kernelspec": {
      "name": "python3",
      "display_name": "Python 3"
    },
    "language_info": {
      "name": "python"
    }
  },
  "cells": [
    {
      "cell_type": "markdown",
      "metadata": {
        "id": "view-in-github",
        "colab_type": "text"
      },
      "source": [
        "<a href=\"https://colab.research.google.com/github/jmcaussade/Arreglo-Incongruencias-Juegos-Jardin/blob/main/ArregloAtributosJuegosMesaJardin.ipynb\" target=\"_parent\"><img src=\"https://colab.research.google.com/assets/colab-badge.svg\" alt=\"Open In Colab\"/></a>"
      ]
    },
    {
      "cell_type": "markdown",
      "source": [
        "<h1>IMPORTATIONS</h1>"
      ],
      "metadata": {
        "id": "XdQ5EhBiVmrI"
      }
    },
    {
      "cell_type": "code",
      "source": [
        "!pip install unidecode"
      ],
      "metadata": {
        "colab": {
          "base_uri": "https://localhost:8080/"
        },
        "id": "agXnUlpKtLwC",
        "outputId": "847d8ed6-a4ef-4267-c695-f2f260a314c7"
      },
      "execution_count": 2,
      "outputs": [
        {
          "output_type": "stream",
          "name": "stdout",
          "text": [
            "Collecting unidecode\n",
            "  Downloading Unidecode-1.3.7-py3-none-any.whl (235 kB)\n",
            "\u001b[2K     \u001b[90m━━━━━━━━━━━━━━━━━━━━━━━━━━━━━━━━━━━━━━━━\u001b[0m \u001b[32m235.5/235.5 kB\u001b[0m \u001b[31m2.1 MB/s\u001b[0m eta \u001b[36m0:00:00\u001b[0m\n",
            "\u001b[?25hInstalling collected packages: unidecode\n",
            "Successfully installed unidecode-1.3.7\n"
          ]
        }
      ]
    },
    {
      "cell_type": "code",
      "source": [
        "import os\n",
        "import pandas as pd\n",
        "import numpy as np\n",
        "from unidecode import unidecode"
      ],
      "metadata": {
        "id": "TgqrbVUpVlwF"
      },
      "execution_count": 3,
      "outputs": []
    },
    {
      "cell_type": "markdown",
      "source": [
        "<h1>Connection to Google Drive</h1>\n"
      ],
      "metadata": {
        "id": "ndLgWjGPTNjU"
      }
    },
    {
      "cell_type": "code",
      "source": [
        "from google.colab import drive\n",
        "drive.mount(\"/content/drive\")"
      ],
      "metadata": {
        "colab": {
          "base_uri": "https://localhost:8080/"
        },
        "id": "t4FZID_sTNJZ",
        "outputId": "a36b490a-91ae-4ba2-8c52-6bff5bac2397"
      },
      "execution_count": 4,
      "outputs": [
        {
          "output_type": "stream",
          "name": "stdout",
          "text": [
            "Mounted at /content/drive\n"
          ]
        }
      ]
    },
    {
      "cell_type": "code",
      "source": [
        "ruta = \"/content/drive/MyDrive/Sodimac/ArregloIncongruenciasJuegosJardin/JuegosJardin.xlsx\"\n",
        "df = pd.read_excel(ruta)"
      ],
      "metadata": {
        "id": "brCmGT-3iHvY"
      },
      "execution_count": 5,
      "outputs": []
    },
    {
      "cell_type": "markdown",
      "source": [
        "<h1>MAIN</h1>"
      ],
      "metadata": {
        "id": "aA8Baua6kCKV"
      }
    },
    {
      "cell_type": "markdown",
      "source": [
        "Visualization\n"
      ],
      "metadata": {
        "id": "eybBwf-el9V1"
      }
    },
    {
      "cell_type": "code",
      "source": [
        "print(df)"
      ],
      "metadata": {
        "id": "SIov8fogk8Ym"
      },
      "execution_count": null,
      "outputs": []
    },
    {
      "cell_type": "code",
      "source": [
        "df.info()"
      ],
      "metadata": {
        "id": "Fu1mIw_DkHW5"
      },
      "execution_count": null,
      "outputs": []
    },
    {
      "cell_type": "code",
      "source": [
        "df.isnull().sum()"
      ],
      "metadata": {
        "id": "GXm6cNRvkzzA"
      },
      "execution_count": null,
      "outputs": []
    },
    {
      "cell_type": "markdown",
      "source": [
        "Manipulation"
      ],
      "metadata": {
        "id": "RR96uHWemBbL"
      }
    },
    {
      "cell_type": "markdown",
      "source": [
        "Transformation to long format of \"Descripcion Local del Producto\""
      ],
      "metadata": {
        "id": "zgK1O4zgpKSm"
      }
    },
    {
      "cell_type": "code",
      "source": [
        "def PrintingDF(data_set):\n",
        "  pd.set_option('display.width', 1000)\n",
        "  print(data_set.to_string(index=False))\n",
        ""
      ],
      "metadata": {
        "id": "AS24_2l_ygwS"
      },
      "execution_count": 6,
      "outputs": []
    },
    {
      "cell_type": "code",
      "source": [
        "print(df[[\"Descripción Local del Producto\", \"Descripción Web\"]])"
      ],
      "metadata": {
        "id": "ucPmoa66mAur"
      },
      "execution_count": null,
      "outputs": []
    },
    {
      "cell_type": "code",
      "source": [
        "print(df.iloc[0][\"Descripción Web\"])\n"
      ],
      "metadata": {
        "colab": {
          "base_uri": "https://localhost:8080/"
        },
        "id": "skXWOFDUr3Fa",
        "outputId": "5b8c9a90-f94d-47e4-b106-76165c0e9464"
      },
      "execution_count": 9,
      "outputs": [
        {
          "output_type": "stream",
          "name": "stdout",
          "text": [
            "Set balcon nature turquesa Turquesa\n"
          ]
        }
      ]
    },
    {
      "cell_type": "code",
      "source": [
        "# restringienda dataframe a columnas importantes\n",
        "selected_columns = [\"SKU - Chile\", 'Descripción Web', 'Tipo de mobiliario jardín', 'Modelo', 'Número de personas', 'Color']\n",
        "clean_df = df.loc[:, selected_columns]\n",
        "\n",
        "clean_df['Número de personas'] = clean_df['Número de personas'].replace([np.inf, -np.inf], np.nan).fillna(0)\n",
        "clean_df['Número de personas'] = clean_df['Número de personas'].astype(int).astype(str)\n",
        "PrintingDF(clean_df)"
      ],
      "metadata": {
        "id": "oUVkzeZF6yBP"
      },
      "execution_count": null,
      "outputs": []
    },
    {
      "cell_type": "code",
      "source": [
        "# Add new columns for each selected column without checking if the values exist creating the \"Name column + appears\"\n",
        "\n",
        "for name_column in selected_columns[2:]:\n",
        "    clean_df.insert(clean_df.columns.get_loc(name_column) + 1, f\"{name_column} appears\", None)\n",
        "\n",
        "# Print the DataFrame with the new columns\n",
        "print(clean_df)\n"
      ],
      "metadata": {
        "id": "9bm_XuIK2T6d"
      },
      "execution_count": null,
      "outputs": []
    },
    {
      "cell_type": "code",
      "source": [
        "#Checks if the value for each attributes appears\n",
        "# Columnas con atributos obligatorios para buscar en desc web\n",
        "selected_columns = ['Tipo de mobiliario jardín', 'Modelo', 'Número de personas', 'Color']\n",
        "\n",
        "# Function to check if all values appear in the Descripción Web column in any case\n",
        "def all_values_appear_in_web_description(row):\n",
        "    description_web = unidecode(row[\"Descripción Web\"]).lower()\n",
        "    for col in selected_columns:\n",
        "        value = unidecode(str(row[col])).lower()\n",
        "        if col == \"Tipo de mobiliario jardín\":\n",
        "            aux = value.split(\" \")\n",
        "            if len(aux) == 4:\n",
        "                value = aux[-2] + \" \" + aux[-1]\n",
        "            else:\n",
        "                value = aux[-1]\n",
        "        # Set the corresponding boolean column to True or False\n",
        "        row[f\"{col} appears\"] = value in description_web\n",
        "    # Set the \"AllValuesAppear\" column based on the condition\n",
        "    row['AllValuesAppear'] = all(row[f\"{col} appears\"] for col in selected_columns)\n",
        "    return row\n",
        "\n",
        "# Apply the function to each row\n",
        "clean_df = clean_df.apply(all_values_appear_in_web_description, axis=1)\n"
      ],
      "metadata": {
        "id": "vuieS5ij8s9O"
      },
      "execution_count": 9,
      "outputs": []
    },
    {
      "cell_type": "code",
      "source": [
        "PrintingDF(clean_df)"
      ],
      "metadata": {
        "colab": {
          "base_uri": "https://localhost:8080/"
        },
        "id": "YffVv80T3MUE",
        "outputId": "aed47f8a-3455-4978-8e9f-be1deac164a3"
      },
      "execution_count": 10,
      "outputs": [
        {
          "output_type": "stream",
          "name": "stdout",
          "text": [
            "SKU - Chile                                              Descripción Web Tipo de mobiliario jardín  Tipo de mobiliario jardín appears                        Modelo  Modelo appears Número de personas  Número de personas appears                                  Color  Color appears  AllValuesAppear\n",
            "    6575811                          Set balcon nature turquesa Turquesa           Juego de Balcón                               True                        Nature            True                  2                       False                               Turquesa           True            False\n",
            "    6577423                               Set balcon nature verde oscuro           Juego de Balcón                               True                        Nature            True                  2                       False                           Verde Oscuro           True            False\n",
            "    6577431                                       Set balcon nature gris           Juego de Balcón                               True                        Nature            True                  2                       False                                   Gris           True            False\n",
            "    6578276                       Juego living terraza Brisbane caramelo           Juego de Balcón                              False                      BRISBANE            True                  4                       False                               CARAMELO           True            False\n",
            "    6579396                      Juego living terraza Brisbane chocolate           Juego de Balcón                              False                      BRISBANE            True                  2                       False                              CHOCOLATE           True            False\n",
            "    6592902                               Set balcón tavarua Marrón moro           Juego de Balcón                               True                  PSTX03170000           False                  2                       False                            Marrón moro           True            False\n",
            "    6592910                        Set mesa rectangular roble + 6 sillas          Juego de Comedor                              False                  PSTX03160000           False                  6                        True                            Marrón moro          False            False\n",
            "    6603041                                    Living Terraza Sofia Café           Juego de Living                               True                         Sofia            True                  4                       False                                   Café           True            False\n",
            "    6603785                                     Set Terraza Isabel Negro           Juego de Balcón                              False                        Isabel            True                  4                       False                                  Negro           True            False\n",
            "    6604684                      Set balcón nature azul claro Azul claro           Juego de Living                              False                        NATURE            True                  4                       False                             Azul claro           True            False\n",
            "    6604706                               Sofá Comedor Terraza Esperanza           Juego de Living                              False                     Esperanza            True                  4                       False                                   Café          False            False\n",
            "    6604714                                     Set Terraza Belgica Café           Juego de Balcón                              False                       Belgica            True                  4                       False                                   Café           True            False\n",
            "    6605192                                 Sofá Comedor Terraza Antonia           Juego de Living                              False                       Antonia            True                  4                       False                                   Café          False            False\n",
            "    6605214                                  Living Terraza Antonia Café           Juego de Living                               True                        Amanda           False                  4                       False                                   Café           True            False\n",
            "    6605230                                     Living Terraza Estefania           Juego de Living                               True                     Estefania            True                  4                       False                                   Café          False            False\n",
            "    6699618                   Living Terraza Rattan Florencia 4 personas           Juego de Living                               True                     S011/FLOR           False                  4                        True                            Café Oscuro          False            False\n",
            "    6699634                         Set Balcon Curimon - Caramelo/Marfil           Juego de Balcón                               True                      BC1949CA           False                  2                       False                             Café Claro          False            False\n",
            "    6699642                              Set Balcon Curimon - Negro/Gris           Juego de Balcón                               True                        BC1950           False                  2                       False                                  Negro           True            False\n",
            "    6699685                     Living Terraza Rattan Palermo 5 personas           Juego de Living                               True                     S076/PALE           False                  5                        True                            Café Oscuro          False            False\n",
            "    6699693                      Living Terraza Rattan Kanpur 4 personas           Juego de Living                               True                      S009/KAN           False                  4                        True                            Café Oscuro          False            False\n",
            "    6699707                        Set Balcon Curimon - Chocolate/Marfil           Juego de Balcón                               True                        BC1949           False                  2                       False                            Café Oscuro          False            False\n",
            "    6699715                       Living Terraza Rattan Milan 4 personas           Juego de Living                               True                    S071/MILAN           False                  4                        True                            Café Oscuro          False            False\n",
            "    6727948                           Juego living ratán 4 personas Lyon           Juego de Living                               True JUEGO LIVING RATAN 4 PER LYON           False                  4                        True Ratán Negro con cojines en tela Beige.          False            False\n",
            "    6727964                    Juego Living 2 Personas Ratán de PE Pekin           Juego de Living                               True      JUEGO LIVING 2 PER PEKIN           False                  2                        True Ratán Negro con cojines en tela Beige.          False            False\n",
            "    6734324                                 Jgo comedor 9 pzas amsterdam          Juego de Comedor                               True                     Amsterdam            True                  8                       False   Ratán gris con Cojines en tela beige          False            False\n",
            "    6894852                           Juego terraza 4 piezas metal Negro           Juego de Living                              False                         47854           False                  4                        True                                  Negro           True            False\n",
            "    7192762         Juego de living seccional de terraza lisa 6 personas           Juego de Living                               True                          LISA            True                  5                       False                                  Beige          False            False\n",
            "    7192797                           Juedo de balcón beltran 2 personas           Juego de Balcón                               True                       BELTRAN            True                  2                        True                            Café /Beige          False            False\n",
            "    7192819       Juego de living seccional de terraza montti 4 personas           Juego de Living                               True                         MONTT            True                  4                        True                                   Gris          False            False\n",
            "    7192827         Juego de comedor de terraza camille beige 6 personas           Juego de Living                              False                          CAMI            True                  6                        True                                  Beige           True            False\n",
            "    7192843                         Juego de balcón mia beige 2 personas           Juego de Balcón                               True                           MIA            True                  2                        True                            Café /Beige          False            False\n",
            "    7306652                          Juego de terraza premium ulmo beige           Juego de Living                              False                          Ulmo            True                  7                       False                                  Beige           True            False\n",
            "    7306660                           Juego de terraza premium ulmo azul           Juego de Living                              False                          Ulmo            True                  7                       False                                   Azul           True            False\n",
            "    7306679                            Juego de terraza básica ulmo azul           Juego de Living                              False                          Ulmo            True                  5                       False                                   Azul           True            False\n",
            "    7306687                        Juego de terraza premium ulmo grafito           Juego de Living                              False                          Ulmo            True                  7                       False                                Grafito           True            False\n",
            "    7306695                         Juego de terraza básica ulmo grafito           Juego de Living                              False                          Ulmo            True                  5                       False                                Grafito           True            False\n",
            "    7306784                           Juego de terraza básica ulmo beige           Juego de Living                              False                          Ulmo            True                  5                       False                                  Beige           True            False\n",
            "    7306806                     Juego de terraza premium ulmo gris perla           Juego de Living                              False                          Ulmo            True                  7                       False                             Gris Perla           True            False\n",
            "    7306849                      Juego de terraza básica ulmo gris perla           Juego de Living                              False                          Ulmo            True                  5                       False                             Gris Perla           True            False\n",
            "    7307144                Juego de terraza básica arrayán nogal grafito           Juego de Living                              False                       Arrayán            True                  5                       False                                Grafito           True            False\n",
            "    7307152                  Juego de terraza básica arrayán nogal beige           Juego de Living                              False                       Arrayán            True                  5                       False                                  Beige           True            False\n",
            "    7307160                   Juego de terraza básica arrayán nogal azul           Juego de Living                              False                       Arrayan            True                  5                       False                                   Azul           True            False\n",
            "    7307179              Juego de terraza básica maitén nogal gris perla           Juego de Living                              False                        Maitén            True                  5                       False                             Gris Perla           True            False\n",
            "    7307187             Juego de terraza premium maitén nogal gris perla           Juego de Living                              False                        Maitén            True                  5                       False                             Gris Perla           True            False\n",
            "    7307195                  Juego de terraza premium maitén nogal beige           Juego de Living                              False                        Maitén            True                  5                       False                                  Beige           True            False\n",
            "    7307209            Juego de terraza premium arrayán nogal gris perla           Juego de Living                              False                       Arrayán            True                  7                       False                             Gris Perla           True            False\n",
            "    7307217                 Juego de terraza premium laurel natural azul           Juego de Living                              False                        Laurel            True                  4                       False                                   Azul           True            False\n",
            "    7307225               Juego de terraza premium arrayán nogal grafito           Juego de Living                              False                       Arrayan            True                  7                       False                                Grafito           True            False\n",
            "    7307233                      Juego de bar de terraza patagonia nogal              Juego de Bar                               True                     Patagonia            True                  6                       False                                  Nogal           True            False\n",
            "    7307241                  Juego de terraza premium arrayán nogal azul           Juego de Living                              False                       Arrayan            True                  7                       False                                   Azul           True            False\n",
            "    7307268                   Juego de terraza premium maitén nogal azul           Juego de Living                              False                        Maiten            True                  5                       False                                   Azul           True            False\n",
            "    7307276         Juego de terraza premium laurel albayalde gris perla           Juego de Living                              False                        Laurel            True                  4                       False                             Gris Perla           True            False\n",
            "    7307284                   Juego de terraza básica maitén nogal beige           Juego de Living                              False                        Maiten            True                  5                       False                                  Beige           True            False\n",
            "    7307292                 Juego de terraza premium arrayán nogal beige           Juego de Living                              False                       Arrayan            True                  7                       False                                  Beige           True            False\n",
            "    7307306                 Juego de terraza básica maitén nogal grafito           Juego de Living                              False                        Maiten            True                  5                       False                                Grafito           True            False\n",
            "    7307322                    Juego de terraza básica maitén nogal azul           Juego de Living                              False                        Maiten            True                  5                       False                                   Azul           True            False\n",
            "    7307330               Juego de terraza premium laurel cereza grafito           Juego de Living                              False                        Laurel            True                  4                       False                                Grafito           True            False\n",
            "    7307349                        Juego de bar de terraza austral nogal              Juego de Bar                               True                       Austral            True                  6                       False                                  Nogal           True            False\n",
            "    7307357                Juego de terraza premium maitén nogal grafito           Juego de Living                              False                        Maiten            True                  5                       False                                Grafito           True            False\n",
            "    7307373              Juego de terraza premium laurel chocolate beige           Juego de Living                              False                        Laurel            True                  4                       False                                  Beige           True            False\n",
            "    7350082                  Set De Mesa Blanca Y Dos Sillas Rojas Eames           Juego de Balcón                              False                    DPKIDS-105           False                  2                       False                            Blanco/rojo          False            False\n",
            "    7350090                   Set De Mesa Blanca Y Dos Sillas Gris Eames           Juego de Balcón                              False                    DPKIDS-106           False                  2                       False                            Blanco/gris          False            False\n",
            "    7350104                  Set De Mesa Blanca Y Dos Sillas Verde Eames           Juego de Balcón                              False                    DPKIDS-107           False                  2                       False                           Blanco/verde          False            False\n",
            "    7350112             Set De Mesa Cubierta Amarilla Y Dos Sillas Eames           Juego de Balcón                              False                     DPKIDS-60           False                  2                       False                               Amarillo          False            False\n",
            "    7350120               Set De Mesa Cubierta Morada Y Dos Sillas Eames           Juego de Balcón                              False                     DPKIDS-56           False                  2                       False                                 Morado          False            False\n",
            "    7350139               Set De Mesa Cubierta Morada Y Dos Sillas Eames           Juego de Balcón                              False                     DPKIDS-61           False                  2                       False                                 Morado          False            False\n",
            "    7350147               Set De Mesa Cubierta Rosada Y Dos Sillas Eames           Juego de Balcón                              False                     DPKIDS-59           False                  2                       False                                   Rosa           True            False\n",
            "    7350155               Set De Mesa Cubierta Rosada Y Dos Sillas Eames           Juego de Balcón                              False                     DPKIDS-53           False                  2                       False                                   Rosa           True            False\n",
            "    7350163                Set De Mesa Cubierta Menta Y Dos Sillas Eames           Juego de Balcón                              False                     DPKIDS-57           False                  2                       False                                  Menta           True            False\n",
            "    7350171               Set De Mesa Cubierta Blanca Y Dos Sillas Eames           Juego de Balcón                              False                     DPKIDS-58           False                  2                       False                                 Blanco          False            False\n",
            "    7350198             Set De Mesa Cubierta Amarilla Y Dos Sillas Eames           Juego de Balcón                              False                     DPKIDS-55           False                  2                       False                               Amarillo          False            False\n",
            "    8724377                                   Comedor con bancas terraza                       NaN                              False                   CHILESR0010           False                  0                       False                                    NaN          False            False\n",
            "    8730288                        Juego de living de terraza 5 personas           Juego de Living                               True                         Simos           False                  3                       False                             Multicolor          False            False\n",
            "    8730458                           Sillón columpio infantil rosa Rosa           Juego de Living                              False                     20189C-GR           False                  2                       False                                   Rosa           True            False\n",
            "    8730466                        Juego terraza infantil 4 piezas color          Juego de Comedor                              False                      20275A-B           False                  2                       False                                   Azul          False            False\n",
            "    8730474                         Juego terraza infantil 4 piezas rosa           Juego de Balcón                              False                     20275A-GR           False                  2                       False                                   Rosa           True            False\n",
            "    8730482    Juego de living seccional de terrazas 3 piezas saint john           Juego de Living                               True                    Saint John            True                  4                       False                             Multicolor          False            False\n",
            "    8730555                   Juego de living de terraza 4 piezas ischia           Juego de Living                               True                         Ishia           False                  5                       False                           Beige/Madera          False            False\n",
            "    8730563                              Juego balcón 3 piezas Victoria.           Juego de Living                              False                      Victoria            True                  2                       False                                  Negro          False            False\n",
            "    8730571                Juego de bar terraza tulum 7 piezas café/gris           Juego de Living                              False                         Tulum            True                  6                       False                              Café/Gris           True            False\n",
            "    8730598                  Sofá modular de terraza org 4 piezas blanco           Juego de Living                              False                       52626ST           False                  5                       False                                 Blanco           True            False\n",
            "    8730830            Juego de living de terraza 4 piezas toscana negro           Juego de Living                               True                       Toscana            True                  4                        True                           Negro/Madera          False            False\n",
            "    8730849             Juego de living de terrazas 6 piezas reims negro          Juego de Comedor                              False                         Reims            True                  7                       False                                  Negro           True            False\n",
            "    8730865           Juego de living de terraza 4 personas stiniva gris           Juego de Living                               True                       Stiniva            True                  4                        True                                   Gris           True             True\n",
            "    8730911              Juego de balcón terraza sao paulo 3 piezas aqua           Juego de Balcón                               True                     SAO PAULO            True                  2                       False                                   Aqua           True            False\n",
            "    8730938              Juego de terraza sao paulo 4 personas chocolate           Juego de Living                              False                 HDF1368-CHOCO           False                  4                        True                              Chocolate           True            False\n",
            "    8730989                        Juego balcón plg 5 piezas Dublin acac           Juego de Living                              False                        Dublin            True                  4                       False                                   Café          False            False\n",
            "    8731020                            Juego balcón arezzo 3 piezas Café           Juego de Balcón                               True                        Arezzo            True                  2                       False                                   Café           True            False\n",
            "    8731055                           Juego balcón modular 5 piezas milo           Juego de Living                              False                          Milo            True                  4                       False                                  Negro          False            False\n",
            "    8731063            Set sofá de terraza houston 2 piezas blanco/negro           Juego de Living                              False                       Houston            True                  4                       False                           Blanco/Negro           True            False\n",
            "    8731101                            Juego balcón 5 piezas moscu sling           Juego de Living                              False                   MOSCU SLING            True                  4                       False                                  Negro          False            False\n",
            "    8731136                         Juego balcón pleg 3 piezas cambridge           Juego de Balcón                               True                  535.0100.001           False                  2                       False                                   Café          False            False\n",
            "    8731144                        Juego balcón 3 piezas cannon Plateado           Juego de Balcón                               True                        Cannon            True                  2                       False                               Plateado           True            False\n",
            "    8731152                        Juego balcón mecd 3 piezas south male           Juego de Living                              False                  545.0000.000           False                  2                       False                                   Gris          False            False\n",
            "    8731160              Juego de comedor de terraza 6 piezas country II          Juego de Comedor                               True                       Country            True                  4                       False                             Multicolor          False            False\n",
            "    8732892                 Juego de comedor de terraza 6 piezas country          Juego de Comedor                               True                       COUNTRY            True                  4                       False                             Multicolor          False            False\n",
            "    8733244         Juego de living de terraza 4 personas palawan acacia           Juego de Living                               True                       Palawan            True                  4                        True                                 Madera          False            False\n",
            "    8790124                        Juego balcón mosaico Curaiva 3 piezas                       NaN                              False                           NaN           False                  0                       False                                    NaN          False            False\n",
            "    8790132                                       Juego comedor 6 piezas                       NaN                              False                           NaN           False                  0                       False                                    NaN          False            False\n",
            "    8841306                        Set 2 sillas mosaico Japón Multicolor           Juego de Balcón                              False                       Mosaico            True                  1                       False                             Multicolor           True            False\n",
            "    8841314                               Set 2 sillas mosaico grace bay           Juego de Balcón                              False                       Mosaico            True                  1                       False                             Multicolor          False            False\n",
            "    8841586                                Jgo balcón capuccion 3pz choc           Juego de Balcón                               True                     Capuccino           False                  2                       False                                   Café          False            False\n",
            "    8841594                               Jgo balcón capuccino 3 pz Azul           Juego de Balcón                               True                     CAPUCCINO            True                  2                       False                                   Azul           True            False\n",
            "    8841667        Juego de living de terraza 4 personas florencia beige           Juego de Living                               True                     Florencia            True                  4                        True                                  Beige           True             True\n",
            "    8841721              Juego de living seccional de terraza palma gris           Juego de Living                               True                         Palma            True                  4                       False                                   Gris           True            False\n",
            "    8841748           Juego de living de terraza 5 personas genova beige           Juego de Living                               True                        Genova            True                  5                        True                                  Beige           True             True\n",
            "    8841756        Juego de living de terraza 5 personas andalucia beige           Juego de Living                               True                     Andalucia            True                  5                        True                                  Beige           True             True\n",
            "    8841772                  Juego de living de terraza 6 personas ibiza           Juego de Living                               True                         Ibiza            True                  6                        True                       Café claro/beige          False            False\n",
            "    8841780           Juego de comedor de terrazas 4 personas niza beige           Juego de Balcón                              False                          Niza            True                  4                        True                                  Beige           True            False\n",
            "    8841799               Juego de living de terraza 4 personas valencia           Juego de Living                               True                      Valencia            True                  4                        True                                  Beige          False            False\n",
            "    8841802                           Jgo balcon 2 personas genova Beige           Juego de Balcón                               True                        Genova            True                  2                        True                                  Beige           True             True\n",
            "    8841810                Juego de comedor de terraza 8 personas boston          Juego de Comedor                               True                        Boston            True                  8                        True                      Café oscuro/beige          False            False\n",
            "    8841829                Silla bar de terraza resina montpellier negro              Juego de Bar                               True                   Montpellier            True                  1                       False                                  Negro           True            False\n",
            "    8841837 Juego de living seccional de terraza saigon 5 personas beige           Juego de Living                               True                        Saigon            True                  5                        True                                  Beige           True             True\n",
            "    8841888                  Juego de living de terraza 4 piezas grafito           Juego de Living                               True                        Merano           False                  4                        True                                Grafito           True            False\n",
            "    8841896                             Jgo balcón maceio pz beige Beige           Juego de Balcón                               True                        Maceio            True                  2                       False                                  Beige           True            False\n",
            "    8841918                            Jgo balcón 3pz brujas taupe Taupe           Juego de Balcón                               True                        Brujas            True                  2                       False                                  Taupe           True            False\n",
            "    8841926                              Jgo balcón 3pz brujas azul Azul           Juego de Balcón                               True                        Brujas            True                  2                       False                                   Azul           True            False\n",
            "    8916667                 Juego de comedor de terraza ratán 2 personas          Juego de Comedor                               True                        Rattan           False                  3                       False                           Crema/Madera          False            False\n",
            "    8916675                    Juego de comedor terraza ratan 8 personas          Juego de Comedor                               True                WOODEN SET 441           False                  8                        True                                  Crema          False            False\n",
            "    8919755                Juego de living de terraza 4 personas mendoza           Juego de Balcón                              False                       Mendoza            True                  4                        True                                 Marrón          False            False\n",
            "    8919763              Juego de living de terraza 4 personas sao paulo           Juego de Living                               True                     Sao Paulo            True                  4                        True                                  Crema          False            False\n",
            "    8919798                                Jgo comedor 6 pers Montevideo          Juego de Comedor                               True                    MONTEVIDEO            True                  6                        True                             Gris claro          False            False\n",
            "    8919836        Juego de comedor de terraza 4 personas santiago negro          Juego de Comedor                               True                      Santiago            True                  4                        True                                  Negro           True             True\n",
            "    8963568                                    Juego de balcon dominicos           Juego de Balcón                               True                     DOMINICOS            True                  2                       False                             Café claro          False            False\n",
            "    8963592                               Jgo balcon pleg 3pz cambrid v2           Juego de Balcón                               True                     CAMBRIDGE           False                  2                        True                            Café oscuro          False            False\n",
            "    8963606                                Juego de comedor 6pers madera           Juego de Living                              False                    NP2212013W           False                  4                       False                                Natural          False            False\n",
            "    8963614       Juego de Balcón para Terraza Victoria 2 Personas Negro           Juego de Balcón                               True                      Victoria            True                  2                        True                                  Negro           True             True\n",
            "    8963622     Juego de Bar para Terraza Madera 4 Personas Gris/Natural              Juego de Bar                               True                        Madera            True                  4                        True                           Gris/Natural           True             True\n",
            "    8963630                 Juego de Bar para Terraza 4 Personas Natural              Juego de Bar                               True                     NP2214001           False                  4                        True                                Natural           True            False\n",
            "    8963657      Juego de Comedor para Terraza Madera 6 Personas Natural          Juego de Comedor                               True                        Madera            True                  6                        True                                Natural           True             True\n",
            "    8963673      Juego de Comedor para Terraza Madera 6 Personas Natural          Juego de Comedor                               True                        Madera            True                  6                        True                                Natural           True             True\n",
            "    8963738                 Juego de living de terraza mersil 4 personas           Juego de Living                               True                        MERSIL            True                  4                        True                                  Crema          False            False\n",
            "    8963762                        Juego de balcón de terraza roma negro           Juego de Balcón                               True                          Roma            True                  2                       False                                  Negro           True            False\n",
            "    8963789                       Juego de balcón de terraza roma blanco           Juego de Balcón                               True                          Roma            True                  2                       False                                 Blanco           True            False\n",
            "    8963819                 Juego de Living de Terraza 4 Personas Madera           Juego de Living                               True                     NP2212001           False                  4                        True                                Natural          False            False\n",
            "    8963827                                Juego de comedor 8 pers lucca          Juego de Comedor                               True                         Lucca            True                  8                        True                                Natural          False            False\n",
            "    8963835                                           Juego de bar lucca              Juego de Bar                               True                         Lucca            True                  4                       False                                Natural          False            False\n",
            "    8963843                                  Juego de living 5pers lucca           Juego de Living                               True                         Lucca            True                  5                        True                                Natural          False            False\n",
            "    8963851                                    Juego de comedor gispy v2           Juego de Living                              False                         Gispy            True                  9                       False                                   Café          False            False\n",
            "    8998078                        Juego de balcón 3 piezas Slats madera                       NaN                              False                           NaN           False                  0                       False                                    NaN          False            False\n",
            "    278002X                 Juego de Living de Terraza Cirali 7 Personas           Juego de Living                               True                        Cirali            True                  7                        True              Ratan PE Café, tela beige          False            False\n",
            "    279330X                      Juego de Comedor de Terraza  8 Personas          Juego de Comedor                               True                 COM8PER RALUN           False                  8                        True                             Café Crema          False            False\n",
            "    305215X                  Juego de Living de Terraza Curvo 5 Personas           Juego de Living                               True                   Malla Omega           False                  5                        True                            Blanco/Café          False            False\n",
            "    305229X                      Juego de Comedor de Terraza  6 Personas          Juego de Comedor                               True                       COM-010           False                  6                        True                             Multicolor          False            False\n",
            "    305232X                     Juego de Comedor de Terraza  12 Personas          Juego de Comedor                               True                       Piedras           False                 10                       False                             Multicolor          False            False\n",
            "    331717X       Juego de Living Seccional de Terraza Saigon 6 Personas           Juego de Living                               True                        Saigon            True                  6                        True              Ratan PE café/ tela verde          False            False\n",
            "    331734X                            Juego de Balcón Sidney 2 Personas           Juego de Balcón                               True                        Sidney            True                  2                        True                                   Café          False            False\n",
            "    336528X                                   Juego de balcón 2 personas           Juego de Balcón                               True                          Budu           False                  2                        True                             Gris Claro          False            False\n",
            "    336531X                  Juego de Living de Terraza Pucon 5 Personas           Juego de Living                               True                         Pucon            True                  5                        True                                   Café          False            False\n",
            "    336934X                         Juego de Balcón Cafetería 2 personas           Juego de Living                              False                        SET-01           False                  2                        True                            Negro/Beige          False            False\n",
            "    343544X              Juego de living seccional de terraza 4 personas           Juego de Living                               True                     Seccional            True                  4                        True                            Café Oscuro          False            False\n",
            "    356861X                Juego de Living de Terraza Toronto 5 Personas           Juego de Living                               True                       Toronto            True                  5                        True                           Gris/natural          False            False\n",
            "    368377X                     Juego de Balcón Cozumel Negro 2 personas           Juego de Balcón                               True                 Cozumel Negro            True                  2                        True                                  Negro           True             True\n",
            "    368380X                                Juego de Balcón Mosaico color          Juego de Comedor                              False                Mosaico Fierro           False                  2                       False                                   Azul          False            False\n",
            "    406531X                                   Silla aluminio slat. Plata           Juego de Balcón                              False                        SC-017           False                  1                       False                                  Plata           True            False\n",
            "    552718X                              Jueg de living terraza 4 piezas           Juego de Living                               True                     Melbourne           False                  5                       False                                  Negro          False            False\n",
            "    553478X                       Juego de comedor de terraza 4 personas          Juego de Comedor                               True                      Bruselas           False                  4                        True                          negro/natural          False            False\n",
            "    553481X                           Juego de living terraza 5 personas           Juego de Living                               True                       Cordova           False                  5                        True                                   café          False            False\n",
            "     57001X                                         Mesa circular resina          Juego de Comedor                              False                 Mesa velencia           False                  0                       False                                  Negro          False            False\n",
            "    587047X               Juego de living de terraza west bay 5 personas           Juego de Living                               True                      West bay            True                  5                        True                                   Café          False            False\n",
            "    587050X                    Juego de Balcón Tulum turquesa 2 personas           Juego de Balcón                               True                         Tulum            True                  2                        True                               Turquesa           True             True\n",
            "    589879X                    Juego comedor de terraza caoba 6 personas          Juego de Comedor                               True                   Caral/Caoba           False                  6                        True                                 Blanco          False            False\n",
            "    590000X                       Set mueble terraza Mallorca 2 personas           Juego de Balcón                              False                       NW-SF2P           False                  2                        True                                   Café          False            False\n",
            "    601965X                     Juego de balcón Lombok rattan 2 personas           Juego de Balcón                               True                        Lombok            True                  2                        True                                   Café          False            False\n",
            "    654326X                           Juego de balcón Belgica 2 personas           Juego de Balcón                               True                  S023/STBELGI           False                  2                        True                                   Café          False            False\n",
            "    657453X                        Juego living terraza Fresno chocolate           Juego de Balcón                              False                        FRESNO            True                  4                       False                              CHOCOLATE           True            False\n",
            "    657744X                                  Set balcon nature café Cafe           Juego de Balcón                               True                        Nature            True                  2                       False                                   Cafe           True            False\n",
            "    660305X                                     Set balcón nature marfil           Juego de Living                              False                        NATURE            True                  4                       False                                 Marfil           True            False\n",
            "    719286X               Juego de comedor de terrazas helena 4 personas          Juego de Comedor                               True                          HELE            True                  4                        True                                   Gris          False            False\n",
            "    730725X             Juego de terraza básica arrayán nogal gris perla           Juego de Living                              False                       Arrayan            True                  5                       False                             Gris Perla           True            False\n",
            "    735018X                Set De Mesa Cubierta Menta Y Dos Sillas Eames           Juego de Balcón                              False                     DPKIDS-54           False                  2                       False                                  Menta           True            False\n",
            "    873027X              Juego de comedor de terraza 7 piezas multicolor          Juego de Comedor                               True                        CASSIS           False                  6                       False                             Multicolor           True            False\n",
            "    873044X                               Sillón columpio infantil color           Juego de Balcón                              False                      20189C-B           False                  2                       False                             Multicolor          False            False\n",
            "    873058X             Juego de living de terraza modular 5 piezas pipa           Juego de Living                               True                          Pipa            True                  4                       False                                 Blanco          False            False\n",
            "    873075X                              Juego balcón capuccino 3 piezas           Juego de Balcón                               True                  CAPUCC3PZ-21           False                  2                       False                               Turquesa          False            False\n",
            "    873092X             Juego de balcón terraza sao paulo 3 piezas taupe           Juego de Balcón                               True                     Sao Paulo            True                  2                       False                                  Taupe           True            False\n",
            "    873111X                   Juego de comedor de terrazas 7 piezas pipa          Juego de Comedor                               True                          Pipa            True                  6                       False                                  Beige          False            False\n",
            "    884173X     Juego de comedor de terraza 6 personas munich negro/café          Juego de Comedor                               True                        Munich            True                  6                        True                             Negro/Café           True             True\n",
            "    884187X                     Juego de living terraza sling 4 personas           Juego de Living                               True                         Sling            True                  4                        True                            Café Oscuro          False            False\n",
            "    896386X                                    Juego de comedor reims v2           Juego de Living                              False                         Reims            True                  6                       False                                   Café          False            False\n"
          ]
        }
      ]
    },
    {
      "cell_type": "markdown",
      "source": [
        "<h1>EXPORTING</h1>\n"
      ],
      "metadata": {
        "id": "jgFW48NY71h_"
      }
    },
    {
      "cell_type": "code",
      "source": [
        "# Assuming clean_df is your DataFrame\n",
        "output_file_path = \"/content/drive/MyDrive/Sodimac/ArregloIncongruenciasJuegosJardin/Results2.xlsx\"\n",
        "\n",
        "# Check if the file already exists\n",
        "if os.path.exists(output_file_path):\n",
        "    # Optionally, prompt the user or take appropriate action\n",
        "    print(f\"Warning: The file {output_file_path} already exists. It will be overwritten if the name is not changed.\")\n",
        "else:\n",
        "  # Export the DataFrame to an Excel file\n",
        "  clean_df.to_excel(output_file_path, index=False)\n",
        "  print(f\"DataFrame exported to {output_file_path}\")\n",
        "\n"
      ],
      "metadata": {
        "colab": {
          "base_uri": "https://localhost:8080/"
        },
        "id": "PphHv3Nt784R",
        "outputId": "6c7d8711-e081-468b-9e7b-5f1236b438a5"
      },
      "execution_count": 12,
      "outputs": [
        {
          "output_type": "stream",
          "name": "stdout",
          "text": [
            "DataFrame exported to /content/drive/MyDrive/Sodimac/ArregloIncongruenciasJuegosJardin/Results2.xlsx\n"
          ]
        }
      ]
    }
  ]
}