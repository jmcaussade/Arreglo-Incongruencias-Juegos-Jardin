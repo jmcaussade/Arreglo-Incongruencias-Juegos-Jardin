{
  "nbformat": 4,
  "nbformat_minor": 0,
  "metadata": {
    "colab": {
      "provenance": [],
      "authorship_tag": "ABX9TyPoZW53eDpc3fk95JoK2LJy",
      "include_colab_link": true
    },
    "kernelspec": {
      "name": "python3",
      "display_name": "Python 3"
    },
    "language_info": {
      "name": "python"
    }
  },
  "cells": [
    {
      "cell_type": "markdown",
      "metadata": {
        "id": "view-in-github",
        "colab_type": "text"
      },
      "source": [
        "<a href=\"https://colab.research.google.com/github/jmcaussade/Arreglo-Incongruencias-Juegos-Jardin/blob/main/Incongruencias_Michel_all_bricks.ipynb\" target=\"_parent\"><img src=\"https://colab.research.google.com/assets/colab-badge.svg\" alt=\"Open In Colab\"/></a>"
      ]
    },
    {
      "cell_type": "code",
      "source": [
        "!pip install xlsxwriter\n",
        "!pip install matplotlib"
      ],
      "metadata": {
        "colab": {
          "base_uri": "https://localhost:8080/"
        },
        "id": "upbHWmD8wFNQ",
        "outputId": "a077246b-f1e6-4275-acb1-b29c4d0076c3"
      },
      "execution_count": 2,
      "outputs": [
        {
          "output_type": "stream",
          "name": "stdout",
          "text": [
            "Requirement already satisfied: xlsxwriter in /usr/local/lib/python3.10/dist-packages (3.1.9)\n",
            "Requirement already satisfied: matplotlib in /usr/local/lib/python3.10/dist-packages (3.7.1)\n",
            "Requirement already satisfied: contourpy>=1.0.1 in /usr/local/lib/python3.10/dist-packages (from matplotlib) (1.2.0)\n",
            "Requirement already satisfied: cycler>=0.10 in /usr/local/lib/python3.10/dist-packages (from matplotlib) (0.12.1)\n",
            "Requirement already satisfied: fonttools>=4.22.0 in /usr/local/lib/python3.10/dist-packages (from matplotlib) (4.47.2)\n",
            "Requirement already satisfied: kiwisolver>=1.0.1 in /usr/local/lib/python3.10/dist-packages (from matplotlib) (1.4.5)\n",
            "Requirement already satisfied: numpy>=1.20 in /usr/local/lib/python3.10/dist-packages (from matplotlib) (1.23.5)\n",
            "Requirement already satisfied: packaging>=20.0 in /usr/local/lib/python3.10/dist-packages (from matplotlib) (23.2)\n",
            "Requirement already satisfied: pillow>=6.2.0 in /usr/local/lib/python3.10/dist-packages (from matplotlib) (9.4.0)\n",
            "Requirement already satisfied: pyparsing>=2.3.1 in /usr/local/lib/python3.10/dist-packages (from matplotlib) (3.1.1)\n",
            "Requirement already satisfied: python-dateutil>=2.7 in /usr/local/lib/python3.10/dist-packages (from matplotlib) (2.8.2)\n",
            "Requirement already satisfied: six>=1.5 in /usr/local/lib/python3.10/dist-packages (from python-dateutil>=2.7->matplotlib) (1.16.0)\n"
          ]
        }
      ]
    },
    {
      "cell_type": "code",
      "source": [
        "import pandas as pd\n",
        "import xlsxwriter\n",
        "import unicodedata\n",
        "import matplotlib\n",
        "\n",
        "def generate_colors(n):\n",
        "    \"\"\"Generate n distinct colors.\"\"\"\n",
        "    cmap = matplotlib.colormaps['tab20']\n",
        "    return [matplotlib.colors.to_hex(cmap(i/n)) for i in range(n)]\n",
        "\n",
        "def normalizar_texto(texto):\n",
        "    texto = texto.lower()\n",
        "    texto = unicodedata.normalize('NFD', texto).encode('ascii', 'ignore').decode(\"utf-8\")\n",
        "    return texto\n",
        "\n",
        "###################################\n",
        "##CAMBIAR NOMBRE ARCHIVO ENTRADA###\n",
        "archivo_excel = 'Analisis.xlsx'\n",
        "\n",
        "###################################\n",
        "##CAMBIAR NOMBRE HOJA DE TRABAJO###\n",
        "df = pd.read_excel(archivo_excel, sheet_name='Hoja1')\n",
        "\n",
        "excluir_columnas = [\"<ID>\", \"SKU - Chile\", \"Jefe de Línea\", 'Descripción Web', '<Name>', \"Marca\", \"Origen\", \"<Parent ID>\"]\n",
        "\n",
        "# Generate colors for initial columns\n",
        "initial_col_count = len(df.columns) - len(excluir_columnas)\n",
        "colores_columnas = generate_colors(initial_col_count)\n",
        "\n",
        "for i, col in enumerate(df.columns):\n",
        "    if col not in excluir_columnas:\n",
        "        insert_position = df.columns.get_loc(col) + 1\n",
        "        col_aparece = f\"{col} aparece\"\n",
        "        df.insert(insert_position, col_aparece, df.apply(lambda row: normalizar_texto(str(row[col])) in\n",
        "                                                        normalizar_texto(str(row['<Name>'])) or\n",
        "                                                        normalizar_texto(str(row[col])) in\n",
        "                                                        normalizar_texto(str(row['Descripción Web'])), axis=1))\n",
        "\n",
        "# ##################################\n",
        "# ##CALCULATE ERROR PERCENTAGE####\n",
        "# ##################################\n",
        "\n",
        "# Identify Boolean columns (those with 'aparece' in their name)\n",
        "boolean_columns = [col for col in df.columns if 'aparece' in col]\n",
        "\n",
        "# Calculate the error percentage for each row\n",
        "df['Error percentage'] = df[boolean_columns].apply(lambda row: (len(boolean_columns) - row.sum()) / len(boolean_columns), axis=1)\n",
        "\n",
        "\n",
        "\n",
        "##################################\n",
        "##CAMBIAR NOMBRE ARCHIVO SALIDA###\n",
        "archivo_salida = 'test_codigo1.xlsx'\n",
        "##################################\n",
        "\n",
        "writer = pd.ExcelWriter(archivo_salida, engine='xlsxwriter')\n",
        "df.to_excel(writer, sheet_name='Sheet1', index=False)\n",
        "\n",
        "workbook = writer.book\n",
        "worksheet = writer.sheets['Sheet1']\n",
        "\n",
        "format_verdadero = workbook.add_format({'bg_color': '#C6EFCE', 'font_color': '#006100'})\n",
        "format_falso = workbook.add_format({'bg_color': '#FFC7CE', 'font_color': '#9C0006'})\n",
        "\n",
        "for col_num, value in enumerate(df.columns.values):\n",
        "    if value not in excluir_columnas and 'aparece' not in value:\n",
        "        color_index = (col_num // 2) % len(colores_columnas)  # Cycle through colors\n",
        "        cell_format = workbook.add_format({'bg_color': colores_columnas[color_index]})\n",
        "        worksheet.set_column(col_num, col_num, None, cell_format)\n",
        "    elif 'aparece' in value:\n",
        "        # Apply conditional formatting for 'VERDADERO' (True) and 'FALSO' (False)\n",
        "        worksheet.conditional_format(1, col_num, len(df), col_num,\n",
        "                                     {'type': 'cell',\n",
        "                                      'criteria': '=',\n",
        "                                      'value': True,\n",
        "                                      'format': format_verdadero})\n",
        "        worksheet.conditional_format(1, col_num, len(df), col_num,\n",
        "                                     {'type': 'cell',\n",
        "                                      'criteria': '=',\n",
        "                                      'value': False,\n",
        "                                      'format': format_falso})\n",
        "\n",
        "writer.close()\n",
        "print(f\"Se ha exportado el DataFrame con formato a '{archivo_salida}'.\")\n",
        "\n"
      ],
      "metadata": {
        "colab": {
          "base_uri": "https://localhost:8080/"
        },
        "id": "EzmDpPJewGD3",
        "outputId": "f33aec4e-2fae-4440-e612-a92d0d998ac2"
      },
      "execution_count": 6,
      "outputs": [
        {
          "output_type": "stream",
          "name": "stdout",
          "text": [
            "Se ha exportado el DataFrame con formato a 'test_codigo1.xlsx'.\n"
          ]
        }
      ]
    }
  ]
}