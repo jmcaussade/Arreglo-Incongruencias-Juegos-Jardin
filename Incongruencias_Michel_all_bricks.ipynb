{
  "nbformat": 4,
  "nbformat_minor": 0,
  "metadata": {
    "colab": {
      "provenance": [],
      "authorship_tag": "ABX9TyORTFIjh8FVMc7JznJFTTuE",
      "include_colab_link": true
    },
    "kernelspec": {
      "name": "python3",
      "display_name": "Python 3"
    },
    "language_info": {
      "name": "python"
    }
  },
  "cells": [
    {
      "cell_type": "markdown",
      "metadata": {
        "id": "view-in-github",
        "colab_type": "text"
      },
      "source": [
        "<a href=\"https://colab.research.google.com/github/jmcaussade/Arreglo-Incongruencias-Juegos-Jardin/blob/main/Incongruencias_Michel_all_bricks.ipynb\" target=\"_parent\"><img src=\"https://colab.research.google.com/assets/colab-badge.svg\" alt=\"Open In Colab\"/></a>"
      ]
    },
    {
      "cell_type": "markdown",
      "source": [
        "<h1>Código con folder de archivos</h1>\n"
      ],
      "metadata": {
        "id": "AepbxYikWkot"
      }
    },
    {
      "cell_type": "code",
      "source": [
        "!pip install xlsxwriter\n",
        "!pip install matplotlib"
      ],
      "metadata": {
        "id": "GcI5wAXlWYvg",
        "colab": {
          "base_uri": "https://localhost:8080/"
        },
        "outputId": "5c2411e2-0a9d-44a2-f056-e8f0f376d8a9"
      },
      "execution_count": null,
      "outputs": [
        {
          "output_type": "stream",
          "name": "stdout",
          "text": [
            "Requirement already satisfied: xlsxwriter in /usr/local/lib/python3.10/dist-packages (3.1.9)\n",
            "Requirement already satisfied: matplotlib in /usr/local/lib/python3.10/dist-packages (3.7.1)\n",
            "Requirement already satisfied: contourpy>=1.0.1 in /usr/local/lib/python3.10/dist-packages (from matplotlib) (1.2.0)\n",
            "Requirement already satisfied: cycler>=0.10 in /usr/local/lib/python3.10/dist-packages (from matplotlib) (0.12.1)\n",
            "Requirement already satisfied: fonttools>=4.22.0 in /usr/local/lib/python3.10/dist-packages (from matplotlib) (4.47.2)\n",
            "Requirement already satisfied: kiwisolver>=1.0.1 in /usr/local/lib/python3.10/dist-packages (from matplotlib) (1.4.5)\n",
            "Requirement already satisfied: numpy>=1.20 in /usr/local/lib/python3.10/dist-packages (from matplotlib) (1.23.5)\n",
            "Requirement already satisfied: packaging>=20.0 in /usr/local/lib/python3.10/dist-packages (from matplotlib) (23.2)\n",
            "Requirement already satisfied: pillow>=6.2.0 in /usr/local/lib/python3.10/dist-packages (from matplotlib) (9.4.0)\n",
            "Requirement already satisfied: pyparsing>=2.3.1 in /usr/local/lib/python3.10/dist-packages (from matplotlib) (3.1.1)\n",
            "Requirement already satisfied: python-dateutil>=2.7 in /usr/local/lib/python3.10/dist-packages (from matplotlib) (2.8.2)\n",
            "Requirement already satisfied: six>=1.5 in /usr/local/lib/python3.10/dist-packages (from python-dateutil>=2.7->matplotlib) (1.16.0)\n"
          ]
        }
      ]
    },
    {
      "cell_type": "code",
      "source": [
        "import os\n",
        "import pandas as pd\n",
        "import xlsxwriter\n",
        "import unicodedata\n",
        "import matplotlib\n",
        "import numpy as np\n",
        "from glob import glob\n",
        "import zipfile\n",
        "import shutil\n",
        "\n",
        "# Functions\n",
        "def generate_colors(n):\n",
        "    \"\"\"Generate n distinct colors.\"\"\"\n",
        "    cmap = matplotlib.colormaps['tab20']\n",
        "    return [matplotlib.colors.to_hex(cmap(i/n)) for i in range(n)]\n",
        "\n",
        "def normalizar_texto(texto):\n",
        "    \"\"\"Normalize text - convert to lowercase and remove accents.\"\"\"\n",
        "    texto = texto.lower()\n",
        "    texto = texto.replace(\",\", \"\")\n",
        "    texto = texto.replace(\".\", \"\")\n",
        "    texto = unicodedata.normalize('NFD', texto).encode('ascii', 'ignore').decode(\"utf-8\")\n",
        "    return texto\n",
        "\n",
        "# Define the path of the uploaded zip file\n",
        "zip_file_path = 'Excel_Bricks.zip'  # Replace with the actual path\n",
        "\n",
        "# Define the target folder where you want to unzip\n",
        "target_folder = 'unzipped_folder'  # Replace with your desired target folder path\n",
        "\n",
        "# Unzip the folder\n",
        "with zipfile.ZipFile(zip_file_path, 'r') as zip_ref:\n",
        "    zip_ref.extractall(target_folder)\n",
        "\n",
        "# Use the unzipped folder as input_folder and create the output folder within it\n",
        "input_folder = os.path.join(target_folder, 'Excel_Bricks')\n",
        "output_folder = os.path.join(target_folder, 'Excel_Bricks_Clean')\n",
        "os.makedirs(output_folder, exist_ok=True)\n",
        "\n",
        "# Get a list of all Excel files in the input folder\n",
        "excel_files = glob(os.path.join(input_folder, '*.xlsx'))\n",
        "print(f\"excel_files: {excel_files}\")\n",
        "\n",
        "# Create a list to store summary data for each Excel file\n",
        "summary_data_list = []\n",
        "\n",
        "# Create a DataFrame to hold the summary data\n",
        "summary_df = pd.DataFrame()\n",
        "\n",
        "# Create a DataFrame to store boolean column values for all files\n",
        "all_boolean_values_df = pd.DataFrame()\n",
        "\n",
        "for excel_file in excel_files:\n",
        "    print(excel_file)\n",
        "    # Read Excel File\n",
        "    df = pd.read_excel(excel_file, sheet_name='Hoja1', dtype=str)\n",
        "\n",
        "    # Preprocessing: Convert all columns to string, handle NaN values, and strip leading/trailing white spaces\n",
        "    df = df.applymap(lambda x: 'NaN' if pd.isna(x) else str(x).strip() if isinstance(x, str) else str(x))\n",
        "\n",
        "    # Define columns to exclude\n",
        "    excluir_columnas = [\"<ID>\", \"SKU - Chile\", \"Jefe de Línea\", 'Descripción Web', '<Name>', \"Marca\", \"Origen\", \"<Parent ID>\"]\n",
        "\n",
        "    # Generate colors for columns\n",
        "    initial_col_count = max(len(df.columns) - len(excluir_columnas), 1)\n",
        "    colores_columnas = generate_colors(initial_col_count)\n",
        "\n",
        "    # Process DataFrame\n",
        "    for i, col in enumerate(df.columns):\n",
        "        if col not in excluir_columnas:\n",
        "            insert_position = df.columns.get_loc(col) + 1\n",
        "            col_aparece = f\"{col} aparece\"\n",
        "\n",
        "            def calculate_aparece(row):\n",
        "                value = normalizar_texto(str(row[col]))\n",
        "                if value in normalizar_texto(str(row['<Name>'])) or value in normalizar_texto(str(row['Descripción Web'])):\n",
        "                    return 1  # Convert True to integer 1\n",
        "                else:\n",
        "                    return 0\n",
        "\n",
        "            df[col_aparece] = df.apply(calculate_aparece, axis=1)\n",
        "\n",
        "    # Fill NaN values with 0 in boolean columns\n",
        "    boolean_columns = [col for col in df.columns if 'aparece' in col]\n",
        "    df[boolean_columns] = df[boolean_columns].fillna(0).astype(int)\n",
        "\n",
        "    # Calculate Row-wise Error Percentage\n",
        "    df['Porcentaje correctitud (Row)'] = df[boolean_columns].apply(lambda row: (row.sum() * 100) / len(row), axis=1)\n",
        "\n",
        "    # Create a DataFrame to hold the error percentages by column\n",
        "    error_percentages_col = pd.DataFrame({col: [(df[col].sum() * 100) / len(df[col])] for col in boolean_columns})\n",
        "\n",
        "    # Save the exported file in the output folder with a unique name\n",
        "    output_file = os.path.join(output_folder, f'result_{os.path.basename(excel_file)}')\n",
        "    writer = pd.ExcelWriter(output_file, engine='xlsxwriter')\n",
        "    df.to_excel(writer, sheet_name='Sheet1', index=False)\n",
        "\n",
        "    # Formatting and other code for this file...\n",
        "    # Formatting\n",
        "    workbook = writer.book\n",
        "    worksheet = writer.sheets['Sheet1']\n",
        "    format_verdadero = workbook.add_format({'bg_color': '#C6EFCE', 'font_color': '#006100'})\n",
        "    format_falso = workbook.add_format({'bg_color': '#FFC7CE', 'font_color': '#9C0006'})\n",
        "    format_yellow = workbook.add_format({'bg_color': 'yellow'})\n",
        "    integer_format = workbook.add_format({'num_format': '0'})\n",
        "\n",
        "    # Apply the integer format to numeric columns\n",
        "    for col_num, col_name in enumerate(df.columns):\n",
        "        if col_name not in excluir_columnas:\n",
        "            if df[col_name].dtype == 'int64':  # Check if the column contains integers\n",
        "                worksheet.set_column(col_num, col_num, None, integer_format)\n",
        "\n",
        "    for col_num, value in enumerate(df.columns.values):\n",
        "        if value not in excluir_columnas and 'aparece' not in value:\n",
        "            color_index = (col_num // 2) % len(colores_columnas)\n",
        "            cell_format = workbook.add_format({'bg_color': colores_columnas[color_index]})\n",
        "            worksheet.set_column(col_num, col_num, None, cell_format)\n",
        "        elif 'aparece' in value:\n",
        "            worksheet.conditional_format(1, col_num, len(df), col_num,\n",
        "                                        {'type': 'cell',\n",
        "                                          'criteria': '=',\n",
        "                                          'value': 1,  # Use integer 1 instead of True\n",
        "                                          'format': format_verdadero})\n",
        "            worksheet.conditional_format(1, col_num, len(df), col_num,\n",
        "                                        {'type': 'cell',\n",
        "                                          'criteria': '=',\n",
        "                                          'value': 0,  # Use integer 0 instead of False\n",
        "                                          'format': format_falso})\n",
        "\n",
        "    # Find the index of the first boolean column\n",
        "    first_boolean_col_index = df.columns.get_loc(boolean_columns[0])\n",
        "\n",
        "    # Add Error Percentages by Column starting from the first boolean column\n",
        "    for i, col in enumerate(boolean_columns):\n",
        "        col_offset = first_boolean_col_index + i  # Calculate the column offset\n",
        "        for j, value in enumerate(error_percentages_col[col].values):\n",
        "            worksheet.write(len(df) + 1 + j, col_offset, value if not np.isnan(value) else \"NaN\")\n",
        "\n",
        "    # Add \"Error Percentage by Attribute\" in the first cell of the row after the data ends\n",
        "    worksheet.write(len(df) + 1, 0, \"Porcentaje correctitud por Attribute\")\n",
        "\n",
        "    # Calculate and add \"Porcentaje correctitud Brick\"\n",
        "    total_rows = len(df)\n",
        "    num_100_appearances = (df['Porcentaje correctitud (Row)'] == 100).sum()\n",
        "    porcentaje_correctitud_brick = (num_100_appearances * 100) / total_rows\n",
        "    worksheet.write(len(df) + 2, 0, \"Porcentaje correctitud Brick\")\n",
        "    worksheet.write(len(df) + 2, first_boolean_col_index, porcentaje_correctitud_brick, format_yellow)\n",
        "\n",
        "    # Close and save Excel writer for this file\n",
        "    writer.close()\n",
        "\n",
        "    # Calculate summary data for this Excel file\n",
        "    summary_data = {\n",
        "        'Brick Name': os.path.basename(excel_file),\n",
        "        **{f'Value {i + 1}': value for i, value in enumerate(error_percentages_col.iloc[0])},\n",
        "        'Porcentaje correctitud (Row)': df['Porcentaje correctitud (Row)'].mean(),\n",
        "        'Porcentaje correctitud Brick': porcentaje_correctitud_brick\n",
        "    }\n",
        "\n",
        "    summary_data_list.append(summary_data)\n",
        "\n",
        "    # Append boolean column values to the DataFrame for all files\n",
        "    all_boolean_values_df = pd.concat([all_boolean_values_df, df[boolean_columns]], axis=1)\n",
        "\n",
        "\n",
        "# Create a DataFrame from the summary data list\n",
        "summary_df = pd.DataFrame(summary_data_list)\n",
        "\n",
        "# Calculate the average of \"Value...\" columns for each file and add it to the \"Summary\" Excel file\n",
        "summary_df['Average Value Columns (Attr)'] = summary_df.filter(like='Value').mean(axis=1)\n",
        "\n",
        "# Create the \"Summary\" Excel file\n",
        "summary_excel_file = os.path.join(output_folder, 'Summary.xlsx')\n",
        "with pd.ExcelWriter(summary_excel_file, engine='xlsxwriter') as summary_writer:\n",
        "    # Write the summary DataFrame to the \"Summary\" Excel file\n",
        "    summary_df.to_excel(summary_writer, sheet_name='Summary', index=False)\n",
        "\n",
        "# End of loop through Excel files\n",
        "print(\"All files processed and saved in the output folder.\")\n",
        "\n",
        "# Zip the entire output folder\n",
        "shutil.make_archive(output_folder, 'zip', output_folder)\n",
        "\n",
        "print(f\"Output folder zipped as {output_folder}.zip\")"
      ],
      "metadata": {
        "id": "R2zDbOkmW60t",
        "colab": {
          "base_uri": "https://localhost:8080/"
        },
        "outputId": "a0efede5-5249-4239-f78d-8ea00da2541e"
      },
      "execution_count": 76,
      "outputs": [
        {
          "output_type": "stream",
          "name": "stdout",
          "text": [
            "excel_files: ['unzipped_folder/Excel_Bricks/AguaEmbotellada 0232.xlsx', 'unzipped_folder/Excel_Bricks/Hornillas 1951.xlsx', 'unzipped_folder/Excel_Bricks/ArticulosCabello Elctricos 0828.xlsx', 'unzipped_folder/Excel_Bricks/RefrigeradorVinos 1939.xlsx', 'unzipped_folder/Excel_Bricks/Lavadoras 1959 1.xlsx', 'unzipped_folder/Excel_Bricks/Tiendas 2069.xlsx', 'unzipped_folder/Excel_Bricks/Tostadoras 1967.xlsx', 'unzipped_folder/Excel_Bricks/Cocina 3690.xlsx', 'unzipped_folder/Excel_Bricks/Lavavajillas 1964.xlsx', 'unzipped_folder/Excel_Bricks/Hornos 1950.xlsx', 'unzipped_folder/Excel_Bricks/LavadorasSecadoras 1961.xlsx', 'unzipped_folder/Excel_Bricks/Secadoras 3692.xlsx', 'unzipped_folder/Excel_Bricks/Proyectores 1492.xlsx', 'unzipped_folder/Excel_Bricks/Hidrolavadoras 3375.xlsx', 'unzipped_folder/Excel_Bricks/Elevadores 3679.xlsx', 'unzipped_folder/Excel_Bricks/Tablas para cortar 2147.xlsx', 'unzipped_folder/Excel_Bricks/Televisores 1400.xlsx', 'unzipped_folder/Excel_Bricks/Campana cocina 5322.xlsx', 'unzipped_folder/Excel_Bricks/BandejasServir 2159.xlsx', 'unzipped_folder/Excel_Bricks/Sacos de dormir 2080.xlsx', 'unzipped_folder/Excel_Bricks/Ambientadores 0402.xlsx', 'unzipped_folder/Excel_Bricks/Arena (Hagalo usted mismo) 3897.xlsx', 'unzipped_folder/Excel_Bricks/Ollas (No eléctricas) 0491.xlsx', 'unzipped_folder/Excel_Bricks/Cemento 2526.xlsx']\n",
            "unzipped_folder/Excel_Bricks/AguaEmbotellada 0232.xlsx\n",
            "unzipped_folder/Excel_Bricks/Hornillas 1951.xlsx\n",
            "unzipped_folder/Excel_Bricks/ArticulosCabello Elctricos 0828.xlsx\n",
            "unzipped_folder/Excel_Bricks/RefrigeradorVinos 1939.xlsx\n",
            "unzipped_folder/Excel_Bricks/Lavadoras 1959 1.xlsx\n",
            "unzipped_folder/Excel_Bricks/Tiendas 2069.xlsx\n",
            "unzipped_folder/Excel_Bricks/Tostadoras 1967.xlsx\n",
            "unzipped_folder/Excel_Bricks/Cocina 3690.xlsx\n",
            "unzipped_folder/Excel_Bricks/Lavavajillas 1964.xlsx\n",
            "unzipped_folder/Excel_Bricks/Hornos 1950.xlsx\n",
            "unzipped_folder/Excel_Bricks/LavadorasSecadoras 1961.xlsx\n",
            "unzipped_folder/Excel_Bricks/Secadoras 3692.xlsx\n",
            "unzipped_folder/Excel_Bricks/Proyectores 1492.xlsx\n",
            "unzipped_folder/Excel_Bricks/Hidrolavadoras 3375.xlsx\n",
            "unzipped_folder/Excel_Bricks/Elevadores 3679.xlsx\n",
            "unzipped_folder/Excel_Bricks/Tablas para cortar 2147.xlsx\n",
            "unzipped_folder/Excel_Bricks/Televisores 1400.xlsx\n",
            "unzipped_folder/Excel_Bricks/Campana cocina 5322.xlsx\n",
            "unzipped_folder/Excel_Bricks/BandejasServir 2159.xlsx\n",
            "unzipped_folder/Excel_Bricks/Sacos de dormir 2080.xlsx\n",
            "unzipped_folder/Excel_Bricks/Ambientadores 0402.xlsx\n",
            "unzipped_folder/Excel_Bricks/Arena (Hagalo usted mismo) 3897.xlsx\n",
            "unzipped_folder/Excel_Bricks/Ollas (No eléctricas) 0491.xlsx\n",
            "unzipped_folder/Excel_Bricks/Cemento 2526.xlsx\n",
            "All files processed and saved in the output folder.\n",
            "Output folder zipped as unzipped_folder/Excel_Bricks_Clean.zip\n"
          ]
        }
      ]
    },
    {
      "cell_type": "markdown",
      "source": [
        "<h1> DELETE ALL FILES IN CURRENT SESSION</h1>"
      ],
      "metadata": {
        "id": "knm_IDQrpOQP"
      }
    },
    {
      "cell_type": "code",
      "source": [
        "import os\n",
        "import shutil\n",
        "\n",
        "# Function to delete a file or folder recursively\n",
        "def delete_file_or_folder(path):\n",
        "    if os.path.isfile(path):\n",
        "        os.remove(path)\n",
        "    elif os.path.isdir(path):\n",
        "        shutil.rmtree(path)\n",
        "\n",
        "# Specify the directory to start deleting from (current working directory)\n",
        "start_directory = '/content'\n",
        "\n",
        "# List all files and folders in the specified directory\n",
        "for root, dirs, files in os.walk(start_directory, topdown=False):\n",
        "    for file in files:\n",
        "        file_path = os.path.join(root, file)\n",
        "        delete_file_or_folder(file_path)\n",
        "    for dir in dirs:\n",
        "        dir_path = os.path.join(root, dir)\n",
        "        delete_file_or_folder(dir_path)\n",
        "\n",
        "print(\"All files and folders in the current session have been deleted.\")\n"
      ],
      "metadata": {
        "colab": {
          "base_uri": "https://localhost:8080/"
        },
        "id": "e_kB0S8WpX7O",
        "outputId": "6f811e2c-cad6-4a32-a284-7ccdaf743fca"
      },
      "execution_count": 75,
      "outputs": [
        {
          "output_type": "stream",
          "name": "stdout",
          "text": [
            "All files and folders in the current session have been deleted.\n"
          ]
        }
      ]
    },
    {
      "cell_type": "markdown",
      "source": [
        "<h1>DISPLAY FILE </h1>\n"
      ],
      "metadata": {
        "id": "eygwPSC8JOkZ"
      }
    },
    {
      "cell_type": "code",
      "source": [
        "import pandas as pd\n",
        "\n",
        "# Replace 'your_excel_file.xlsx' with the path to your Excel file\n",
        "# and 'Sheet1' with the name of the sheet you want to display\n",
        "\n",
        "file_path = 'unzipped_folder/Excel_Bricks_Clean/result_Analisis.xlsx'\n",
        "sheet_name = 'Sheet1'\n",
        "# file_path = 'Analisis.xlsx'\n",
        "# sheet_name = 'Hoja1'\n",
        "\n",
        "\n",
        "df = pd.read_excel(file_path, sheet_name=sheet_name)\n",
        "\n",
        "# Display the DataFrame\n",
        "# You can use df.head() to display the first few rows\n",
        "# or df to display the entire DataFrame (be cautious with large DataFrames)\n",
        "df\n"
      ],
      "metadata": {
        "id": "Nv6MRMYcIfa6"
      },
      "execution_count": null,
      "outputs": []
    }
  ]
}